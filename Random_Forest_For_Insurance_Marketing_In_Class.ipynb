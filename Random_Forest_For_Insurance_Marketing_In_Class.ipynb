{
  "nbformat": 4,
  "nbformat_minor": 0,
  "metadata": {
    "accelerator": "TPU",
    "colab": {
      "name": "Random_Forest_For_Insurance_Marketing_In_Class.ipynb",
      "provenance": [],
      "collapsed_sections": []
    },
    "kernelspec": {
      "display_name": "Python 3",
      "language": "python",
      "name": "python3"
    },
    "language_info": {
      "codemirror_mode": {
        "name": "ipython",
        "version": 3
      },
      "file_extension": ".py",
      "mimetype": "text/x-python",
      "name": "python",
      "nbconvert_exporter": "python",
      "pygments_lexer": "ipython3",
      "version": "3.6.8"
    }
  },
  "cells": [
    {
      "cell_type": "markdown",
      "metadata": {
        "id": "xfcMcr5LTmM_"
      },
      "source": [
        "## Problem statement\n",
        "\n",
        "Abstract: The data is related with direct marketing campaigns (phone calls) of a insurance institution. The classification goal is to predict if the client will buy a new insurance plan (variable Client_Subscribed).\n",
        "\n",
        "\n"
      ]
    },
    {
      "cell_type": "markdown",
      "metadata": {
        "id": "5MRUx_UTDsr4"
      },
      "source": [
        "## Data Description"
      ]
    },
    {
      "cell_type": "markdown",
      "metadata": {
        "id": "WR9n16JjDwRa"
      },
      "source": [
        "Data Set Information: The data is related with direct marketing campaigns of a insurance institution. The marketing campaigns were based on phone calls. Often, more than one contact to the same client was required, in order to access if the product (term insurance) would be ('yes') or not ('no') subscribed.\n",
        "\n",
        "\n",
        "\n",
        "Attribute Information: Insurance client data:\n",
        "\n",
        "Age (numeric)\n",
        "\n",
        "Job: Type of job (categorical: 'admin.', 'blue-collar', 'entrepreneur', 'housemaid', 'management', 'retired', 'self-employed', 'services', 'student', 'technician', 'unemployed', 'unknown')\n",
        "\n",
        "Marital : marital status (categorical: 'divorced', 'married', 'single', 'unknown' ; note: 'divorced' means divorced or widowed)\n",
        "\n",
        "Education(categorical: 'Basic', 'high.school', 'illiterate', 'professional.course', 'university.degree', 'unknown')\n",
        "\n",
        "Default_Premium: has premium in default? (categorical: 'no', 'yes', 'unknown')\n",
        "\n",
        "Health_Insurance: has health insurance? (categorical: 'no', 'yes', 'unknown')\n",
        "\n",
        "General_Insurance: has general insurance? (categorical: 'no', 'yes', 'unknown')\n",
        "\n",
        "Related with the last contact of the current campaign:\n",
        "\n",
        "Contact: contact communication type (categorical: 'cellular','telephone')\n",
        "\n",
        "Month: last contact month of year (categorical: 'jan', 'feb', 'mar', ..., 'nov', 'dec')\n",
        "\n",
        "Last_Contact_Day: last contact day of the week (categorical: 'mon','tue','wed','thu','fri')\n",
        "\n",
        "Last_Contact_Duration: last contact duration, in seconds (numeric). Important note: this attribute highly affects the output target (e.g., if duration=0 then Client_Subscribed='no'). Yet, the duration is not known before a call is performed. Also, after the end of the call y is obviously known. Thus, this input should only be included for benchmark purposes and should be discarded if the intention is to have a realistic predictive model.\n",
        "\n",
        "Other attributes:\n",
        "\n",
        "Contacts_During_Campaign: number of contacts performed during this campaign and for this client (numeric, includes the last contact)\n",
        "\n",
        "Previous_Contact_Days: number of days that passed by after the client was last contacted from a previous campaign (numeric; 999 means the client was not previously contacted)\n",
        "\n",
        "Contacts_Before_Campaign: number of contacts performed before this campaign and for this client (numeric)\n",
        "\n",
        "Previous_outcome: outcome of the previous marketing campaign (categorical: 'failure','nonexistent','success') Social and economic context attributes\n",
        "\n",
        "Employment_Rates: employment variation rate - quarterly indicator (numeric)\n",
        "\n",
        "Price_Variation: consumer price index - monthly indicator (numeric)\n",
        "\n",
        "Consumer_Confidence_Index: consumer confidence index - monthly indicator (numeric)\n",
        "\n",
        "Interest_Rate: Interest Rate - annual percentage rate (numeric)\n",
        "\n",
        "No_Employees: number of employees - quarterly indicator (numeric)\n",
        "\n",
        "Output variable (desired target):\n",
        "\n",
        "Client_Subscribed - has the client will buy a new insurance plan? (binary: 'yes', 'no')\n"
      ]
    },
    {
      "cell_type": "markdown",
      "metadata": {
        "id": "y-d-RYB9oZuy"
      },
      "source": [
        "## Import Libraries"
      ]
    },
    {
      "cell_type": "code",
      "metadata": {
        "id": "tfOREqiwTmM0",
        "colab": {
          "base_uri": "https://localhost:8080/",
          "height": 52
        },
        "outputId": "bb67940f-6e89-4988-d290-c3c04d6ac575"
      },
      "source": [
        "import pandas as pd\n",
        "import numpy as np\n",
        "from sklearn import preprocessing\n",
        "import matplotlib.pyplot as plt \n",
        "from sklearn.model_selection import train_test_split\n",
        "import seaborn as sns\n",
        "sns.set()\n",
        "import warnings\n",
        "warnings.filterwarnings(\"ignore\", category=DeprecationWarning)\n",
        "warnings.filterwarnings(\"ignore\", category=FutureWarning)"
      ],
      "execution_count": null,
      "outputs": [
        {
          "output_type": "stream",
          "text": [
            "/usr/local/lib/python3.6/dist-packages/statsmodels/tools/_testing.py:19: FutureWarning: pandas.util.testing is deprecated. Use the functions in the public API at pandas.testing instead.\n",
            "  import pandas.util.testing as tm\n"
          ],
          "name": "stderr"
        }
      ]
    },
    {
      "cell_type": "markdown",
      "metadata": {
        "id": "u2OR51sfy5Zy"
      },
      "source": [
        "## Load Data"
      ]
    },
    {
      "cell_type": "code",
      "metadata": {
        "id": "Vv-GiCfiz12L",
        "colab": {
          "base_uri": "https://localhost:8080/",
          "height": 126
        },
        "outputId": "b41218f8-635f-4b8a-91f4-9739040706b7"
      },
      "source": [
        "from google.colab import drive\n",
        "drive.mount(\"/content/drive\")"
      ],
      "execution_count": null,
      "outputs": [
        {
          "output_type": "stream",
          "text": [
            "Go to this URL in a browser: https://accounts.google.com/o/oauth2/auth?client_id=947318989803-6bn6qk8qdgf4n4g3pfee6491hc0brc4i.apps.googleusercontent.com&redirect_uri=urn%3aietf%3awg%3aoauth%3a2.0%3aoob&response_type=code&scope=email%20https%3a%2f%2fwww.googleapis.com%2fauth%2fdocs.test%20https%3a%2f%2fwww.googleapis.com%2fauth%2fdrive%20https%3a%2f%2fwww.googleapis.com%2fauth%2fdrive.photos.readonly%20https%3a%2f%2fwww.googleapis.com%2fauth%2fpeopleapi.readonly\n",
            "\n",
            "Enter your authorization code:\n",
            "··········\n",
            "Mounted at /content/drive\n"
          ],
          "name": "stdout"
        }
      ]
    },
    {
      "cell_type": "code",
      "metadata": {
        "id": "cG3I9fFNTmNB",
        "colab": {
          "base_uri": "https://localhost:8080/",
          "height": 72
        },
        "outputId": "d115983d-418b-4ed6-eb92-40965b12084e"
      },
      "source": [
        "df_bank = pd.read_csv('/content/drive/My Drive/Python_Stats/Decision_Trees_and_Random_Forests/2_In-class Exercise/Dataset/Insurance_Marketing.csv',header=0)\n",
        "print(df_bank .shape)\n",
        "print(list(df_bank .columns))"
      ],
      "execution_count": null,
      "outputs": [
        {
          "output_type": "stream",
          "text": [
            "(41188, 21)\n",
            "['Age', 'Job', 'Marital', 'Qualification', 'Default_Premium', 'Health_Insurance', 'General_Insurance', 'Contact', 'Month', 'Last_Contact_Day', 'Last_Contact_Duration', 'Contacts_During_Campaign', 'Previous_Contact_Days', 'Contacts_Before_Campaign', 'Previous_Outcome', 'Employement_Rates', 'Price_Variation', 'Consumer_Confidence_Index', 'Insurance_Rate', 'No_Employees', 'Client_Subscribed']\n"
          ],
          "name": "stdout"
        }
      ]
    },
    {
      "cell_type": "code",
      "metadata": {
        "id": "irerLcpOTmNF",
        "colab": {
          "base_uri": "https://localhost:8080/",
          "height": 360
        },
        "outputId": "d660ce88-f5b1-49e0-8a39-aa1127ce497e"
      },
      "source": [
        "df_bank.head(10)"
      ],
      "execution_count": null,
      "outputs": [
        {
          "output_type": "execute_result",
          "data": {
            "text/html": [
              "<div>\n",
              "<style scoped>\n",
              "    .dataframe tbody tr th:only-of-type {\n",
              "        vertical-align: middle;\n",
              "    }\n",
              "\n",
              "    .dataframe tbody tr th {\n",
              "        vertical-align: top;\n",
              "    }\n",
              "\n",
              "    .dataframe thead th {\n",
              "        text-align: right;\n",
              "    }\n",
              "</style>\n",
              "<table border=\"1\" class=\"dataframe\">\n",
              "  <thead>\n",
              "    <tr style=\"text-align: right;\">\n",
              "      <th></th>\n",
              "      <th>Age</th>\n",
              "      <th>Job</th>\n",
              "      <th>Marital</th>\n",
              "      <th>Qualification</th>\n",
              "      <th>Default_Premium</th>\n",
              "      <th>Health_Insurance</th>\n",
              "      <th>General_Insurance</th>\n",
              "      <th>Contact</th>\n",
              "      <th>Month</th>\n",
              "      <th>Last_Contact_Day</th>\n",
              "      <th>Last_Contact_Duration</th>\n",
              "      <th>Contacts_During_Campaign</th>\n",
              "      <th>Previous_Contact_Days</th>\n",
              "      <th>Contacts_Before_Campaign</th>\n",
              "      <th>Previous_Outcome</th>\n",
              "      <th>Employement_Rates</th>\n",
              "      <th>Price_Variation</th>\n",
              "      <th>Consumer_Confidence_Index</th>\n",
              "      <th>Insurance_Rate</th>\n",
              "      <th>No_Employees</th>\n",
              "      <th>Client_Subscribed</th>\n",
              "    </tr>\n",
              "  </thead>\n",
              "  <tbody>\n",
              "    <tr>\n",
              "      <th>0</th>\n",
              "      <td>56</td>\n",
              "      <td>3</td>\n",
              "      <td>1</td>\n",
              "      <td>0</td>\n",
              "      <td>0</td>\n",
              "      <td>0</td>\n",
              "      <td>0</td>\n",
              "      <td>1</td>\n",
              "      <td>6</td>\n",
              "      <td>1</td>\n",
              "      <td>261</td>\n",
              "      <td>1</td>\n",
              "      <td>999</td>\n",
              "      <td>0</td>\n",
              "      <td>1</td>\n",
              "      <td>1.1</td>\n",
              "      <td>94.159686</td>\n",
              "      <td>-38.173679</td>\n",
              "      <td>3.543298</td>\n",
              "      <td>5074.493963</td>\n",
              "      <td>0</td>\n",
              "    </tr>\n",
              "    <tr>\n",
              "      <th>1</th>\n",
              "      <td>57</td>\n",
              "      <td>7</td>\n",
              "      <td>1</td>\n",
              "      <td>1</td>\n",
              "      <td>1</td>\n",
              "      <td>0</td>\n",
              "      <td>0</td>\n",
              "      <td>1</td>\n",
              "      <td>6</td>\n",
              "      <td>1</td>\n",
              "      <td>149</td>\n",
              "      <td>1</td>\n",
              "      <td>999</td>\n",
              "      <td>0</td>\n",
              "      <td>1</td>\n",
              "      <td>1.1</td>\n",
              "      <td>93.374479</td>\n",
              "      <td>-33.312428</td>\n",
              "      <td>6.013585</td>\n",
              "      <td>5125.221264</td>\n",
              "      <td>0</td>\n",
              "    </tr>\n",
              "    <tr>\n",
              "      <th>2</th>\n",
              "      <td>37</td>\n",
              "      <td>7</td>\n",
              "      <td>1</td>\n",
              "      <td>1</td>\n",
              "      <td>0</td>\n",
              "      <td>2</td>\n",
              "      <td>0</td>\n",
              "      <td>1</td>\n",
              "      <td>6</td>\n",
              "      <td>1</td>\n",
              "      <td>226</td>\n",
              "      <td>1</td>\n",
              "      <td>999</td>\n",
              "      <td>0</td>\n",
              "      <td>1</td>\n",
              "      <td>1.1</td>\n",
              "      <td>94.100629</td>\n",
              "      <td>-51.947349</td>\n",
              "      <td>2.784063</td>\n",
              "      <td>5205.455324</td>\n",
              "      <td>0</td>\n",
              "    </tr>\n",
              "    <tr>\n",
              "      <th>3</th>\n",
              "      <td>40</td>\n",
              "      <td>0</td>\n",
              "      <td>1</td>\n",
              "      <td>0</td>\n",
              "      <td>0</td>\n",
              "      <td>0</td>\n",
              "      <td>0</td>\n",
              "      <td>1</td>\n",
              "      <td>6</td>\n",
              "      <td>1</td>\n",
              "      <td>151</td>\n",
              "      <td>1</td>\n",
              "      <td>999</td>\n",
              "      <td>0</td>\n",
              "      <td>1</td>\n",
              "      <td>1.1</td>\n",
              "      <td>92.772613</td>\n",
              "      <td>-35.624584</td>\n",
              "      <td>4.459237</td>\n",
              "      <td>5096.139930</td>\n",
              "      <td>0</td>\n",
              "    </tr>\n",
              "    <tr>\n",
              "      <th>4</th>\n",
              "      <td>56</td>\n",
              "      <td>7</td>\n",
              "      <td>1</td>\n",
              "      <td>1</td>\n",
              "      <td>0</td>\n",
              "      <td>0</td>\n",
              "      <td>2</td>\n",
              "      <td>1</td>\n",
              "      <td>6</td>\n",
              "      <td>1</td>\n",
              "      <td>307</td>\n",
              "      <td>1</td>\n",
              "      <td>999</td>\n",
              "      <td>0</td>\n",
              "      <td>1</td>\n",
              "      <td>1.1</td>\n",
              "      <td>93.241248</td>\n",
              "      <td>-33.492147</td>\n",
              "      <td>3.988744</td>\n",
              "      <td>5112.681264</td>\n",
              "      <td>0</td>\n",
              "    </tr>\n",
              "    <tr>\n",
              "      <th>5</th>\n",
              "      <td>45</td>\n",
              "      <td>7</td>\n",
              "      <td>1</td>\n",
              "      <td>0</td>\n",
              "      <td>1</td>\n",
              "      <td>0</td>\n",
              "      <td>0</td>\n",
              "      <td>1</td>\n",
              "      <td>6</td>\n",
              "      <td>1</td>\n",
              "      <td>198</td>\n",
              "      <td>1</td>\n",
              "      <td>999</td>\n",
              "      <td>0</td>\n",
              "      <td>1</td>\n",
              "      <td>1.1</td>\n",
              "      <td>94.760295</td>\n",
              "      <td>-38.577362</td>\n",
              "      <td>6.058114</td>\n",
              "      <td>5153.268354</td>\n",
              "      <td>0</td>\n",
              "    </tr>\n",
              "    <tr>\n",
              "      <th>6</th>\n",
              "      <td>59</td>\n",
              "      <td>0</td>\n",
              "      <td>1</td>\n",
              "      <td>3</td>\n",
              "      <td>0</td>\n",
              "      <td>0</td>\n",
              "      <td>0</td>\n",
              "      <td>1</td>\n",
              "      <td>6</td>\n",
              "      <td>1</td>\n",
              "      <td>139</td>\n",
              "      <td>1</td>\n",
              "      <td>999</td>\n",
              "      <td>0</td>\n",
              "      <td>1</td>\n",
              "      <td>1.1</td>\n",
              "      <td>93.625095</td>\n",
              "      <td>-33.671375</td>\n",
              "      <td>3.896024</td>\n",
              "      <td>5250.583878</td>\n",
              "      <td>0</td>\n",
              "    </tr>\n",
              "    <tr>\n",
              "      <th>7</th>\n",
              "      <td>41</td>\n",
              "      <td>1</td>\n",
              "      <td>1</td>\n",
              "      <td>5</td>\n",
              "      <td>1</td>\n",
              "      <td>0</td>\n",
              "      <td>0</td>\n",
              "      <td>1</td>\n",
              "      <td>6</td>\n",
              "      <td>1</td>\n",
              "      <td>217</td>\n",
              "      <td>1</td>\n",
              "      <td>999</td>\n",
              "      <td>0</td>\n",
              "      <td>1</td>\n",
              "      <td>1.1</td>\n",
              "      <td>93.649945</td>\n",
              "      <td>-44.549934</td>\n",
              "      <td>6.820409</td>\n",
              "      <td>5064.645471</td>\n",
              "      <td>0</td>\n",
              "    </tr>\n",
              "    <tr>\n",
              "      <th>8</th>\n",
              "      <td>24</td>\n",
              "      <td>9</td>\n",
              "      <td>2</td>\n",
              "      <td>3</td>\n",
              "      <td>0</td>\n",
              "      <td>2</td>\n",
              "      <td>0</td>\n",
              "      <td>1</td>\n",
              "      <td>6</td>\n",
              "      <td>1</td>\n",
              "      <td>380</td>\n",
              "      <td>1</td>\n",
              "      <td>999</td>\n",
              "      <td>0</td>\n",
              "      <td>1</td>\n",
              "      <td>1.1</td>\n",
              "      <td>93.849526</td>\n",
              "      <td>-40.052307</td>\n",
              "      <td>3.056284</td>\n",
              "      <td>5166.674781</td>\n",
              "      <td>0</td>\n",
              "    </tr>\n",
              "    <tr>\n",
              "      <th>9</th>\n",
              "      <td>25</td>\n",
              "      <td>7</td>\n",
              "      <td>2</td>\n",
              "      <td>1</td>\n",
              "      <td>0</td>\n",
              "      <td>2</td>\n",
              "      <td>0</td>\n",
              "      <td>1</td>\n",
              "      <td>6</td>\n",
              "      <td>1</td>\n",
              "      <td>50</td>\n",
              "      <td>1</td>\n",
              "      <td>999</td>\n",
              "      <td>0</td>\n",
              "      <td>1</td>\n",
              "      <td>1.1</td>\n",
              "      <td>93.456417</td>\n",
              "      <td>-37.959477</td>\n",
              "      <td>3.648408</td>\n",
              "      <td>5193.403261</td>\n",
              "      <td>0</td>\n",
              "    </tr>\n",
              "  </tbody>\n",
              "</table>\n",
              "</div>"
            ],
            "text/plain": [
              "   Age  Job  Marital  ...  Insurance_Rate  No_Employees  Client_Subscribed\n",
              "0   56    3        1  ...        3.543298   5074.493963                  0\n",
              "1   57    7        1  ...        6.013585   5125.221264                  0\n",
              "2   37    7        1  ...        2.784063   5205.455324                  0\n",
              "3   40    0        1  ...        4.459237   5096.139930                  0\n",
              "4   56    7        1  ...        3.988744   5112.681264                  0\n",
              "5   45    7        1  ...        6.058114   5153.268354                  0\n",
              "6   59    0        1  ...        3.896024   5250.583878                  0\n",
              "7   41    1        1  ...        6.820409   5064.645471                  0\n",
              "8   24    9        2  ...        3.056284   5166.674781                  0\n",
              "9   25    7        2  ...        3.648408   5193.403261                  0\n",
              "\n",
              "[10 rows x 21 columns]"
            ]
          },
          "metadata": {
            "tags": []
          },
          "execution_count": 5
        }
      ]
    },
    {
      "cell_type": "code",
      "metadata": {
        "id": "SQfS73YbBfo_",
        "colab": {
          "base_uri": "https://localhost:8080/",
          "height": 35
        },
        "outputId": "6dfae595-1267-4328-9164-8757144e7eef"
      },
      "source": [
        "df_bank.shape"
      ],
      "execution_count": null,
      "outputs": [
        {
          "output_type": "execute_result",
          "data": {
            "text/plain": [
              "(41188, 21)"
            ]
          },
          "metadata": {
            "tags": []
          },
          "execution_count": 6
        }
      ]
    },
    {
      "cell_type": "code",
      "metadata": {
        "id": "2GZyZjFPBgfp",
        "colab": {
          "base_uri": "https://localhost:8080/",
          "height": 266
        },
        "outputId": "35578229-504c-4b31-dc7e-c2a41fe892b6"
      },
      "source": [
        "df_bank.info"
      ],
      "execution_count": null,
      "outputs": [
        {
          "output_type": "execute_result",
          "data": {
            "text/plain": [
              "<bound method DataFrame.info of        Age  Job  Marital  ...  Insurance_Rate  No_Employees  Client_Subscribed\n",
              "0       56    3        1  ...        3.543298   5074.493963                  0\n",
              "1       57    7        1  ...        6.013585   5125.221264                  0\n",
              "2       37    7        1  ...        2.784063   5205.455324                  0\n",
              "3       40    0        1  ...        4.459237   5096.139930                  0\n",
              "4       56    7        1  ...        3.988744   5112.681264                  0\n",
              "...    ...  ...      ...  ...             ...           ...                ...\n",
              "41183   73    5        1  ...        3.115662   5029.956789                  1\n",
              "41184   46    1        1  ...        4.819712   5115.011780                  0\n",
              "41185   56    5        1  ...        2.872091   5159.630226                  0\n",
              "41186   44    9        1  ...        2.170333   5210.336130                  1\n",
              "41187   74    5        1  ...        4.582931   5203.077670                  0\n",
              "\n",
              "[41188 rows x 21 columns]>"
            ]
          },
          "metadata": {
            "tags": []
          },
          "execution_count": 7
        }
      ]
    },
    {
      "cell_type": "code",
      "metadata": {
        "id": "bu1E-pE3BhSx",
        "colab": {
          "base_uri": "https://localhost:8080/",
          "height": 408
        },
        "outputId": "1f34f12a-1285-410b-b80f-fde341f855ff"
      },
      "source": [
        "df_bank.dtypes"
      ],
      "execution_count": null,
      "outputs": [
        {
          "output_type": "execute_result",
          "data": {
            "text/plain": [
              "Age                            int64\n",
              "Job                            int64\n",
              "Marital                        int64\n",
              "Qualification                  int64\n",
              "Default_Premium                int64\n",
              "Health_Insurance               int64\n",
              "General_Insurance              int64\n",
              "Contact                        int64\n",
              "Month                          int64\n",
              "Last_Contact_Day               int64\n",
              "Last_Contact_Duration          int64\n",
              "Contacts_During_Campaign       int64\n",
              "Previous_Contact_Days          int64\n",
              "Contacts_Before_Campaign       int64\n",
              "Previous_Outcome               int64\n",
              "Employement_Rates            float64\n",
              "Price_Variation              float64\n",
              "Consumer_Confidence_Index    float64\n",
              "Insurance_Rate               float64\n",
              "No_Employees                 float64\n",
              "Client_Subscribed              int64\n",
              "dtype: object"
            ]
          },
          "metadata": {
            "tags": []
          },
          "execution_count": 8
        }
      ]
    },
    {
      "cell_type": "markdown",
      "metadata": {
        "id": "9Nu34_qDTmNd"
      },
      "source": [
        "## Exploratory data analysis"
      ]
    },
    {
      "cell_type": "markdown",
      "metadata": {
        "id": "seA2NIdc8RIJ"
      },
      "source": [
        "Let's check, is there any missing value in the dataset?"
      ]
    },
    {
      "cell_type": "code",
      "metadata": {
        "id": "EK_glbjE8KmA",
        "colab": {
          "base_uri": "https://localhost:8080/",
          "height": 408
        },
        "outputId": "0aa50833-803c-4915-95f6-e7757dadc9ac"
      },
      "source": [
        "df_bank.isnull().sum()"
      ],
      "execution_count": null,
      "outputs": [
        {
          "output_type": "execute_result",
          "data": {
            "text/plain": [
              "Age                          0\n",
              "Job                          0\n",
              "Marital                      0\n",
              "Qualification                0\n",
              "Default_Premium              0\n",
              "Health_Insurance             0\n",
              "General_Insurance            0\n",
              "Contact                      0\n",
              "Month                        0\n",
              "Last_Contact_Day             0\n",
              "Last_Contact_Duration        0\n",
              "Contacts_During_Campaign     0\n",
              "Previous_Contact_Days        0\n",
              "Contacts_Before_Campaign     0\n",
              "Previous_Outcome             0\n",
              "Employement_Rates            0\n",
              "Price_Variation              0\n",
              "Consumer_Confidence_Index    0\n",
              "Insurance_Rate               0\n",
              "No_Employees                 0\n",
              "Client_Subscribed            0\n",
              "dtype: int64"
            ]
          },
          "metadata": {
            "tags": []
          },
          "execution_count": 9
        }
      ]
    },
    {
      "cell_type": "code",
      "metadata": {
        "id": "V8HLUynQBxXF",
        "colab": {
          "base_uri": "https://localhost:8080/",
          "height": 488
        },
        "outputId": "72ac7e2c-fe9a-4600-88f4-62742303e1c7"
      },
      "source": [
        "df_bank.corr().style.background_gradient()"
      ],
      "execution_count": null,
      "outputs": [
        {
          "output_type": "execute_result",
          "data": {
            "text/html": [
              "<style  type=\"text/css\" >\n",
              "    #T_9e6e12b0_b39a_11ea_9350_0242ac1c0002row0_col0 {\n",
              "            background-color:  #023858;\n",
              "            color:  #f1f1f1;\n",
              "        }    #T_9e6e12b0_b39a_11ea_9350_0242ac1c0002row0_col1 {\n",
              "            background-color:  #faf3f9;\n",
              "            color:  #000000;\n",
              "        }    #T_9e6e12b0_b39a_11ea_9350_0242ac1c0002row0_col2 {\n",
              "            background-color:  #fff7fb;\n",
              "            color:  #000000;\n",
              "        }    #T_9e6e12b0_b39a_11ea_9350_0242ac1c0002row0_col3 {\n",
              "            background-color:  #f2ecf5;\n",
              "            color:  #000000;\n",
              "        }    #T_9e6e12b0_b39a_11ea_9350_0242ac1c0002row0_col4 {\n",
              "            background-color:  #c6cce3;\n",
              "            color:  #000000;\n",
              "        }    #T_9e6e12b0_b39a_11ea_9350_0242ac1c0002row0_col5 {\n",
              "            background-color:  #f4edf6;\n",
              "            color:  #000000;\n",
              "        }    #T_9e6e12b0_b39a_11ea_9350_0242ac1c0002row0_col6 {\n",
              "            background-color:  #fff7fb;\n",
              "            color:  #000000;\n",
              "        }    #T_9e6e12b0_b39a_11ea_9350_0242ac1c0002row0_col7 {\n",
              "            background-color:  #e0dded;\n",
              "            color:  #000000;\n",
              "        }    #T_9e6e12b0_b39a_11ea_9350_0242ac1c0002row0_col8 {\n",
              "            background-color:  #ebe6f2;\n",
              "            color:  #000000;\n",
              "        }    #T_9e6e12b0_b39a_11ea_9350_0242ac1c0002row0_col9 {\n",
              "            background-color:  #fcf4fa;\n",
              "            color:  #000000;\n",
              "        }    #T_9e6e12b0_b39a_11ea_9350_0242ac1c0002row0_col10 {\n",
              "            background-color:  #f5eff6;\n",
              "            color:  #000000;\n",
              "        }    #T_9e6e12b0_b39a_11ea_9350_0242ac1c0002row0_col11 {\n",
              "            background-color:  #f4edf6;\n",
              "            color:  #000000;\n",
              "        }    #T_9e6e12b0_b39a_11ea_9350_0242ac1c0002row0_col12 {\n",
              "            background-color:  #afc1dd;\n",
              "            color:  #000000;\n",
              "        }    #T_9e6e12b0_b39a_11ea_9350_0242ac1c0002row0_col13 {\n",
              "            background-color:  #a2bcda;\n",
              "            color:  #000000;\n",
              "        }    #T_9e6e12b0_b39a_11ea_9350_0242ac1c0002row0_col14 {\n",
              "            background-color:  #b4c4df;\n",
              "            color:  #000000;\n",
              "        }    #T_9e6e12b0_b39a_11ea_9350_0242ac1c0002row0_col15 {\n",
              "            background-color:  #c1cae2;\n",
              "            color:  #000000;\n",
              "        }    #T_9e6e12b0_b39a_11ea_9350_0242ac1c0002row0_col16 {\n",
              "            background-color:  #fdf5fa;\n",
              "            color:  #000000;\n",
              "        }    #T_9e6e12b0_b39a_11ea_9350_0242ac1c0002row0_col17 {\n",
              "            background-color:  #fef6fb;\n",
              "            color:  #000000;\n",
              "        }    #T_9e6e12b0_b39a_11ea_9350_0242ac1c0002row0_col18 {\n",
              "            background-color:  #fef6fb;\n",
              "            color:  #000000;\n",
              "        }    #T_9e6e12b0_b39a_11ea_9350_0242ac1c0002row0_col19 {\n",
              "            background-color:  #fef6fa;\n",
              "            color:  #000000;\n",
              "        }    #T_9e6e12b0_b39a_11ea_9350_0242ac1c0002row0_col20 {\n",
              "            background-color:  #cacee5;\n",
              "            color:  #000000;\n",
              "        }    #T_9e6e12b0_b39a_11ea_9350_0242ac1c0002row1_col0 {\n",
              "            background-color:  #c5cce3;\n",
              "            color:  #000000;\n",
              "        }    #T_9e6e12b0_b39a_11ea_9350_0242ac1c0002row1_col1 {\n",
              "            background-color:  #023858;\n",
              "            color:  #f1f1f1;\n",
              "        }    #T_9e6e12b0_b39a_11ea_9350_0242ac1c0002row1_col2 {\n",
              "            background-color:  #c0c9e2;\n",
              "            color:  #000000;\n",
              "        }    #T_9e6e12b0_b39a_11ea_9350_0242ac1c0002row1_col3 {\n",
              "            background-color:  #d2d3e7;\n",
              "            color:  #000000;\n",
              "        }    #T_9e6e12b0_b39a_11ea_9350_0242ac1c0002row1_col4 {\n",
              "            background-color:  #eee9f3;\n",
              "            color:  #000000;\n",
              "        }    #T_9e6e12b0_b39a_11ea_9350_0242ac1c0002row1_col5 {\n",
              "            background-color:  #f2ecf5;\n",
              "            color:  #000000;\n",
              "        }    #T_9e6e12b0_b39a_11ea_9350_0242ac1c0002row1_col6 {\n",
              "            background-color:  #fff7fb;\n",
              "            color:  #000000;\n",
              "        }    #T_9e6e12b0_b39a_11ea_9350_0242ac1c0002row1_col7 {\n",
              "            background-color:  #e6e2ef;\n",
              "            color:  #000000;\n",
              "        }    #T_9e6e12b0_b39a_11ea_9350_0242ac1c0002row1_col8 {\n",
              "            background-color:  #ede7f2;\n",
              "            color:  #000000;\n",
              "        }    #T_9e6e12b0_b39a_11ea_9350_0242ac1c0002row1_col9 {\n",
              "            background-color:  #faf2f8;\n",
              "            color:  #000000;\n",
              "        }    #T_9e6e12b0_b39a_11ea_9350_0242ac1c0002row1_col10 {\n",
              "            background-color:  #f6eff7;\n",
              "            color:  #000000;\n",
              "        }    #T_9e6e12b0_b39a_11ea_9350_0242ac1c0002row1_col11 {\n",
              "            background-color:  #f5eef6;\n",
              "            color:  #000000;\n",
              "        }    #T_9e6e12b0_b39a_11ea_9350_0242ac1c0002row1_col12 {\n",
              "            background-color:  #adc1dd;\n",
              "            color:  #000000;\n",
              "        }    #T_9e6e12b0_b39a_11ea_9350_0242ac1c0002row1_col13 {\n",
              "            background-color:  #a2bcda;\n",
              "            color:  #000000;\n",
              "        }    #T_9e6e12b0_b39a_11ea_9350_0242ac1c0002row1_col14 {\n",
              "            background-color:  #b5c4df;\n",
              "            color:  #000000;\n",
              "        }    #T_9e6e12b0_b39a_11ea_9350_0242ac1c0002row1_col15 {\n",
              "            background-color:  #c2cbe2;\n",
              "            color:  #000000;\n",
              "        }    #T_9e6e12b0_b39a_11ea_9350_0242ac1c0002row1_col16 {\n",
              "            background-color:  #fef6fa;\n",
              "            color:  #000000;\n",
              "        }    #T_9e6e12b0_b39a_11ea_9350_0242ac1c0002row1_col17 {\n",
              "            background-color:  #fef6fb;\n",
              "            color:  #000000;\n",
              "        }    #T_9e6e12b0_b39a_11ea_9350_0242ac1c0002row1_col18 {\n",
              "            background-color:  #fdf5fa;\n",
              "            color:  #000000;\n",
              "        }    #T_9e6e12b0_b39a_11ea_9350_0242ac1c0002row1_col19 {\n",
              "            background-color:  #fdf5fa;\n",
              "            color:  #000000;\n",
              "        }    #T_9e6e12b0_b39a_11ea_9350_0242ac1c0002row1_col20 {\n",
              "            background-color:  #cccfe5;\n",
              "            color:  #000000;\n",
              "        }    #T_9e6e12b0_b39a_11ea_9350_0242ac1c0002row2_col0 {\n",
              "            background-color:  #fff7fb;\n",
              "            color:  #000000;\n",
              "        }    #T_9e6e12b0_b39a_11ea_9350_0242ac1c0002row2_col1 {\n",
              "            background-color:  #f6eff7;\n",
              "            color:  #000000;\n",
              "        }    #T_9e6e12b0_b39a_11ea_9350_0242ac1c0002row2_col2 {\n",
              "            background-color:  #023858;\n",
              "            color:  #f1f1f1;\n",
              "        }    #T_9e6e12b0_b39a_11ea_9350_0242ac1c0002row2_col3 {\n",
              "            background-color:  #d8d7e9;\n",
              "            color:  #000000;\n",
              "        }    #T_9e6e12b0_b39a_11ea_9350_0242ac1c0002row2_col4 {\n",
              "            background-color:  #f5eef6;\n",
              "            color:  #000000;\n",
              "        }    #T_9e6e12b0_b39a_11ea_9350_0242ac1c0002row2_col5 {\n",
              "            background-color:  #f2ecf5;\n",
              "            color:  #000000;\n",
              "        }    #T_9e6e12b0_b39a_11ea_9350_0242ac1c0002row2_col6 {\n",
              "            background-color:  #fdf5fa;\n",
              "            color:  #000000;\n",
              "        }    #T_9e6e12b0_b39a_11ea_9350_0242ac1c0002row2_col7 {\n",
              "            background-color:  #ebe6f2;\n",
              "            color:  #000000;\n",
              "        }    #T_9e6e12b0_b39a_11ea_9350_0242ac1c0002row2_col8 {\n",
              "            background-color:  #e7e3f0;\n",
              "            color:  #000000;\n",
              "        }    #T_9e6e12b0_b39a_11ea_9350_0242ac1c0002row2_col9 {\n",
              "            background-color:  #faf2f8;\n",
              "            color:  #000000;\n",
              "        }    #T_9e6e12b0_b39a_11ea_9350_0242ac1c0002row2_col10 {\n",
              "            background-color:  #f4edf6;\n",
              "            color:  #000000;\n",
              "        }    #T_9e6e12b0_b39a_11ea_9350_0242ac1c0002row2_col11 {\n",
              "            background-color:  #f5eef6;\n",
              "            color:  #000000;\n",
              "        }    #T_9e6e12b0_b39a_11ea_9350_0242ac1c0002row2_col12 {\n",
              "            background-color:  #b0c2de;\n",
              "            color:  #000000;\n",
              "        }    #T_9e6e12b0_b39a_11ea_9350_0242ac1c0002row2_col13 {\n",
              "            background-color:  #9fbad9;\n",
              "            color:  #000000;\n",
              "        }    #T_9e6e12b0_b39a_11ea_9350_0242ac1c0002row2_col14 {\n",
              "            background-color:  #b8c6e0;\n",
              "            color:  #000000;\n",
              "        }    #T_9e6e12b0_b39a_11ea_9350_0242ac1c0002row2_col15 {\n",
              "            background-color:  #d3d4e7;\n",
              "            color:  #000000;\n",
              "        }    #T_9e6e12b0_b39a_11ea_9350_0242ac1c0002row2_col16 {\n",
              "            background-color:  #fdf5fa;\n",
              "            color:  #000000;\n",
              "        }    #T_9e6e12b0_b39a_11ea_9350_0242ac1c0002row2_col17 {\n",
              "            background-color:  #fdf5fa;\n",
              "            color:  #000000;\n",
              "        }    #T_9e6e12b0_b39a_11ea_9350_0242ac1c0002row2_col18 {\n",
              "            background-color:  #fdf5fa;\n",
              "            color:  #000000;\n",
              "        }    #T_9e6e12b0_b39a_11ea_9350_0242ac1c0002row2_col19 {\n",
              "            background-color:  #fef6fb;\n",
              "            color:  #000000;\n",
              "        }    #T_9e6e12b0_b39a_11ea_9350_0242ac1c0002row2_col20 {\n",
              "            background-color:  #c6cce3;\n",
              "            color:  #000000;\n",
              "        }    #T_9e6e12b0_b39a_11ea_9350_0242ac1c0002row3_col0 {\n",
              "            background-color:  #d2d3e7;\n",
              "            color:  #000000;\n",
              "        }    #T_9e6e12b0_b39a_11ea_9350_0242ac1c0002row3_col1 {\n",
              "            background-color:  #e7e3f0;\n",
              "            color:  #000000;\n",
              "        }    #T_9e6e12b0_b39a_11ea_9350_0242ac1c0002row3_col2 {\n",
              "            background-color:  #b0c2de;\n",
              "            color:  #000000;\n",
              "        }    #T_9e6e12b0_b39a_11ea_9350_0242ac1c0002row3_col3 {\n",
              "            background-color:  #023858;\n",
              "            color:  #f1f1f1;\n",
              "        }    #T_9e6e12b0_b39a_11ea_9350_0242ac1c0002row3_col4 {\n",
              "            background-color:  #fff7fb;\n",
              "            color:  #000000;\n",
              "        }    #T_9e6e12b0_b39a_11ea_9350_0242ac1c0002row3_col5 {\n",
              "            background-color:  #f1ebf5;\n",
              "            color:  #000000;\n",
              "        }    #T_9e6e12b0_b39a_11ea_9350_0242ac1c0002row3_col6 {\n",
              "            background-color:  #fdf5fa;\n",
              "            color:  #000000;\n",
              "        }    #T_9e6e12b0_b39a_11ea_9350_0242ac1c0002row3_col7 {\n",
              "            background-color:  #f2ecf5;\n",
              "            color:  #000000;\n",
              "        }    #T_9e6e12b0_b39a_11ea_9350_0242ac1c0002row3_col8 {\n",
              "            background-color:  #f4eef6;\n",
              "            color:  #000000;\n",
              "        }    #T_9e6e12b0_b39a_11ea_9350_0242ac1c0002row3_col9 {\n",
              "            background-color:  #fcf4fa;\n",
              "            color:  #000000;\n",
              "        }    #T_9e6e12b0_b39a_11ea_9350_0242ac1c0002row3_col10 {\n",
              "            background-color:  #f7f0f7;\n",
              "            color:  #000000;\n",
              "        }    #T_9e6e12b0_b39a_11ea_9350_0242ac1c0002row3_col11 {\n",
              "            background-color:  #f4edf6;\n",
              "            color:  #000000;\n",
              "        }    #T_9e6e12b0_b39a_11ea_9350_0242ac1c0002row3_col12 {\n",
              "            background-color:  #b3c3de;\n",
              "            color:  #000000;\n",
              "        }    #T_9e6e12b0_b39a_11ea_9350_0242ac1c0002row3_col13 {\n",
              "            background-color:  #9fbad9;\n",
              "            color:  #000000;\n",
              "        }    #T_9e6e12b0_b39a_11ea_9350_0242ac1c0002row3_col14 {\n",
              "            background-color:  #b3c3de;\n",
              "            color:  #000000;\n",
              "        }    #T_9e6e12b0_b39a_11ea_9350_0242ac1c0002row3_col15 {\n",
              "            background-color:  #cacee5;\n",
              "            color:  #000000;\n",
              "        }    #T_9e6e12b0_b39a_11ea_9350_0242ac1c0002row3_col16 {\n",
              "            background-color:  #fef6fb;\n",
              "            color:  #000000;\n",
              "        }    #T_9e6e12b0_b39a_11ea_9350_0242ac1c0002row3_col17 {\n",
              "            background-color:  #fdf5fa;\n",
              "            color:  #000000;\n",
              "        }    #T_9e6e12b0_b39a_11ea_9350_0242ac1c0002row3_col18 {\n",
              "            background-color:  #fef6fa;\n",
              "            color:  #000000;\n",
              "        }    #T_9e6e12b0_b39a_11ea_9350_0242ac1c0002row3_col19 {\n",
              "            background-color:  #fef6fb;\n",
              "            color:  #000000;\n",
              "        }    #T_9e6e12b0_b39a_11ea_9350_0242ac1c0002row3_col20 {\n",
              "            background-color:  #c2cbe2;\n",
              "            color:  #000000;\n",
              "        }    #T_9e6e12b0_b39a_11ea_9350_0242ac1c0002row4_col0 {\n",
              "            background-color:  #9cb9d9;\n",
              "            color:  #000000;\n",
              "        }    #T_9e6e12b0_b39a_11ea_9350_0242ac1c0002row4_col1 {\n",
              "            background-color:  #fef6fb;\n",
              "            color:  #000000;\n",
              "        }    #T_9e6e12b0_b39a_11ea_9350_0242ac1c0002row4_col2 {\n",
              "            background-color:  #d6d6e9;\n",
              "            color:  #000000;\n",
              "        }    #T_9e6e12b0_b39a_11ea_9350_0242ac1c0002row4_col3 {\n",
              "            background-color:  #fff7fb;\n",
              "            color:  #000000;\n",
              "        }    #T_9e6e12b0_b39a_11ea_9350_0242ac1c0002row4_col4 {\n",
              "            background-color:  #023858;\n",
              "            color:  #f1f1f1;\n",
              "        }    #T_9e6e12b0_b39a_11ea_9350_0242ac1c0002row4_col5 {\n",
              "            background-color:  #f6eff7;\n",
              "            color:  #000000;\n",
              "        }    #T_9e6e12b0_b39a_11ea_9350_0242ac1c0002row4_col6 {\n",
              "            background-color:  #fef6fb;\n",
              "            color:  #000000;\n",
              "        }    #T_9e6e12b0_b39a_11ea_9350_0242ac1c0002row4_col7 {\n",
              "            background-color:  #c4cbe3;\n",
              "            color:  #000000;\n",
              "        }    #T_9e6e12b0_b39a_11ea_9350_0242ac1c0002row4_col8 {\n",
              "            background-color:  #e9e5f1;\n",
              "            color:  #000000;\n",
              "        }    #T_9e6e12b0_b39a_11ea_9350_0242ac1c0002row4_col9 {\n",
              "            background-color:  #fbf3f9;\n",
              "            color:  #000000;\n",
              "        }    #T_9e6e12b0_b39a_11ea_9350_0242ac1c0002row4_col10 {\n",
              "            background-color:  #f7f0f7;\n",
              "            color:  #000000;\n",
              "        }    #T_9e6e12b0_b39a_11ea_9350_0242ac1c0002row4_col11 {\n",
              "            background-color:  #f0eaf4;\n",
              "            color:  #000000;\n",
              "        }    #T_9e6e12b0_b39a_11ea_9350_0242ac1c0002row4_col12 {\n",
              "            background-color:  #94b6d7;\n",
              "            color:  #000000;\n",
              "        }    #T_9e6e12b0_b39a_11ea_9350_0242ac1c0002row4_col13 {\n",
              "            background-color:  #bdc8e1;\n",
              "            color:  #000000;\n",
              "        }    #T_9e6e12b0_b39a_11ea_9350_0242ac1c0002row4_col14 {\n",
              "            background-color:  #b3c3de;\n",
              "            color:  #000000;\n",
              "        }    #T_9e6e12b0_b39a_11ea_9350_0242ac1c0002row4_col15 {\n",
              "            background-color:  #8cb3d5;\n",
              "            color:  #000000;\n",
              "        }    #T_9e6e12b0_b39a_11ea_9350_0242ac1c0002row4_col16 {\n",
              "            background-color:  #fef6fa;\n",
              "            color:  #000000;\n",
              "        }    #T_9e6e12b0_b39a_11ea_9350_0242ac1c0002row4_col17 {\n",
              "            background-color:  #fef6fb;\n",
              "            color:  #000000;\n",
              "        }    #T_9e6e12b0_b39a_11ea_9350_0242ac1c0002row4_col18 {\n",
              "            background-color:  #fdf5fa;\n",
              "            color:  #000000;\n",
              "        }    #T_9e6e12b0_b39a_11ea_9350_0242ac1c0002row4_col19 {\n",
              "            background-color:  #fef6fa;\n",
              "            color:  #000000;\n",
              "        }    #T_9e6e12b0_b39a_11ea_9350_0242ac1c0002row4_col20 {\n",
              "            background-color:  #e2dfee;\n",
              "            color:  #000000;\n",
              "        }    #T_9e6e12b0_b39a_11ea_9350_0242ac1c0002row5_col0 {\n",
              "            background-color:  #c6cce3;\n",
              "            color:  #000000;\n",
              "        }    #T_9e6e12b0_b39a_11ea_9350_0242ac1c0002row5_col1 {\n",
              "            background-color:  #faf2f8;\n",
              "            color:  #000000;\n",
              "        }    #T_9e6e12b0_b39a_11ea_9350_0242ac1c0002row5_col2 {\n",
              "            background-color:  #c4cbe3;\n",
              "            color:  #000000;\n",
              "        }    #T_9e6e12b0_b39a_11ea_9350_0242ac1c0002row5_col3 {\n",
              "            background-color:  #e7e3f0;\n",
              "            color:  #000000;\n",
              "        }    #T_9e6e12b0_b39a_11ea_9350_0242ac1c0002row5_col4 {\n",
              "            background-color:  #ede7f2;\n",
              "            color:  #000000;\n",
              "        }    #T_9e6e12b0_b39a_11ea_9350_0242ac1c0002row5_col5 {\n",
              "            background-color:  #023858;\n",
              "            color:  #f1f1f1;\n",
              "        }    #T_9e6e12b0_b39a_11ea_9350_0242ac1c0002row5_col6 {\n",
              "            background-color:  #f7f0f7;\n",
              "            color:  #000000;\n",
              "        }    #T_9e6e12b0_b39a_11ea_9350_0242ac1c0002row5_col7 {\n",
              "            background-color:  #efe9f3;\n",
              "            color:  #000000;\n",
              "        }    #T_9e6e12b0_b39a_11ea_9350_0242ac1c0002row5_col8 {\n",
              "            background-color:  #eae6f1;\n",
              "            color:  #000000;\n",
              "        }    #T_9e6e12b0_b39a_11ea_9350_0242ac1c0002row5_col9 {\n",
              "            background-color:  #f9f2f8;\n",
              "            color:  #000000;\n",
              "        }    #T_9e6e12b0_b39a_11ea_9350_0242ac1c0002row5_col10 {\n",
              "            background-color:  #f6eff7;\n",
              "            color:  #000000;\n",
              "        }    #T_9e6e12b0_b39a_11ea_9350_0242ac1c0002row5_col11 {\n",
              "            background-color:  #f5eff6;\n",
              "            color:  #000000;\n",
              "        }    #T_9e6e12b0_b39a_11ea_9350_0242ac1c0002row5_col12 {\n",
              "            background-color:  #a9bfdc;\n",
              "            color:  #000000;\n",
              "        }    #T_9e6e12b0_b39a_11ea_9350_0242ac1c0002row5_col13 {\n",
              "            background-color:  #a2bcda;\n",
              "            color:  #000000;\n",
              "        }    #T_9e6e12b0_b39a_11ea_9350_0242ac1c0002row5_col14 {\n",
              "            background-color:  #bbc7e0;\n",
              "            color:  #000000;\n",
              "        }    #T_9e6e12b0_b39a_11ea_9350_0242ac1c0002row5_col15 {\n",
              "            background-color:  #d0d1e6;\n",
              "            color:  #000000;\n",
              "        }    #T_9e6e12b0_b39a_11ea_9350_0242ac1c0002row5_col16 {\n",
              "            background-color:  #fef6fb;\n",
              "            color:  #000000;\n",
              "        }    #T_9e6e12b0_b39a_11ea_9350_0242ac1c0002row5_col17 {\n",
              "            background-color:  #fff7fb;\n",
              "            color:  #000000;\n",
              "        }    #T_9e6e12b0_b39a_11ea_9350_0242ac1c0002row5_col18 {\n",
              "            background-color:  #fdf5fa;\n",
              "            color:  #000000;\n",
              "        }    #T_9e6e12b0_b39a_11ea_9350_0242ac1c0002row5_col19 {\n",
              "            background-color:  #fef6fb;\n",
              "            color:  #000000;\n",
              "        }    #T_9e6e12b0_b39a_11ea_9350_0242ac1c0002row5_col20 {\n",
              "            background-color:  #ced0e6;\n",
              "            color:  #000000;\n",
              "        }    #T_9e6e12b0_b39a_11ea_9350_0242ac1c0002row6_col0 {\n",
              "            background-color:  #c8cde4;\n",
              "            color:  #000000;\n",
              "        }    #T_9e6e12b0_b39a_11ea_9350_0242ac1c0002row6_col1 {\n",
              "            background-color:  #fcf4fa;\n",
              "            color:  #000000;\n",
              "        }    #T_9e6e12b0_b39a_11ea_9350_0242ac1c0002row6_col2 {\n",
              "            background-color:  #c5cce3;\n",
              "            color:  #000000;\n",
              "        }    #T_9e6e12b0_b39a_11ea_9350_0242ac1c0002row6_col3 {\n",
              "            background-color:  #e8e4f0;\n",
              "            color:  #000000;\n",
              "        }    #T_9e6e12b0_b39a_11ea_9350_0242ac1c0002row6_col4 {\n",
              "            background-color:  #ebe6f2;\n",
              "            color:  #000000;\n",
              "        }    #T_9e6e12b0_b39a_11ea_9350_0242ac1c0002row6_col5 {\n",
              "            background-color:  #eee8f3;\n",
              "            color:  #000000;\n",
              "        }    #T_9e6e12b0_b39a_11ea_9350_0242ac1c0002row6_col6 {\n",
              "            background-color:  #023858;\n",
              "            color:  #f1f1f1;\n",
              "        }    #T_9e6e12b0_b39a_11ea_9350_0242ac1c0002row6_col7 {\n",
              "            background-color:  #e2dfee;\n",
              "            color:  #000000;\n",
              "        }    #T_9e6e12b0_b39a_11ea_9350_0242ac1c0002row6_col8 {\n",
              "            background-color:  #e7e3f0;\n",
              "            color:  #000000;\n",
              "        }    #T_9e6e12b0_b39a_11ea_9350_0242ac1c0002row6_col9 {\n",
              "            background-color:  #fbf3f9;\n",
              "            color:  #000000;\n",
              "        }    #T_9e6e12b0_b39a_11ea_9350_0242ac1c0002row6_col10 {\n",
              "            background-color:  #f5eff6;\n",
              "            color:  #000000;\n",
              "        }    #T_9e6e12b0_b39a_11ea_9350_0242ac1c0002row6_col11 {\n",
              "            background-color:  #f4edf6;\n",
              "            color:  #000000;\n",
              "        }    #T_9e6e12b0_b39a_11ea_9350_0242ac1c0002row6_col12 {\n",
              "            background-color:  #a8bedc;\n",
              "            color:  #000000;\n",
              "        }    #T_9e6e12b0_b39a_11ea_9350_0242ac1c0002row6_col13 {\n",
              "            background-color:  #a8bedc;\n",
              "            color:  #000000;\n",
              "        }    #T_9e6e12b0_b39a_11ea_9350_0242ac1c0002row6_col14 {\n",
              "            background-color:  #b8c6e0;\n",
              "            color:  #000000;\n",
              "        }    #T_9e6e12b0_b39a_11ea_9350_0242ac1c0002row6_col15 {\n",
              "            background-color:  #c0c9e2;\n",
              "            color:  #000000;\n",
              "        }    #T_9e6e12b0_b39a_11ea_9350_0242ac1c0002row6_col16 {\n",
              "            background-color:  #fef6fa;\n",
              "            color:  #000000;\n",
              "        }    #T_9e6e12b0_b39a_11ea_9350_0242ac1c0002row6_col17 {\n",
              "            background-color:  #fef6fa;\n",
              "            color:  #000000;\n",
              "        }    #T_9e6e12b0_b39a_11ea_9350_0242ac1c0002row6_col18 {\n",
              "            background-color:  #fdf5fa;\n",
              "            color:  #000000;\n",
              "        }    #T_9e6e12b0_b39a_11ea_9350_0242ac1c0002row6_col19 {\n",
              "            background-color:  #fff7fb;\n",
              "            color:  #000000;\n",
              "        }    #T_9e6e12b0_b39a_11ea_9350_0242ac1c0002row6_col20 {\n",
              "            background-color:  #d2d3e7;\n",
              "            color:  #000000;\n",
              "        }    #T_9e6e12b0_b39a_11ea_9350_0242ac1c0002row7_col0 {\n",
              "            background-color:  #c4cbe3;\n",
              "            color:  #000000;\n",
              "        }    #T_9e6e12b0_b39a_11ea_9350_0242ac1c0002row7_col1 {\n",
              "            background-color:  #fef6fa;\n",
              "            color:  #000000;\n",
              "        }    #T_9e6e12b0_b39a_11ea_9350_0242ac1c0002row7_col2 {\n",
              "            background-color:  #d2d3e7;\n",
              "            color:  #000000;\n",
              "        }    #T_9e6e12b0_b39a_11ea_9350_0242ac1c0002row7_col3 {\n",
              "            background-color:  #f8f1f8;\n",
              "            color:  #000000;\n",
              "        }    #T_9e6e12b0_b39a_11ea_9350_0242ac1c0002row7_col4 {\n",
              "            background-color:  #d0d1e6;\n",
              "            color:  #000000;\n",
              "        }    #T_9e6e12b0_b39a_11ea_9350_0242ac1c0002row7_col5 {\n",
              "            background-color:  #fff7fb;\n",
              "            color:  #000000;\n",
              "        }    #T_9e6e12b0_b39a_11ea_9350_0242ac1c0002row7_col6 {\n",
              "            background-color:  #fff7fb;\n",
              "            color:  #000000;\n",
              "        }    #T_9e6e12b0_b39a_11ea_9350_0242ac1c0002row7_col7 {\n",
              "            background-color:  #023858;\n",
              "            color:  #f1f1f1;\n",
              "        }    #T_9e6e12b0_b39a_11ea_9350_0242ac1c0002row7_col8 {\n",
              "            background-color:  #a2bcda;\n",
              "            color:  #000000;\n",
              "        }    #T_9e6e12b0_b39a_11ea_9350_0242ac1c0002row7_col9 {\n",
              "            background-color:  #fbf3f9;\n",
              "            color:  #000000;\n",
              "        }    #T_9e6e12b0_b39a_11ea_9350_0242ac1c0002row7_col10 {\n",
              "            background-color:  #f9f2f8;\n",
              "            color:  #000000;\n",
              "        }    #T_9e6e12b0_b39a_11ea_9350_0242ac1c0002row7_col11 {\n",
              "            background-color:  #e7e3f0;\n",
              "            color:  #000000;\n",
              "        }    #T_9e6e12b0_b39a_11ea_9350_0242ac1c0002row7_col12 {\n",
              "            background-color:  #8bb2d4;\n",
              "            color:  #000000;\n",
              "        }    #T_9e6e12b0_b39a_11ea_9350_0242ac1c0002row7_col13 {\n",
              "            background-color:  #d3d4e7;\n",
              "            color:  #000000;\n",
              "        }    #T_9e6e12b0_b39a_11ea_9350_0242ac1c0002row7_col14 {\n",
              "            background-color:  #9ab8d8;\n",
              "            color:  #000000;\n",
              "        }    #T_9e6e12b0_b39a_11ea_9350_0242ac1c0002row7_col15 {\n",
              "            background-color:  #509ac6;\n",
              "            color:  #000000;\n",
              "        }    #T_9e6e12b0_b39a_11ea_9350_0242ac1c0002row7_col16 {\n",
              "            background-color:  #fef6fb;\n",
              "            color:  #000000;\n",
              "        }    #T_9e6e12b0_b39a_11ea_9350_0242ac1c0002row7_col17 {\n",
              "            background-color:  #fff7fb;\n",
              "            color:  #000000;\n",
              "        }    #T_9e6e12b0_b39a_11ea_9350_0242ac1c0002row7_col18 {\n",
              "            background-color:  #fdf5fa;\n",
              "            color:  #000000;\n",
              "        }    #T_9e6e12b0_b39a_11ea_9350_0242ac1c0002row7_col19 {\n",
              "            background-color:  #fdf5fa;\n",
              "            color:  #000000;\n",
              "        }    #T_9e6e12b0_b39a_11ea_9350_0242ac1c0002row7_col20 {\n",
              "            background-color:  #eae6f1;\n",
              "            color:  #000000;\n",
              "        }    #T_9e6e12b0_b39a_11ea_9350_0242ac1c0002row8_col0 {\n",
              "            background-color:  #cccfe5;\n",
              "            color:  #000000;\n",
              "        }    #T_9e6e12b0_b39a_11ea_9350_0242ac1c0002row8_col1 {\n",
              "            background-color:  #fff7fb;\n",
              "            color:  #000000;\n",
              "        }    #T_9e6e12b0_b39a_11ea_9350_0242ac1c0002row8_col2 {\n",
              "            background-color:  #c8cde4;\n",
              "            color:  #000000;\n",
              "        }    #T_9e6e12b0_b39a_11ea_9350_0242ac1c0002row8_col3 {\n",
              "            background-color:  #f7f0f7;\n",
              "            color:  #000000;\n",
              "        }    #T_9e6e12b0_b39a_11ea_9350_0242ac1c0002row8_col4 {\n",
              "            background-color:  #ede7f2;\n",
              "            color:  #000000;\n",
              "        }    #T_9e6e12b0_b39a_11ea_9350_0242ac1c0002row8_col5 {\n",
              "            background-color:  #f6eff7;\n",
              "            color:  #000000;\n",
              "        }    #T_9e6e12b0_b39a_11ea_9350_0242ac1c0002row8_col6 {\n",
              "            background-color:  #fef6fb;\n",
              "            color:  #000000;\n",
              "        }    #T_9e6e12b0_b39a_11ea_9350_0242ac1c0002row8_col7 {\n",
              "            background-color:  #9ab8d8;\n",
              "            color:  #000000;\n",
              "        }    #T_9e6e12b0_b39a_11ea_9350_0242ac1c0002row8_col8 {\n",
              "            background-color:  #023858;\n",
              "            color:  #f1f1f1;\n",
              "        }    #T_9e6e12b0_b39a_11ea_9350_0242ac1c0002row8_col9 {\n",
              "            background-color:  #f5eff6;\n",
              "            color:  #000000;\n",
              "        }    #T_9e6e12b0_b39a_11ea_9350_0242ac1c0002row8_col10 {\n",
              "            background-color:  #f4eef6;\n",
              "            color:  #000000;\n",
              "        }    #T_9e6e12b0_b39a_11ea_9350_0242ac1c0002row8_col11 {\n",
              "            background-color:  #fdf5fa;\n",
              "            color:  #000000;\n",
              "        }    #T_9e6e12b0_b39a_11ea_9350_0242ac1c0002row8_col12 {\n",
              "            background-color:  #b1c2de;\n",
              "            color:  #000000;\n",
              "        }    #T_9e6e12b0_b39a_11ea_9350_0242ac1c0002row8_col13 {\n",
              "            background-color:  #8eb3d5;\n",
              "            color:  #000000;\n",
              "        }    #T_9e6e12b0_b39a_11ea_9350_0242ac1c0002row8_col14 {\n",
              "            background-color:  #c6cce3;\n",
              "            color:  #000000;\n",
              "        }    #T_9e6e12b0_b39a_11ea_9350_0242ac1c0002row8_col15 {\n",
              "            background-color:  #e2dfee;\n",
              "            color:  #000000;\n",
              "        }    #T_9e6e12b0_b39a_11ea_9350_0242ac1c0002row8_col16 {\n",
              "            background-color:  #fef6fb;\n",
              "            color:  #000000;\n",
              "        }    #T_9e6e12b0_b39a_11ea_9350_0242ac1c0002row8_col17 {\n",
              "            background-color:  #fff7fb;\n",
              "            color:  #000000;\n",
              "        }    #T_9e6e12b0_b39a_11ea_9350_0242ac1c0002row8_col18 {\n",
              "            background-color:  #fdf5fa;\n",
              "            color:  #000000;\n",
              "        }    #T_9e6e12b0_b39a_11ea_9350_0242ac1c0002row8_col19 {\n",
              "            background-color:  #fdf5fa;\n",
              "            color:  #000000;\n",
              "        }    #T_9e6e12b0_b39a_11ea_9350_0242ac1c0002row8_col20 {\n",
              "            background-color:  #d2d3e7;\n",
              "            color:  #000000;\n",
              "        }    #T_9e6e12b0_b39a_11ea_9350_0242ac1c0002row9_col0 {\n",
              "            background-color:  #cacee5;\n",
              "            color:  #000000;\n",
              "        }    #T_9e6e12b0_b39a_11ea_9350_0242ac1c0002row9_col1 {\n",
              "            background-color:  #faf3f9;\n",
              "            color:  #000000;\n",
              "        }    #T_9e6e12b0_b39a_11ea_9350_0242ac1c0002row9_col2 {\n",
              "            background-color:  #c5cce3;\n",
              "            color:  #000000;\n",
              "        }    #T_9e6e12b0_b39a_11ea_9350_0242ac1c0002row9_col3 {\n",
              "            background-color:  #ede7f2;\n",
              "            color:  #000000;\n",
              "        }    #T_9e6e12b0_b39a_11ea_9350_0242ac1c0002row9_col4 {\n",
              "            background-color:  #ece7f2;\n",
              "            color:  #000000;\n",
              "        }    #T_9e6e12b0_b39a_11ea_9350_0242ac1c0002row9_col5 {\n",
              "            background-color:  #f3edf5;\n",
              "            color:  #000000;\n",
              "        }    #T_9e6e12b0_b39a_11ea_9350_0242ac1c0002row9_col6 {\n",
              "            background-color:  #fff7fb;\n",
              "            color:  #000000;\n",
              "        }    #T_9e6e12b0_b39a_11ea_9350_0242ac1c0002row9_col7 {\n",
              "            background-color:  #e3e0ee;\n",
              "            color:  #000000;\n",
              "        }    #T_9e6e12b0_b39a_11ea_9350_0242ac1c0002row9_col8 {\n",
              "            background-color:  #e1dfed;\n",
              "            color:  #000000;\n",
              "        }    #T_9e6e12b0_b39a_11ea_9350_0242ac1c0002row9_col9 {\n",
              "            background-color:  #023858;\n",
              "            color:  #f1f1f1;\n",
              "        }    #T_9e6e12b0_b39a_11ea_9350_0242ac1c0002row9_col10 {\n",
              "            background-color:  #f2ecf5;\n",
              "            color:  #000000;\n",
              "        }    #T_9e6e12b0_b39a_11ea_9350_0242ac1c0002row9_col11 {\n",
              "            background-color:  #faf2f8;\n",
              "            color:  #000000;\n",
              "        }    #T_9e6e12b0_b39a_11ea_9350_0242ac1c0002row9_col12 {\n",
              "            background-color:  #a9bfdc;\n",
              "            color:  #000000;\n",
              "        }    #T_9e6e12b0_b39a_11ea_9350_0242ac1c0002row9_col13 {\n",
              "            background-color:  #a8bedc;\n",
              "            color:  #000000;\n",
              "        }    #T_9e6e12b0_b39a_11ea_9350_0242ac1c0002row9_col14 {\n",
              "            background-color:  #b4c4df;\n",
              "            color:  #000000;\n",
              "        }    #T_9e6e12b0_b39a_11ea_9350_0242ac1c0002row9_col15 {\n",
              "            background-color:  #b9c6e0;\n",
              "            color:  #000000;\n",
              "        }    #T_9e6e12b0_b39a_11ea_9350_0242ac1c0002row9_col16 {\n",
              "            background-color:  #fef6fb;\n",
              "            color:  #000000;\n",
              "        }    #T_9e6e12b0_b39a_11ea_9350_0242ac1c0002row9_col17 {\n",
              "            background-color:  #fdf5fa;\n",
              "            color:  #000000;\n",
              "        }    #T_9e6e12b0_b39a_11ea_9350_0242ac1c0002row9_col18 {\n",
              "            background-color:  #fdf5fa;\n",
              "            color:  #000000;\n",
              "        }    #T_9e6e12b0_b39a_11ea_9350_0242ac1c0002row9_col19 {\n",
              "            background-color:  #fcf4fa;\n",
              "            color:  #000000;\n",
              "        }    #T_9e6e12b0_b39a_11ea_9350_0242ac1c0002row9_col20 {\n",
              "            background-color:  #ced0e6;\n",
              "            color:  #000000;\n",
              "        }    #T_9e6e12b0_b39a_11ea_9350_0242ac1c0002row10_col0 {\n",
              "            background-color:  #c6cce3;\n",
              "            color:  #000000;\n",
              "        }    #T_9e6e12b0_b39a_11ea_9350_0242ac1c0002row10_col1 {\n",
              "            background-color:  #fbf4f9;\n",
              "            color:  #000000;\n",
              "        }    #T_9e6e12b0_b39a_11ea_9350_0242ac1c0002row10_col2 {\n",
              "            background-color:  #c4cbe3;\n",
              "            color:  #000000;\n",
              "        }    #T_9e6e12b0_b39a_11ea_9350_0242ac1c0002row10_col3 {\n",
              "            background-color:  #ede7f2;\n",
              "            color:  #000000;\n",
              "        }    #T_9e6e12b0_b39a_11ea_9350_0242ac1c0002row10_col4 {\n",
              "            background-color:  #ece7f2;\n",
              "            color:  #000000;\n",
              "        }    #T_9e6e12b0_b39a_11ea_9350_0242ac1c0002row10_col5 {\n",
              "            background-color:  #f5eef6;\n",
              "            color:  #000000;\n",
              "        }    #T_9e6e12b0_b39a_11ea_9350_0242ac1c0002row10_col6 {\n",
              "            background-color:  #fef6fa;\n",
              "            color:  #000000;\n",
              "        }    #T_9e6e12b0_b39a_11ea_9350_0242ac1c0002row10_col7 {\n",
              "            background-color:  #e6e2ef;\n",
              "            color:  #000000;\n",
              "        }    #T_9e6e12b0_b39a_11ea_9350_0242ac1c0002row10_col8 {\n",
              "            background-color:  #e6e2ef;\n",
              "            color:  #000000;\n",
              "        }    #T_9e6e12b0_b39a_11ea_9350_0242ac1c0002row10_col9 {\n",
              "            background-color:  #f7f0f7;\n",
              "            color:  #000000;\n",
              "        }    #T_9e6e12b0_b39a_11ea_9350_0242ac1c0002row10_col10 {\n",
              "            background-color:  #023858;\n",
              "            color:  #f1f1f1;\n",
              "        }    #T_9e6e12b0_b39a_11ea_9350_0242ac1c0002row10_col11 {\n",
              "            background-color:  #fef6fb;\n",
              "            color:  #000000;\n",
              "        }    #T_9e6e12b0_b39a_11ea_9350_0242ac1c0002row10_col12 {\n",
              "            background-color:  #b1c2de;\n",
              "            color:  #000000;\n",
              "        }    #T_9e6e12b0_b39a_11ea_9350_0242ac1c0002row10_col13 {\n",
              "            background-color:  #a2bcda;\n",
              "            color:  #000000;\n",
              "        }    #T_9e6e12b0_b39a_11ea_9350_0242ac1c0002row10_col14 {\n",
              "            background-color:  #b0c2de;\n",
              "            color:  #000000;\n",
              "        }    #T_9e6e12b0_b39a_11ea_9350_0242ac1c0002row10_col15 {\n",
              "            background-color:  #c8cde4;\n",
              "            color:  #000000;\n",
              "        }    #T_9e6e12b0_b39a_11ea_9350_0242ac1c0002row10_col16 {\n",
              "            background-color:  #fef6fa;\n",
              "            color:  #000000;\n",
              "        }    #T_9e6e12b0_b39a_11ea_9350_0242ac1c0002row10_col17 {\n",
              "            background-color:  #fef6fb;\n",
              "            color:  #000000;\n",
              "        }    #T_9e6e12b0_b39a_11ea_9350_0242ac1c0002row10_col18 {\n",
              "            background-color:  #fdf5fa;\n",
              "            color:  #000000;\n",
              "        }    #T_9e6e12b0_b39a_11ea_9350_0242ac1c0002row10_col19 {\n",
              "            background-color:  #fbf4f9;\n",
              "            color:  #000000;\n",
              "        }    #T_9e6e12b0_b39a_11ea_9350_0242ac1c0002row10_col20 {\n",
              "            background-color:  #5a9ec9;\n",
              "            color:  #000000;\n",
              "        }    #T_9e6e12b0_b39a_11ea_9350_0242ac1c0002row11_col0 {\n",
              "            background-color:  #c5cce3;\n",
              "            color:  #000000;\n",
              "        }    #T_9e6e12b0_b39a_11ea_9350_0242ac1c0002row11_col1 {\n",
              "            background-color:  #fbf4f9;\n",
              "            color:  #000000;\n",
              "        }    #T_9e6e12b0_b39a_11ea_9350_0242ac1c0002row11_col2 {\n",
              "            background-color:  #c8cde4;\n",
              "            color:  #000000;\n",
              "        }    #T_9e6e12b0_b39a_11ea_9350_0242ac1c0002row11_col3 {\n",
              "            background-color:  #e9e5f1;\n",
              "            color:  #000000;\n",
              "        }    #T_9e6e12b0_b39a_11ea_9350_0242ac1c0002row11_col4 {\n",
              "            background-color:  #e3e0ee;\n",
              "            color:  #000000;\n",
              "        }    #T_9e6e12b0_b39a_11ea_9350_0242ac1c0002row11_col5 {\n",
              "            background-color:  #f5eff6;\n",
              "            color:  #000000;\n",
              "        }    #T_9e6e12b0_b39a_11ea_9350_0242ac1c0002row11_col6 {\n",
              "            background-color:  #fdf5fa;\n",
              "            color:  #000000;\n",
              "        }    #T_9e6e12b0_b39a_11ea_9350_0242ac1c0002row11_col7 {\n",
              "            background-color:  #d2d3e7;\n",
              "            color:  #000000;\n",
              "        }    #T_9e6e12b0_b39a_11ea_9350_0242ac1c0002row11_col8 {\n",
              "            background-color:  #f0eaf4;\n",
              "            color:  #000000;\n",
              "        }    #T_9e6e12b0_b39a_11ea_9350_0242ac1c0002row11_col9 {\n",
              "            background-color:  #fff7fb;\n",
              "            color:  #000000;\n",
              "        }    #T_9e6e12b0_b39a_11ea_9350_0242ac1c0002row11_col10 {\n",
              "            background-color:  #fff7fb;\n",
              "            color:  #000000;\n",
              "        }    #T_9e6e12b0_b39a_11ea_9350_0242ac1c0002row11_col11 {\n",
              "            background-color:  #023858;\n",
              "            color:  #f1f1f1;\n",
              "        }    #T_9e6e12b0_b39a_11ea_9350_0242ac1c0002row11_col12 {\n",
              "            background-color:  #9ab8d8;\n",
              "            color:  #000000;\n",
              "        }    #T_9e6e12b0_b39a_11ea_9350_0242ac1c0002row11_col13 {\n",
              "            background-color:  #b9c6e0;\n",
              "            color:  #000000;\n",
              "        }    #T_9e6e12b0_b39a_11ea_9350_0242ac1c0002row11_col14 {\n",
              "            background-color:  #b0c2de;\n",
              "            color:  #000000;\n",
              "        }    #T_9e6e12b0_b39a_11ea_9350_0242ac1c0002row11_col15 {\n",
              "            background-color:  #9cb9d9;\n",
              "            color:  #000000;\n",
              "        }    #T_9e6e12b0_b39a_11ea_9350_0242ac1c0002row11_col16 {\n",
              "            background-color:  #fef6fb;\n",
              "            color:  #000000;\n",
              "        }    #T_9e6e12b0_b39a_11ea_9350_0242ac1c0002row11_col17 {\n",
              "            background-color:  #fef6fb;\n",
              "            color:  #000000;\n",
              "        }    #T_9e6e12b0_b39a_11ea_9350_0242ac1c0002row11_col18 {\n",
              "            background-color:  #fef6fb;\n",
              "            color:  #000000;\n",
              "        }    #T_9e6e12b0_b39a_11ea_9350_0242ac1c0002row11_col19 {\n",
              "            background-color:  #fff7fb;\n",
              "            color:  #000000;\n",
              "        }    #T_9e6e12b0_b39a_11ea_9350_0242ac1c0002row11_col20 {\n",
              "            background-color:  #dddbec;\n",
              "            color:  #000000;\n",
              "        }    #T_9e6e12b0_b39a_11ea_9350_0242ac1c0002row12_col0 {\n",
              "            background-color:  #ced0e6;\n",
              "            color:  #000000;\n",
              "        }    #T_9e6e12b0_b39a_11ea_9350_0242ac1c0002row12_col1 {\n",
              "            background-color:  #fef6fb;\n",
              "            color:  #000000;\n",
              "        }    #T_9e6e12b0_b39a_11ea_9350_0242ac1c0002row12_col2 {\n",
              "            background-color:  #d0d1e6;\n",
              "            color:  #000000;\n",
              "        }    #T_9e6e12b0_b39a_11ea_9350_0242ac1c0002row12_col3 {\n",
              "            background-color:  #f1ebf5;\n",
              "            color:  #000000;\n",
              "        }    #T_9e6e12b0_b39a_11ea_9350_0242ac1c0002row12_col4 {\n",
              "            background-color:  #dad9ea;\n",
              "            color:  #000000;\n",
              "        }    #T_9e6e12b0_b39a_11ea_9350_0242ac1c0002row12_col5 {\n",
              "            background-color:  #f5eff6;\n",
              "            color:  #000000;\n",
              "        }    #T_9e6e12b0_b39a_11ea_9350_0242ac1c0002row12_col6 {\n",
              "            background-color:  #fef6fa;\n",
              "            color:  #000000;\n",
              "        }    #T_9e6e12b0_b39a_11ea_9350_0242ac1c0002row12_col7 {\n",
              "            background-color:  #c9cee4;\n",
              "            color:  #000000;\n",
              "        }    #T_9e6e12b0_b39a_11ea_9350_0242ac1c0002row12_col8 {\n",
              "            background-color:  #eee9f3;\n",
              "            color:  #000000;\n",
              "        }    #T_9e6e12b0_b39a_11ea_9350_0242ac1c0002row12_col9 {\n",
              "            background-color:  #fbf3f9;\n",
              "            color:  #000000;\n",
              "        }    #T_9e6e12b0_b39a_11ea_9350_0242ac1c0002row12_col10 {\n",
              "            background-color:  #fcf4fa;\n",
              "            color:  #000000;\n",
              "        }    #T_9e6e12b0_b39a_11ea_9350_0242ac1c0002row12_col11 {\n",
              "            background-color:  #ede7f2;\n",
              "            color:  #000000;\n",
              "        }    #T_9e6e12b0_b39a_11ea_9350_0242ac1c0002row12_col12 {\n",
              "            background-color:  #023858;\n",
              "            color:  #f1f1f1;\n",
              "        }    #T_9e6e12b0_b39a_11ea_9350_0242ac1c0002row12_col13 {\n",
              "            background-color:  #fff7fb;\n",
              "            color:  #000000;\n",
              "        }    #T_9e6e12b0_b39a_11ea_9350_0242ac1c0002row12_col14 {\n",
              "            background-color:  #fff7fb;\n",
              "            color:  #000000;\n",
              "        }    #T_9e6e12b0_b39a_11ea_9350_0242ac1c0002row12_col15 {\n",
              "            background-color:  #79abd0;\n",
              "            color:  #000000;\n",
              "        }    #T_9e6e12b0_b39a_11ea_9350_0242ac1c0002row12_col16 {\n",
              "            background-color:  #fef6fa;\n",
              "            color:  #000000;\n",
              "        }    #T_9e6e12b0_b39a_11ea_9350_0242ac1c0002row12_col17 {\n",
              "            background-color:  #fff7fb;\n",
              "            color:  #000000;\n",
              "        }    #T_9e6e12b0_b39a_11ea_9350_0242ac1c0002row12_col18 {\n",
              "            background-color:  #fdf5fa;\n",
              "            color:  #000000;\n",
              "        }    #T_9e6e12b0_b39a_11ea_9350_0242ac1c0002row12_col19 {\n",
              "            background-color:  #fef6fa;\n",
              "            color:  #000000;\n",
              "        }    #T_9e6e12b0_b39a_11ea_9350_0242ac1c0002row12_col20 {\n",
              "            background-color:  #fff7fb;\n",
              "            color:  #000000;\n",
              "        }    #T_9e6e12b0_b39a_11ea_9350_0242ac1c0002row13_col0 {\n",
              "            background-color:  #c0c9e2;\n",
              "            color:  #000000;\n",
              "        }    #T_9e6e12b0_b39a_11ea_9350_0242ac1c0002row13_col1 {\n",
              "            background-color:  #f7f0f7;\n",
              "            color:  #000000;\n",
              "        }    #T_9e6e12b0_b39a_11ea_9350_0242ac1c0002row13_col2 {\n",
              "            background-color:  #bdc8e1;\n",
              "            color:  #000000;\n",
              "        }    #T_9e6e12b0_b39a_11ea_9350_0242ac1c0002row13_col3 {\n",
              "            background-color:  #e2dfee;\n",
              "            color:  #000000;\n",
              "        }    #T_9e6e12b0_b39a_11ea_9350_0242ac1c0002row13_col4 {\n",
              "            background-color:  #f8f1f8;\n",
              "            color:  #000000;\n",
              "        }    #T_9e6e12b0_b39a_11ea_9350_0242ac1c0002row13_col5 {\n",
              "            background-color:  #f1ebf4;\n",
              "            color:  #000000;\n",
              "        }    #T_9e6e12b0_b39a_11ea_9350_0242ac1c0002row13_col6 {\n",
              "            background-color:  #fef6fa;\n",
              "            color:  #000000;\n",
              "        }    #T_9e6e12b0_b39a_11ea_9350_0242ac1c0002row13_col7 {\n",
              "            background-color:  #fff7fb;\n",
              "            color:  #000000;\n",
              "        }    #T_9e6e12b0_b39a_11ea_9350_0242ac1c0002row13_col8 {\n",
              "            background-color:  #d2d3e7;\n",
              "            color:  #000000;\n",
              "        }    #T_9e6e12b0_b39a_11ea_9350_0242ac1c0002row13_col9 {\n",
              "            background-color:  #faf3f9;\n",
              "            color:  #000000;\n",
              "        }    #T_9e6e12b0_b39a_11ea_9350_0242ac1c0002row13_col10 {\n",
              "            background-color:  #f2ecf5;\n",
              "            color:  #000000;\n",
              "        }    #T_9e6e12b0_b39a_11ea_9350_0242ac1c0002row13_col11 {\n",
              "            background-color:  #fff7fb;\n",
              "            color:  #000000;\n",
              "        }    #T_9e6e12b0_b39a_11ea_9350_0242ac1c0002row13_col12 {\n",
              "            background-color:  #fff7fb;\n",
              "            color:  #000000;\n",
              "        }    #T_9e6e12b0_b39a_11ea_9350_0242ac1c0002row13_col13 {\n",
              "            background-color:  #023858;\n",
              "            color:  #f1f1f1;\n",
              "        }    #T_9e6e12b0_b39a_11ea_9350_0242ac1c0002row13_col14 {\n",
              "            background-color:  #eee9f3;\n",
              "            color:  #000000;\n",
              "        }    #T_9e6e12b0_b39a_11ea_9350_0242ac1c0002row13_col15 {\n",
              "            background-color:  #fff7fb;\n",
              "            color:  #000000;\n",
              "        }    #T_9e6e12b0_b39a_11ea_9350_0242ac1c0002row13_col16 {\n",
              "            background-color:  #fef6fb;\n",
              "            color:  #000000;\n",
              "        }    #T_9e6e12b0_b39a_11ea_9350_0242ac1c0002row13_col17 {\n",
              "            background-color:  #fef6fb;\n",
              "            color:  #000000;\n",
              "        }    #T_9e6e12b0_b39a_11ea_9350_0242ac1c0002row13_col18 {\n",
              "            background-color:  #fff7fb;\n",
              "            color:  #000000;\n",
              "        }    #T_9e6e12b0_b39a_11ea_9350_0242ac1c0002row13_col19 {\n",
              "            background-color:  #fef6fa;\n",
              "            color:  #000000;\n",
              "        }    #T_9e6e12b0_b39a_11ea_9350_0242ac1c0002row13_col20 {\n",
              "            background-color:  #94b6d7;\n",
              "            color:  #000000;\n",
              "        }    #T_9e6e12b0_b39a_11ea_9350_0242ac1c0002row14_col0 {\n",
              "            background-color:  #c1cae2;\n",
              "            color:  #000000;\n",
              "        }    #T_9e6e12b0_b39a_11ea_9350_0242ac1c0002row14_col1 {\n",
              "            background-color:  #f8f1f8;\n",
              "            color:  #000000;\n",
              "        }    #T_9e6e12b0_b39a_11ea_9350_0242ac1c0002row14_col2 {\n",
              "            background-color:  #c5cce3;\n",
              "            color:  #000000;\n",
              "        }    #T_9e6e12b0_b39a_11ea_9350_0242ac1c0002row14_col3 {\n",
              "            background-color:  #e5e1ef;\n",
              "            color:  #000000;\n",
              "        }    #T_9e6e12b0_b39a_11ea_9350_0242ac1c0002row14_col4 {\n",
              "            background-color:  #e6e2ef;\n",
              "            color:  #000000;\n",
              "        }    #T_9e6e12b0_b39a_11ea_9350_0242ac1c0002row14_col5 {\n",
              "            background-color:  #f5eff6;\n",
              "            color:  #000000;\n",
              "        }    #T_9e6e12b0_b39a_11ea_9350_0242ac1c0002row14_col6 {\n",
              "            background-color:  #fef6fa;\n",
              "            color:  #000000;\n",
              "        }    #T_9e6e12b0_b39a_11ea_9350_0242ac1c0002row14_col7 {\n",
              "            background-color:  #c9cee4;\n",
              "            color:  #000000;\n",
              "        }    #T_9e6e12b0_b39a_11ea_9350_0242ac1c0002row14_col8 {\n",
              "            background-color:  #f1ebf4;\n",
              "            color:  #000000;\n",
              "        }    #T_9e6e12b0_b39a_11ea_9350_0242ac1c0002row14_col9 {\n",
              "            background-color:  #f7f0f7;\n",
              "            color:  #000000;\n",
              "        }    #T_9e6e12b0_b39a_11ea_9350_0242ac1c0002row14_col10 {\n",
              "            background-color:  #f0eaf4;\n",
              "            color:  #000000;\n",
              "        }    #T_9e6e12b0_b39a_11ea_9350_0242ac1c0002row14_col11 {\n",
              "            background-color:  #f0eaf4;\n",
              "            color:  #000000;\n",
              "        }    #T_9e6e12b0_b39a_11ea_9350_0242ac1c0002row14_col12 {\n",
              "            background-color:  #f4eef6;\n",
              "            color:  #000000;\n",
              "        }    #T_9e6e12b0_b39a_11ea_9350_0242ac1c0002row14_col13 {\n",
              "            background-color:  #e1dfed;\n",
              "            color:  #000000;\n",
              "        }    #T_9e6e12b0_b39a_11ea_9350_0242ac1c0002row14_col14 {\n",
              "            background-color:  #023858;\n",
              "            color:  #f1f1f1;\n",
              "        }    #T_9e6e12b0_b39a_11ea_9350_0242ac1c0002row14_col15 {\n",
              "            background-color:  #8fb4d6;\n",
              "            color:  #000000;\n",
              "        }    #T_9e6e12b0_b39a_11ea_9350_0242ac1c0002row14_col16 {\n",
              "            background-color:  #fef6fb;\n",
              "            color:  #000000;\n",
              "        }    #T_9e6e12b0_b39a_11ea_9350_0242ac1c0002row14_col17 {\n",
              "            background-color:  #fdf5fa;\n",
              "            color:  #000000;\n",
              "        }    #T_9e6e12b0_b39a_11ea_9350_0242ac1c0002row14_col18 {\n",
              "            background-color:  #fcf4fa;\n",
              "            color:  #000000;\n",
              "        }    #T_9e6e12b0_b39a_11ea_9350_0242ac1c0002row14_col19 {\n",
              "            background-color:  #fdf5fa;\n",
              "            color:  #000000;\n",
              "        }    #T_9e6e12b0_b39a_11ea_9350_0242ac1c0002row14_col20 {\n",
              "            background-color:  #b1c2de;\n",
              "            color:  #000000;\n",
              "        }    #T_9e6e12b0_b39a_11ea_9350_0242ac1c0002row15_col0 {\n",
              "            background-color:  #c6cce3;\n",
              "            color:  #000000;\n",
              "        }    #T_9e6e12b0_b39a_11ea_9350_0242ac1c0002row15_col1 {\n",
              "            background-color:  #fbf4f9;\n",
              "            color:  #000000;\n",
              "        }    #T_9e6e12b0_b39a_11ea_9350_0242ac1c0002row15_col2 {\n",
              "            background-color:  #d7d6e9;\n",
              "            color:  #000000;\n",
              "        }    #T_9e6e12b0_b39a_11ea_9350_0242ac1c0002row15_col3 {\n",
              "            background-color:  #f0eaf4;\n",
              "            color:  #000000;\n",
              "        }    #T_9e6e12b0_b39a_11ea_9350_0242ac1c0002row15_col4 {\n",
              "            background-color:  #bcc7e1;\n",
              "            color:  #000000;\n",
              "        }    #T_9e6e12b0_b39a_11ea_9350_0242ac1c0002row15_col5 {\n",
              "            background-color:  #fcf4fa;\n",
              "            color:  #000000;\n",
              "        }    #T_9e6e12b0_b39a_11ea_9350_0242ac1c0002row15_col6 {\n",
              "            background-color:  #fdf5fa;\n",
              "            color:  #000000;\n",
              "        }    #T_9e6e12b0_b39a_11ea_9350_0242ac1c0002row15_col7 {\n",
              "            background-color:  #73a9cf;\n",
              "            color:  #000000;\n",
              "        }    #T_9e6e12b0_b39a_11ea_9350_0242ac1c0002row15_col8 {\n",
              "            background-color:  #fff7fb;\n",
              "            color:  #000000;\n",
              "        }    #T_9e6e12b0_b39a_11ea_9350_0242ac1c0002row15_col9 {\n",
              "            background-color:  #f5eef6;\n",
              "            color:  #000000;\n",
              "        }    #T_9e6e12b0_b39a_11ea_9350_0242ac1c0002row15_col10 {\n",
              "            background-color:  #f9f2f8;\n",
              "            color:  #000000;\n",
              "        }    #T_9e6e12b0_b39a_11ea_9350_0242ac1c0002row15_col11 {\n",
              "            background-color:  #d9d8ea;\n",
              "            color:  #000000;\n",
              "        }    #T_9e6e12b0_b39a_11ea_9350_0242ac1c0002row15_col12 {\n",
              "            background-color:  #60a1ca;\n",
              "            color:  #000000;\n",
              "        }    #T_9e6e12b0_b39a_11ea_9350_0242ac1c0002row15_col13 {\n",
              "            background-color:  #f0eaf4;\n",
              "            color:  #000000;\n",
              "        }    #T_9e6e12b0_b39a_11ea_9350_0242ac1c0002row15_col14 {\n",
              "            background-color:  #88b1d4;\n",
              "            color:  #000000;\n",
              "        }    #T_9e6e12b0_b39a_11ea_9350_0242ac1c0002row15_col15 {\n",
              "            background-color:  #023858;\n",
              "            color:  #f1f1f1;\n",
              "        }    #T_9e6e12b0_b39a_11ea_9350_0242ac1c0002row15_col16 {\n",
              "            background-color:  #fff7fb;\n",
              "            color:  #000000;\n",
              "        }    #T_9e6e12b0_b39a_11ea_9350_0242ac1c0002row15_col17 {\n",
              "            background-color:  #fef6fb;\n",
              "            color:  #000000;\n",
              "        }    #T_9e6e12b0_b39a_11ea_9350_0242ac1c0002row15_col18 {\n",
              "            background-color:  #fdf5fa;\n",
              "            color:  #000000;\n",
              "        }    #T_9e6e12b0_b39a_11ea_9350_0242ac1c0002row15_col19 {\n",
              "            background-color:  #fef6fa;\n",
              "            color:  #000000;\n",
              "        }    #T_9e6e12b0_b39a_11ea_9350_0242ac1c0002row15_col20 {\n",
              "            background-color:  #fcf4fa;\n",
              "            color:  #000000;\n",
              "        }    #T_9e6e12b0_b39a_11ea_9350_0242ac1c0002row16_col0 {\n",
              "            background-color:  #c4cbe3;\n",
              "            color:  #000000;\n",
              "        }    #T_9e6e12b0_b39a_11ea_9350_0242ac1c0002row16_col1 {\n",
              "            background-color:  #faf2f8;\n",
              "            color:  #000000;\n",
              "        }    #T_9e6e12b0_b39a_11ea_9350_0242ac1c0002row16_col2 {\n",
              "            background-color:  #c4cbe3;\n",
              "            color:  #000000;\n",
              "        }    #T_9e6e12b0_b39a_11ea_9350_0242ac1c0002row16_col3 {\n",
              "            background-color:  #eae6f1;\n",
              "            color:  #000000;\n",
              "        }    #T_9e6e12b0_b39a_11ea_9350_0242ac1c0002row16_col4 {\n",
              "            background-color:  #e9e5f1;\n",
              "            color:  #000000;\n",
              "        }    #T_9e6e12b0_b39a_11ea_9350_0242ac1c0002row16_col5 {\n",
              "            background-color:  #f4edf6;\n",
              "            color:  #000000;\n",
              "        }    #T_9e6e12b0_b39a_11ea_9350_0242ac1c0002row16_col6 {\n",
              "            background-color:  #fdf5fa;\n",
              "            color:  #000000;\n",
              "        }    #T_9e6e12b0_b39a_11ea_9350_0242ac1c0002row16_col7 {\n",
              "            background-color:  #e0deed;\n",
              "            color:  #000000;\n",
              "        }    #T_9e6e12b0_b39a_11ea_9350_0242ac1c0002row16_col8 {\n",
              "            background-color:  #e7e3f0;\n",
              "            color:  #000000;\n",
              "        }    #T_9e6e12b0_b39a_11ea_9350_0242ac1c0002row16_col9 {\n",
              "            background-color:  #faf2f8;\n",
              "            color:  #000000;\n",
              "        }    #T_9e6e12b0_b39a_11ea_9350_0242ac1c0002row16_col10 {\n",
              "            background-color:  #f5eef6;\n",
              "            color:  #000000;\n",
              "        }    #T_9e6e12b0_b39a_11ea_9350_0242ac1c0002row16_col11 {\n",
              "            background-color:  #f4edf6;\n",
              "            color:  #000000;\n",
              "        }    #T_9e6e12b0_b39a_11ea_9350_0242ac1c0002row16_col12 {\n",
              "            background-color:  #a7bddb;\n",
              "            color:  #000000;\n",
              "        }    #T_9e6e12b0_b39a_11ea_9350_0242ac1c0002row16_col13 {\n",
              "            background-color:  #a8bedc;\n",
              "            color:  #000000;\n",
              "        }    #T_9e6e12b0_b39a_11ea_9350_0242ac1c0002row16_col14 {\n",
              "            background-color:  #b8c6e0;\n",
              "            color:  #000000;\n",
              "        }    #T_9e6e12b0_b39a_11ea_9350_0242ac1c0002row16_col15 {\n",
              "            background-color:  #c2cbe2;\n",
              "            color:  #000000;\n",
              "        }    #T_9e6e12b0_b39a_11ea_9350_0242ac1c0002row16_col16 {\n",
              "            background-color:  #023858;\n",
              "            color:  #f1f1f1;\n",
              "        }    #T_9e6e12b0_b39a_11ea_9350_0242ac1c0002row16_col17 {\n",
              "            background-color:  #fff7fb;\n",
              "            color:  #000000;\n",
              "        }    #T_9e6e12b0_b39a_11ea_9350_0242ac1c0002row16_col18 {\n",
              "            background-color:  #fef6fb;\n",
              "            color:  #000000;\n",
              "        }    #T_9e6e12b0_b39a_11ea_9350_0242ac1c0002row16_col19 {\n",
              "            background-color:  #fef6fa;\n",
              "            color:  #000000;\n",
              "        }    #T_9e6e12b0_b39a_11ea_9350_0242ac1c0002row16_col20 {\n",
              "            background-color:  #cdd0e5;\n",
              "            color:  #000000;\n",
              "        }    #T_9e6e12b0_b39a_11ea_9350_0242ac1c0002row17_col0 {\n",
              "            background-color:  #c6cce3;\n",
              "            color:  #000000;\n",
              "        }    #T_9e6e12b0_b39a_11ea_9350_0242ac1c0002row17_col1 {\n",
              "            background-color:  #faf3f9;\n",
              "            color:  #000000;\n",
              "        }    #T_9e6e12b0_b39a_11ea_9350_0242ac1c0002row17_col2 {\n",
              "            background-color:  #c5cce3;\n",
              "            color:  #000000;\n",
              "        }    #T_9e6e12b0_b39a_11ea_9350_0242ac1c0002row17_col3 {\n",
              "            background-color:  #e8e4f0;\n",
              "            color:  #000000;\n",
              "        }    #T_9e6e12b0_b39a_11ea_9350_0242ac1c0002row17_col4 {\n",
              "            background-color:  #eae6f1;\n",
              "            color:  #000000;\n",
              "        }    #T_9e6e12b0_b39a_11ea_9350_0242ac1c0002row17_col5 {\n",
              "            background-color:  #f4eef6;\n",
              "            color:  #000000;\n",
              "        }    #T_9e6e12b0_b39a_11ea_9350_0242ac1c0002row17_col6 {\n",
              "            background-color:  #fdf5fa;\n",
              "            color:  #000000;\n",
              "        }    #T_9e6e12b0_b39a_11ea_9350_0242ac1c0002row17_col7 {\n",
              "            background-color:  #e2dfee;\n",
              "            color:  #000000;\n",
              "        }    #T_9e6e12b0_b39a_11ea_9350_0242ac1c0002row17_col8 {\n",
              "            background-color:  #e7e3f0;\n",
              "            color:  #000000;\n",
              "        }    #T_9e6e12b0_b39a_11ea_9350_0242ac1c0002row17_col9 {\n",
              "            background-color:  #f9f2f8;\n",
              "            color:  #000000;\n",
              "        }    #T_9e6e12b0_b39a_11ea_9350_0242ac1c0002row17_col10 {\n",
              "            background-color:  #f5eef6;\n",
              "            color:  #000000;\n",
              "        }    #T_9e6e12b0_b39a_11ea_9350_0242ac1c0002row17_col11 {\n",
              "            background-color:  #f4eef6;\n",
              "            color:  #000000;\n",
              "        }    #T_9e6e12b0_b39a_11ea_9350_0242ac1c0002row17_col12 {\n",
              "            background-color:  #a9bfdc;\n",
              "            color:  #000000;\n",
              "        }    #T_9e6e12b0_b39a_11ea_9350_0242ac1c0002row17_col13 {\n",
              "            background-color:  #a8bedc;\n",
              "            color:  #000000;\n",
              "        }    #T_9e6e12b0_b39a_11ea_9350_0242ac1c0002row17_col14 {\n",
              "            background-color:  #b7c5df;\n",
              "            color:  #000000;\n",
              "        }    #T_9e6e12b0_b39a_11ea_9350_0242ac1c0002row17_col15 {\n",
              "            background-color:  #c0c9e2;\n",
              "            color:  #000000;\n",
              "        }    #T_9e6e12b0_b39a_11ea_9350_0242ac1c0002row17_col16 {\n",
              "            background-color:  #fff7fb;\n",
              "            color:  #000000;\n",
              "        }    #T_9e6e12b0_b39a_11ea_9350_0242ac1c0002row17_col17 {\n",
              "            background-color:  #023858;\n",
              "            color:  #f1f1f1;\n",
              "        }    #T_9e6e12b0_b39a_11ea_9350_0242ac1c0002row17_col18 {\n",
              "            background-color:  #fef6fb;\n",
              "            color:  #000000;\n",
              "        }    #T_9e6e12b0_b39a_11ea_9350_0242ac1c0002row17_col19 {\n",
              "            background-color:  #fdf5fa;\n",
              "            color:  #000000;\n",
              "        }    #T_9e6e12b0_b39a_11ea_9350_0242ac1c0002row17_col20 {\n",
              "            background-color:  #d1d2e6;\n",
              "            color:  #000000;\n",
              "        }    #T_9e6e12b0_b39a_11ea_9350_0242ac1c0002row18_col0 {\n",
              "            background-color:  #c8cde4;\n",
              "            color:  #000000;\n",
              "        }    #T_9e6e12b0_b39a_11ea_9350_0242ac1c0002row18_col1 {\n",
              "            background-color:  #faf2f8;\n",
              "            color:  #000000;\n",
              "        }    #T_9e6e12b0_b39a_11ea_9350_0242ac1c0002row18_col2 {\n",
              "            background-color:  #c4cbe3;\n",
              "            color:  #000000;\n",
              "        }    #T_9e6e12b0_b39a_11ea_9350_0242ac1c0002row18_col3 {\n",
              "            background-color:  #eae6f1;\n",
              "            color:  #000000;\n",
              "        }    #T_9e6e12b0_b39a_11ea_9350_0242ac1c0002row18_col4 {\n",
              "            background-color:  #e9e5f1;\n",
              "            color:  #000000;\n",
              "        }    #T_9e6e12b0_b39a_11ea_9350_0242ac1c0002row18_col5 {\n",
              "            background-color:  #f3edf5;\n",
              "            color:  #000000;\n",
              "        }    #T_9e6e12b0_b39a_11ea_9350_0242ac1c0002row18_col6 {\n",
              "            background-color:  #fdf5fa;\n",
              "            color:  #000000;\n",
              "        }    #T_9e6e12b0_b39a_11ea_9350_0242ac1c0002row18_col7 {\n",
              "            background-color:  #e0deed;\n",
              "            color:  #000000;\n",
              "        }    #T_9e6e12b0_b39a_11ea_9350_0242ac1c0002row18_col8 {\n",
              "            background-color:  #e5e1ef;\n",
              "            color:  #000000;\n",
              "        }    #T_9e6e12b0_b39a_11ea_9350_0242ac1c0002row18_col9 {\n",
              "            background-color:  #f9f2f8;\n",
              "            color:  #000000;\n",
              "        }    #T_9e6e12b0_b39a_11ea_9350_0242ac1c0002row18_col10 {\n",
              "            background-color:  #f4eef6;\n",
              "            color:  #000000;\n",
              "        }    #T_9e6e12b0_b39a_11ea_9350_0242ac1c0002row18_col11 {\n",
              "            background-color:  #f5eef6;\n",
              "            color:  #000000;\n",
              "        }    #T_9e6e12b0_b39a_11ea_9350_0242ac1c0002row18_col12 {\n",
              "            background-color:  #a7bddb;\n",
              "            color:  #000000;\n",
              "        }    #T_9e6e12b0_b39a_11ea_9350_0242ac1c0002row18_col13 {\n",
              "            background-color:  #abbfdc;\n",
              "            color:  #000000;\n",
              "        }    #T_9e6e12b0_b39a_11ea_9350_0242ac1c0002row18_col14 {\n",
              "            background-color:  #b5c4df;\n",
              "            color:  #000000;\n",
              "        }    #T_9e6e12b0_b39a_11ea_9350_0242ac1c0002row18_col15 {\n",
              "            background-color:  #c0c9e2;\n",
              "            color:  #000000;\n",
              "        }    #T_9e6e12b0_b39a_11ea_9350_0242ac1c0002row18_col16 {\n",
              "            background-color:  #fff7fb;\n",
              "            color:  #000000;\n",
              "        }    #T_9e6e12b0_b39a_11ea_9350_0242ac1c0002row18_col17 {\n",
              "            background-color:  #fff7fb;\n",
              "            color:  #000000;\n",
              "        }    #T_9e6e12b0_b39a_11ea_9350_0242ac1c0002row18_col18 {\n",
              "            background-color:  #023858;\n",
              "            color:  #f1f1f1;\n",
              "        }    #T_9e6e12b0_b39a_11ea_9350_0242ac1c0002row18_col19 {\n",
              "            background-color:  #fdf5fa;\n",
              "            color:  #000000;\n",
              "        }    #T_9e6e12b0_b39a_11ea_9350_0242ac1c0002row18_col20 {\n",
              "            background-color:  #d2d2e7;\n",
              "            color:  #000000;\n",
              "        }    #T_9e6e12b0_b39a_11ea_9350_0242ac1c0002row19_col0 {\n",
              "            background-color:  #c6cce3;\n",
              "            color:  #000000;\n",
              "        }    #T_9e6e12b0_b39a_11ea_9350_0242ac1c0002row19_col1 {\n",
              "            background-color:  #faf3f9;\n",
              "            color:  #000000;\n",
              "        }    #T_9e6e12b0_b39a_11ea_9350_0242ac1c0002row19_col2 {\n",
              "            background-color:  #c6cce3;\n",
              "            color:  #000000;\n",
              "        }    #T_9e6e12b0_b39a_11ea_9350_0242ac1c0002row19_col3 {\n",
              "            background-color:  #ebe6f2;\n",
              "            color:  #000000;\n",
              "        }    #T_9e6e12b0_b39a_11ea_9350_0242ac1c0002row19_col4 {\n",
              "            background-color:  #eae6f1;\n",
              "            color:  #000000;\n",
              "        }    #T_9e6e12b0_b39a_11ea_9350_0242ac1c0002row19_col5 {\n",
              "            background-color:  #f5eef6;\n",
              "            color:  #000000;\n",
              "        }    #T_9e6e12b0_b39a_11ea_9350_0242ac1c0002row19_col6 {\n",
              "            background-color:  #fff7fb;\n",
              "            color:  #000000;\n",
              "        }    #T_9e6e12b0_b39a_11ea_9350_0242ac1c0002row19_col7 {\n",
              "            background-color:  #e0deed;\n",
              "            color:  #000000;\n",
              "        }    #T_9e6e12b0_b39a_11ea_9350_0242ac1c0002row19_col8 {\n",
              "            background-color:  #e5e1ef;\n",
              "            color:  #000000;\n",
              "        }    #T_9e6e12b0_b39a_11ea_9350_0242ac1c0002row19_col9 {\n",
              "            background-color:  #f8f1f8;\n",
              "            color:  #000000;\n",
              "        }    #T_9e6e12b0_b39a_11ea_9350_0242ac1c0002row19_col10 {\n",
              "            background-color:  #f3edf5;\n",
              "            color:  #000000;\n",
              "        }    #T_9e6e12b0_b39a_11ea_9350_0242ac1c0002row19_col11 {\n",
              "            background-color:  #f5eff6;\n",
              "            color:  #000000;\n",
              "        }    #T_9e6e12b0_b39a_11ea_9350_0242ac1c0002row19_col12 {\n",
              "            background-color:  #a8bedc;\n",
              "            color:  #000000;\n",
              "        }    #T_9e6e12b0_b39a_11ea_9350_0242ac1c0002row19_col13 {\n",
              "            background-color:  #a8bedc;\n",
              "            color:  #000000;\n",
              "        }    #T_9e6e12b0_b39a_11ea_9350_0242ac1c0002row19_col14 {\n",
              "            background-color:  #b8c6e0;\n",
              "            color:  #000000;\n",
              "        }    #T_9e6e12b0_b39a_11ea_9350_0242ac1c0002row19_col15 {\n",
              "            background-color:  #c1cae2;\n",
              "            color:  #000000;\n",
              "        }    #T_9e6e12b0_b39a_11ea_9350_0242ac1c0002row19_col16 {\n",
              "            background-color:  #fff7fb;\n",
              "            color:  #000000;\n",
              "        }    #T_9e6e12b0_b39a_11ea_9350_0242ac1c0002row19_col17 {\n",
              "            background-color:  #fef6fa;\n",
              "            color:  #000000;\n",
              "        }    #T_9e6e12b0_b39a_11ea_9350_0242ac1c0002row19_col18 {\n",
              "            background-color:  #fdf5fa;\n",
              "            color:  #000000;\n",
              "        }    #T_9e6e12b0_b39a_11ea_9350_0242ac1c0002row19_col19 {\n",
              "            background-color:  #023858;\n",
              "            color:  #f1f1f1;\n",
              "        }    #T_9e6e12b0_b39a_11ea_9350_0242ac1c0002row19_col20 {\n",
              "            background-color:  #d2d2e7;\n",
              "            color:  #000000;\n",
              "        }    #T_9e6e12b0_b39a_11ea_9350_0242ac1c0002row20_col0 {\n",
              "            background-color:  #bfc9e1;\n",
              "            color:  #000000;\n",
              "        }    #T_9e6e12b0_b39a_11ea_9350_0242ac1c0002row20_col1 {\n",
              "            background-color:  #f7f0f7;\n",
              "            color:  #000000;\n",
              "        }    #T_9e6e12b0_b39a_11ea_9350_0242ac1c0002row20_col2 {\n",
              "            background-color:  #bbc7e0;\n",
              "            color:  #000000;\n",
              "        }    #T_9e6e12b0_b39a_11ea_9350_0242ac1c0002row20_col3 {\n",
              "            background-color:  #dedcec;\n",
              "            color:  #000000;\n",
              "        }    #T_9e6e12b0_b39a_11ea_9350_0242ac1c0002row20_col4 {\n",
              "            background-color:  #f8f1f8;\n",
              "            color:  #000000;\n",
              "        }    #T_9e6e12b0_b39a_11ea_9350_0242ac1c0002row20_col5 {\n",
              "            background-color:  #f2ecf5;\n",
              "            color:  #000000;\n",
              "        }    #T_9e6e12b0_b39a_11ea_9350_0242ac1c0002row20_col6 {\n",
              "            background-color:  #fef6fb;\n",
              "            color:  #000000;\n",
              "        }    #T_9e6e12b0_b39a_11ea_9350_0242ac1c0002row20_col7 {\n",
              "            background-color:  #f7f0f7;\n",
              "            color:  #000000;\n",
              "        }    #T_9e6e12b0_b39a_11ea_9350_0242ac1c0002row20_col8 {\n",
              "            background-color:  #e7e3f0;\n",
              "            color:  #000000;\n",
              "        }    #T_9e6e12b0_b39a_11ea_9350_0242ac1c0002row20_col9 {\n",
              "            background-color:  #f7f0f7;\n",
              "            color:  #000000;\n",
              "        }    #T_9e6e12b0_b39a_11ea_9350_0242ac1c0002row20_col10 {\n",
              "            background-color:  #8bb2d4;\n",
              "            color:  #000000;\n",
              "        }    #T_9e6e12b0_b39a_11ea_9350_0242ac1c0002row20_col11 {\n",
              "            background-color:  #fdf5fa;\n",
              "            color:  #000000;\n",
              "        }    #T_9e6e12b0_b39a_11ea_9350_0242ac1c0002row20_col12 {\n",
              "            background-color:  #e3e0ee;\n",
              "            color:  #000000;\n",
              "        }    #T_9e6e12b0_b39a_11ea_9350_0242ac1c0002row20_col13 {\n",
              "            background-color:  #6da6cd;\n",
              "            color:  #000000;\n",
              "        }    #T_9e6e12b0_b39a_11ea_9350_0242ac1c0002row20_col14 {\n",
              "            background-color:  #97b7d7;\n",
              "            color:  #000000;\n",
              "        }    #T_9e6e12b0_b39a_11ea_9350_0242ac1c0002row20_col15 {\n",
              "            background-color:  #f2ecf5;\n",
              "            color:  #000000;\n",
              "        }    #T_9e6e12b0_b39a_11ea_9350_0242ac1c0002row20_col16 {\n",
              "            background-color:  #fbf4f9;\n",
              "            color:  #000000;\n",
              "        }    #T_9e6e12b0_b39a_11ea_9350_0242ac1c0002row20_col17 {\n",
              "            background-color:  #fef6fa;\n",
              "            color:  #000000;\n",
              "        }    #T_9e6e12b0_b39a_11ea_9350_0242ac1c0002row20_col18 {\n",
              "            background-color:  #fef6fa;\n",
              "            color:  #000000;\n",
              "        }    #T_9e6e12b0_b39a_11ea_9350_0242ac1c0002row20_col19 {\n",
              "            background-color:  #fef6fb;\n",
              "            color:  #000000;\n",
              "        }    #T_9e6e12b0_b39a_11ea_9350_0242ac1c0002row20_col20 {\n",
              "            background-color:  #023858;\n",
              "            color:  #f1f1f1;\n",
              "        }</style><table id=\"T_9e6e12b0_b39a_11ea_9350_0242ac1c0002\" ><thead>    <tr>        <th class=\"blank level0\" ></th>        <th class=\"col_heading level0 col0\" >Age</th>        <th class=\"col_heading level0 col1\" >Job</th>        <th class=\"col_heading level0 col2\" >Marital</th>        <th class=\"col_heading level0 col3\" >Qualification</th>        <th class=\"col_heading level0 col4\" >Default_Premium</th>        <th class=\"col_heading level0 col5\" >Health_Insurance</th>        <th class=\"col_heading level0 col6\" >General_Insurance</th>        <th class=\"col_heading level0 col7\" >Contact</th>        <th class=\"col_heading level0 col8\" >Month</th>        <th class=\"col_heading level0 col9\" >Last_Contact_Day</th>        <th class=\"col_heading level0 col10\" >Last_Contact_Duration</th>        <th class=\"col_heading level0 col11\" >Contacts_During_Campaign</th>        <th class=\"col_heading level0 col12\" >Previous_Contact_Days</th>        <th class=\"col_heading level0 col13\" >Contacts_Before_Campaign</th>        <th class=\"col_heading level0 col14\" >Previous_Outcome</th>        <th class=\"col_heading level0 col15\" >Employement_Rates</th>        <th class=\"col_heading level0 col16\" >Price_Variation</th>        <th class=\"col_heading level0 col17\" >Consumer_Confidence_Index</th>        <th class=\"col_heading level0 col18\" >Insurance_Rate</th>        <th class=\"col_heading level0 col19\" >No_Employees</th>        <th class=\"col_heading level0 col20\" >Client_Subscribed</th>    </tr></thead><tbody>\n",
              "                <tr>\n",
              "                        <th id=\"T_9e6e12b0_b39a_11ea_9350_0242ac1c0002level0_row0\" class=\"row_heading level0 row0\" >Age</th>\n",
              "                        <td id=\"T_9e6e12b0_b39a_11ea_9350_0242ac1c0002row0_col0\" class=\"data row0 col0\" >1.000000</td>\n",
              "                        <td id=\"T_9e6e12b0_b39a_11ea_9350_0242ac1c0002row0_col1\" class=\"data row0 col1\" >0.001250</td>\n",
              "                        <td id=\"T_9e6e12b0_b39a_11ea_9350_0242ac1c0002row0_col2\" class=\"data row0 col2\" >-0.389753</td>\n",
              "                        <td id=\"T_9e6e12b0_b39a_11ea_9350_0242ac1c0002row0_col3\" class=\"data row0 col3\" >-0.057766</td>\n",
              "                        <td id=\"T_9e6e12b0_b39a_11ea_9350_0242ac1c0002row0_col4\" class=\"data row0 col4\" >0.164965</td>\n",
              "                        <td id=\"T_9e6e12b0_b39a_11ea_9350_0242ac1c0002row0_col5\" class=\"data row0 col5\" >-0.001603</td>\n",
              "                        <td id=\"T_9e6e12b0_b39a_11ea_9350_0242ac1c0002row0_col6\" class=\"data row0 col6\" >-0.007368</td>\n",
              "                        <td id=\"T_9e6e12b0_b39a_11ea_9350_0242ac1c0002row0_col7\" class=\"data row0 col7\" >0.007021</td>\n",
              "                        <td id=\"T_9e6e12b0_b39a_11ea_9350_0242ac1c0002row0_col8\" class=\"data row0 col8\" >-0.024877</td>\n",
              "                        <td id=\"T_9e6e12b0_b39a_11ea_9350_0242ac1c0002row0_col9\" class=\"data row0 col9\" >-0.017572</td>\n",
              "                        <td id=\"T_9e6e12b0_b39a_11ea_9350_0242ac1c0002row0_col10\" class=\"data row0 col10\" >-0.000866</td>\n",
              "                        <td id=\"T_9e6e12b0_b39a_11ea_9350_0242ac1c0002row0_col11\" class=\"data row0 col11\" >0.004594</td>\n",
              "                        <td id=\"T_9e6e12b0_b39a_11ea_9350_0242ac1c0002row0_col12\" class=\"data row0 col12\" >-0.034369</td>\n",
              "                        <td id=\"T_9e6e12b0_b39a_11ea_9350_0242ac1c0002row0_col13\" class=\"data row0 col13\" >0.024365</td>\n",
              "                        <td id=\"T_9e6e12b0_b39a_11ea_9350_0242ac1c0002row0_col14\" class=\"data row0 col14\" >0.019750</td>\n",
              "                        <td id=\"T_9e6e12b0_b39a_11ea_9350_0242ac1c0002row0_col15\" class=\"data row0 col15\" >-0.000371</td>\n",
              "                        <td id=\"T_9e6e12b0_b39a_11ea_9350_0242ac1c0002row0_col16\" class=\"data row0 col16\" >0.006562</td>\n",
              "                        <td id=\"T_9e6e12b0_b39a_11ea_9350_0242ac1c0002row0_col17\" class=\"data row0 col17\" >0.000074</td>\n",
              "                        <td id=\"T_9e6e12b0_b39a_11ea_9350_0242ac1c0002row0_col18\" class=\"data row0 col18\" >-0.005903</td>\n",
              "                        <td id=\"T_9e6e12b0_b39a_11ea_9350_0242ac1c0002row0_col19\" class=\"data row0 col19\" >-0.001038</td>\n",
              "                        <td id=\"T_9e6e12b0_b39a_11ea_9350_0242ac1c0002row0_col20\" class=\"data row0 col20\" >0.030399</td>\n",
              "            </tr>\n",
              "            <tr>\n",
              "                        <th id=\"T_9e6e12b0_b39a_11ea_9350_0242ac1c0002level0_row1\" class=\"row_heading level0 row1\" >Job</th>\n",
              "                        <td id=\"T_9e6e12b0_b39a_11ea_9350_0242ac1c0002row1_col0\" class=\"data row1 col0\" >0.001250</td>\n",
              "                        <td id=\"T_9e6e12b0_b39a_11ea_9350_0242ac1c0002row1_col1\" class=\"data row1 col1\" >1.000000</td>\n",
              "                        <td id=\"T_9e6e12b0_b39a_11ea_9350_0242ac1c0002row1_col2\" class=\"data row1 col2\" >0.027897</td>\n",
              "                        <td id=\"T_9e6e12b0_b39a_11ea_9350_0242ac1c0002row1_col3\" class=\"data row1 col3\" >0.118668</td>\n",
              "                        <td id=\"T_9e6e12b0_b39a_11ea_9350_0242ac1c0002row1_col4\" class=\"data row1 col4\" >-0.028277</td>\n",
              "                        <td id=\"T_9e6e12b0_b39a_11ea_9350_0242ac1c0002row1_col5\" class=\"data row1 col5\" >0.006962</td>\n",
              "                        <td id=\"T_9e6e12b0_b39a_11ea_9350_0242ac1c0002row1_col6\" class=\"data row1 col6\" >-0.010209</td>\n",
              "                        <td id=\"T_9e6e12b0_b39a_11ea_9350_0242ac1c0002row1_col7\" class=\"data row1 col7\" >-0.025132</td>\n",
              "                        <td id=\"T_9e6e12b0_b39a_11ea_9350_0242ac1c0002row1_col8\" class=\"data row1 col8\" >-0.033213</td>\n",
              "                        <td id=\"T_9e6e12b0_b39a_11ea_9350_0242ac1c0002row1_col9\" class=\"data row1 col9\" >-0.000844</td>\n",
              "                        <td id=\"T_9e6e12b0_b39a_11ea_9350_0242ac1c0002row1_col10\" class=\"data row1 col10\" >-0.006490</td>\n",
              "                        <td id=\"T_9e6e12b0_b39a_11ea_9350_0242ac1c0002row1_col11\" class=\"data row1 col11\" >-0.006923</td>\n",
              "                        <td id=\"T_9e6e12b0_b39a_11ea_9350_0242ac1c0002row1_col12\" class=\"data row1 col12\" >-0.028468</td>\n",
              "                        <td id=\"T_9e6e12b0_b39a_11ea_9350_0242ac1c0002row1_col13\" class=\"data row1 col13\" >0.020965</td>\n",
              "                        <td id=\"T_9e6e12b0_b39a_11ea_9350_0242ac1c0002row1_col14\" class=\"data row1 col14\" >0.011504</td>\n",
              "                        <td id=\"T_9e6e12b0_b39a_11ea_9350_0242ac1c0002row1_col15\" class=\"data row1 col15\" >-0.008271</td>\n",
              "                        <td id=\"T_9e6e12b0_b39a_11ea_9350_0242ac1c0002row1_col16\" class=\"data row1 col16\" >0.005623</td>\n",
              "                        <td id=\"T_9e6e12b0_b39a_11ea_9350_0242ac1c0002row1_col17\" class=\"data row1 col17\" >0.001747</td>\n",
              "                        <td id=\"T_9e6e12b0_b39a_11ea_9350_0242ac1c0002row1_col18\" class=\"data row1 col18\" >0.006183</td>\n",
              "                        <td id=\"T_9e6e12b0_b39a_11ea_9350_0242ac1c0002row1_col19\" class=\"data row1 col19\" >0.001640</td>\n",
              "                        <td id=\"T_9e6e12b0_b39a_11ea_9350_0242ac1c0002row1_col20\" class=\"data row1 col20\" >0.025122</td>\n",
              "            </tr>\n",
              "            <tr>\n",
              "                        <th id=\"T_9e6e12b0_b39a_11ea_9350_0242ac1c0002level0_row2\" class=\"row_heading level0 row2\" >Marital</th>\n",
              "                        <td id=\"T_9e6e12b0_b39a_11ea_9350_0242ac1c0002row2_col0\" class=\"data row2 col0\" >-0.389753</td>\n",
              "                        <td id=\"T_9e6e12b0_b39a_11ea_9350_0242ac1c0002row2_col1\" class=\"data row2 col1\" >0.027897</td>\n",
              "                        <td id=\"T_9e6e12b0_b39a_11ea_9350_0242ac1c0002row2_col2\" class=\"data row2 col2\" >1.000000</td>\n",
              "                        <td id=\"T_9e6e12b0_b39a_11ea_9350_0242ac1c0002row2_col3\" class=\"data row2 col3\" >0.093078</td>\n",
              "                        <td id=\"T_9e6e12b0_b39a_11ea_9350_0242ac1c0002row2_col4\" class=\"data row2 col4\" >-0.079450</td>\n",
              "                        <td id=\"T_9e6e12b0_b39a_11ea_9350_0242ac1c0002row2_col5\" class=\"data row2 col5\" >0.010467</td>\n",
              "                        <td id=\"T_9e6e12b0_b39a_11ea_9350_0242ac1c0002row2_col6\" class=\"data row2 col6\" >0.005788</td>\n",
              "                        <td id=\"T_9e6e12b0_b39a_11ea_9350_0242ac1c0002row2_col7\" class=\"data row2 col7\" >-0.054501</td>\n",
              "                        <td id=\"T_9e6e12b0_b39a_11ea_9350_0242ac1c0002row2_col8\" class=\"data row2 col8\" >-0.007629</td>\n",
              "                        <td id=\"T_9e6e12b0_b39a_11ea_9350_0242ac1c0002row2_col9\" class=\"data row2 col9\" >0.002202</td>\n",
              "                        <td id=\"T_9e6e12b0_b39a_11ea_9350_0242ac1c0002row2_col10\" class=\"data row2 col10\" >0.010290</td>\n",
              "                        <td id=\"T_9e6e12b0_b39a_11ea_9350_0242ac1c0002row2_col11\" class=\"data row2 col11\" >-0.007240</td>\n",
              "                        <td id=\"T_9e6e12b0_b39a_11ea_9350_0242ac1c0002row2_col12\" class=\"data row2 col12\" >-0.037942</td>\n",
              "                        <td id=\"T_9e6e12b0_b39a_11ea_9350_0242ac1c0002row2_col13\" class=\"data row2 col13\" >0.038689</td>\n",
              "                        <td id=\"T_9e6e12b0_b39a_11ea_9350_0242ac1c0002row2_col14\" class=\"data row2 col14\" >0.001912</td>\n",
              "                        <td id=\"T_9e6e12b0_b39a_11ea_9350_0242ac1c0002row2_col15\" class=\"data row2 col15\" >-0.084210</td>\n",
              "                        <td id=\"T_9e6e12b0_b39a_11ea_9350_0242ac1c0002row2_col16\" class=\"data row2 col16\" >0.008624</td>\n",
              "                        <td id=\"T_9e6e12b0_b39a_11ea_9350_0242ac1c0002row2_col17\" class=\"data row2 col17\" >0.006011</td>\n",
              "                        <td id=\"T_9e6e12b0_b39a_11ea_9350_0242ac1c0002row2_col18\" class=\"data row2 col18\" >0.006604</td>\n",
              "                        <td id=\"T_9e6e12b0_b39a_11ea_9350_0242ac1c0002row2_col19\" class=\"data row2 col19\" >-0.003893</td>\n",
              "                        <td id=\"T_9e6e12b0_b39a_11ea_9350_0242ac1c0002row2_col20\" class=\"data row2 col20\" >0.046203</td>\n",
              "            </tr>\n",
              "            <tr>\n",
              "                        <th id=\"T_9e6e12b0_b39a_11ea_9350_0242ac1c0002level0_row3\" class=\"row_heading level0 row3\" >Qualification</th>\n",
              "                        <td id=\"T_9e6e12b0_b39a_11ea_9350_0242ac1c0002row3_col0\" class=\"data row3 col0\" >-0.057766</td>\n",
              "                        <td id=\"T_9e6e12b0_b39a_11ea_9350_0242ac1c0002row3_col1\" class=\"data row3 col1\" >0.118668</td>\n",
              "                        <td id=\"T_9e6e12b0_b39a_11ea_9350_0242ac1c0002row3_col2\" class=\"data row3 col2\" >0.093078</td>\n",
              "                        <td id=\"T_9e6e12b0_b39a_11ea_9350_0242ac1c0002row3_col3\" class=\"data row3 col3\" >1.000000</td>\n",
              "                        <td id=\"T_9e6e12b0_b39a_11ea_9350_0242ac1c0002row3_col4\" class=\"data row3 col4\" >-0.157205</td>\n",
              "                        <td id=\"T_9e6e12b0_b39a_11ea_9350_0242ac1c0002row3_col5\" class=\"data row3 col5\" >0.015110</td>\n",
              "                        <td id=\"T_9e6e12b0_b39a_11ea_9350_0242ac1c0002row3_col6\" class=\"data row3 col6\" >0.007039</td>\n",
              "                        <td id=\"T_9e6e12b0_b39a_11ea_9350_0242ac1c0002row3_col7\" class=\"data row3 col7\" >-0.104552</td>\n",
              "                        <td id=\"T_9e6e12b0_b39a_11ea_9350_0242ac1c0002row3_col8\" class=\"data row3 col8\" >-0.091951</td>\n",
              "                        <td id=\"T_9e6e12b0_b39a_11ea_9350_0242ac1c0002row3_col9\" class=\"data row3 col9\" >-0.015212</td>\n",
              "                        <td id=\"T_9e6e12b0_b39a_11ea_9350_0242ac1c0002row3_col10\" class=\"data row3 col10\" >-0.014593</td>\n",
              "                        <td id=\"T_9e6e12b0_b39a_11ea_9350_0242ac1c0002row3_col11\" class=\"data row3 col11\" >0.001683</td>\n",
              "                        <td id=\"T_9e6e12b0_b39a_11ea_9350_0242ac1c0002row3_col12\" class=\"data row3 col12\" >-0.051286</td>\n",
              "                        <td id=\"T_9e6e12b0_b39a_11ea_9350_0242ac1c0002row3_col13\" class=\"data row3 col13\" >0.038081</td>\n",
              "                        <td id=\"T_9e6e12b0_b39a_11ea_9350_0242ac1c0002row3_col14\" class=\"data row3 col14\" >0.024687</td>\n",
              "                        <td id=\"T_9e6e12b0_b39a_11ea_9350_0242ac1c0002row3_col15\" class=\"data row3 col15\" >-0.040076</td>\n",
              "                        <td id=\"T_9e6e12b0_b39a_11ea_9350_0242ac1c0002row3_col16\" class=\"data row3 col16\" >-0.000087</td>\n",
              "                        <td id=\"T_9e6e12b0_b39a_11ea_9350_0242ac1c0002row3_col17\" class=\"data row3 col17\" >0.007269</td>\n",
              "                        <td id=\"T_9e6e12b0_b39a_11ea_9350_0242ac1c0002row3_col18\" class=\"data row3 col18\" >-0.003019</td>\n",
              "                        <td id=\"T_9e6e12b0_b39a_11ea_9350_0242ac1c0002row3_col19\" class=\"data row3 col19\" >-0.004587</td>\n",
              "                        <td id=\"T_9e6e12b0_b39a_11ea_9350_0242ac1c0002row3_col20\" class=\"data row3 col20\" >0.063032</td>\n",
              "            </tr>\n",
              "            <tr>\n",
              "                        <th id=\"T_9e6e12b0_b39a_11ea_9350_0242ac1c0002level0_row4\" class=\"row_heading level0 row4\" >Default_Premium</th>\n",
              "                        <td id=\"T_9e6e12b0_b39a_11ea_9350_0242ac1c0002row4_col0\" class=\"data row4 col0\" >0.164965</td>\n",
              "                        <td id=\"T_9e6e12b0_b39a_11ea_9350_0242ac1c0002row4_col1\" class=\"data row4 col1\" >-0.028277</td>\n",
              "                        <td id=\"T_9e6e12b0_b39a_11ea_9350_0242ac1c0002row4_col2\" class=\"data row4 col2\" >-0.079450</td>\n",
              "                        <td id=\"T_9e6e12b0_b39a_11ea_9350_0242ac1c0002row4_col3\" class=\"data row4 col3\" >-0.157205</td>\n",
              "                        <td id=\"T_9e6e12b0_b39a_11ea_9350_0242ac1c0002row4_col4\" class=\"data row4 col4\" >1.000000</td>\n",
              "                        <td id=\"T_9e6e12b0_b39a_11ea_9350_0242ac1c0002row4_col5\" class=\"data row4 col5\" >-0.015815</td>\n",
              "                        <td id=\"T_9e6e12b0_b39a_11ea_9350_0242ac1c0002row4_col6\" class=\"data row4 col6\" >-0.003782</td>\n",
              "                        <td id=\"T_9e6e12b0_b39a_11ea_9350_0242ac1c0002row4_col7\" class=\"data row4 col7\" >0.135238</td>\n",
              "                        <td id=\"T_9e6e12b0_b39a_11ea_9350_0242ac1c0002row4_col8\" class=\"data row4 col8\" >-0.015830</td>\n",
              "                        <td id=\"T_9e6e12b0_b39a_11ea_9350_0242ac1c0002row4_col9\" class=\"data row4 col9\" >-0.008701</td>\n",
              "                        <td id=\"T_9e6e12b0_b39a_11ea_9350_0242ac1c0002row4_col10\" class=\"data row4 col10\" >-0.011794</td>\n",
              "                        <td id=\"T_9e6e12b0_b39a_11ea_9350_0242ac1c0002row4_col11\" class=\"data row4 col11\" >0.032825</td>\n",
              "                        <td id=\"T_9e6e12b0_b39a_11ea_9350_0242ac1c0002row4_col12\" class=\"data row4 col12\" >0.080062</td>\n",
              "                        <td id=\"T_9e6e12b0_b39a_11ea_9350_0242ac1c0002row4_col13\" class=\"data row4 col13\" >-0.102416</td>\n",
              "                        <td id=\"T_9e6e12b0_b39a_11ea_9350_0242ac1c0002row4_col14\" class=\"data row4 col14\" >0.023417</td>\n",
              "                        <td id=\"T_9e6e12b0_b39a_11ea_9350_0242ac1c0002row4_col15\" class=\"data row4 col15\" >0.203263</td>\n",
              "                        <td id=\"T_9e6e12b0_b39a_11ea_9350_0242ac1c0002row4_col16\" class=\"data row4 col16\" >0.004675</td>\n",
              "                        <td id=\"T_9e6e12b0_b39a_11ea_9350_0242ac1c0002row4_col17\" class=\"data row4 col17\" >-0.000145</td>\n",
              "                        <td id=\"T_9e6e12b0_b39a_11ea_9350_0242ac1c0002row4_col18\" class=\"data row4 col18\" >0.002874</td>\n",
              "                        <td id=\"T_9e6e12b0_b39a_11ea_9350_0242ac1c0002row4_col19\" class=\"data row4 col19\" >-0.000482</td>\n",
              "                        <td id=\"T_9e6e12b0_b39a_11ea_9350_0242ac1c0002row4_col20\" class=\"data row4 col20\" >-0.099352</td>\n",
              "            </tr>\n",
              "            <tr>\n",
              "                        <th id=\"T_9e6e12b0_b39a_11ea_9350_0242ac1c0002level0_row5\" class=\"row_heading level0 row5\" >Health_Insurance</th>\n",
              "                        <td id=\"T_9e6e12b0_b39a_11ea_9350_0242ac1c0002row5_col0\" class=\"data row5 col0\" >-0.001603</td>\n",
              "                        <td id=\"T_9e6e12b0_b39a_11ea_9350_0242ac1c0002row5_col1\" class=\"data row5 col1\" >0.006962</td>\n",
              "                        <td id=\"T_9e6e12b0_b39a_11ea_9350_0242ac1c0002row5_col2\" class=\"data row5 col2\" >0.010467</td>\n",
              "                        <td id=\"T_9e6e12b0_b39a_11ea_9350_0242ac1c0002row5_col3\" class=\"data row5 col3\" >0.015110</td>\n",
              "                        <td id=\"T_9e6e12b0_b39a_11ea_9350_0242ac1c0002row5_col4\" class=\"data row5 col4\" >-0.015815</td>\n",
              "                        <td id=\"T_9e6e12b0_b39a_11ea_9350_0242ac1c0002row5_col5\" class=\"data row5 col5\" >1.000000</td>\n",
              "                        <td id=\"T_9e6e12b0_b39a_11ea_9350_0242ac1c0002row5_col6\" class=\"data row5 col6\" >0.044296</td>\n",
              "                        <td id=\"T_9e6e12b0_b39a_11ea_9350_0242ac1c0002row5_col7\" class=\"data row5 col7\" >-0.082186</td>\n",
              "                        <td id=\"T_9e6e12b0_b39a_11ea_9350_0242ac1c0002row5_col8\" class=\"data row5 col8\" >-0.018141</td>\n",
              "                        <td id=\"T_9e6e12b0_b39a_11ea_9350_0242ac1c0002row5_col9\" class=\"data row5 col9\" >0.003339</td>\n",
              "                        <td id=\"T_9e6e12b0_b39a_11ea_9350_0242ac1c0002row5_col10\" class=\"data row5 col10\" >-0.007658</td>\n",
              "                        <td id=\"T_9e6e12b0_b39a_11ea_9350_0242ac1c0002row5_col11\" class=\"data row5 col11\" >-0.011010</td>\n",
              "                        <td id=\"T_9e6e12b0_b39a_11ea_9350_0242ac1c0002row5_col12\" class=\"data row5 col12\" >-0.010551</td>\n",
              "                        <td id=\"T_9e6e12b0_b39a_11ea_9350_0242ac1c0002row5_col13\" class=\"data row5 col13\" >0.021314</td>\n",
              "                        <td id=\"T_9e6e12b0_b39a_11ea_9350_0242ac1c0002row5_col14\" class=\"data row5 col14\" >-0.011783</td>\n",
              "                        <td id=\"T_9e6e12b0_b39a_11ea_9350_0242ac1c0002row5_col15\" class=\"data row5 col15\" >-0.060196</td>\n",
              "                        <td id=\"T_9e6e12b0_b39a_11ea_9350_0242ac1c0002row5_col16\" class=\"data row5 col16\" >-0.000129</td>\n",
              "                        <td id=\"T_9e6e12b0_b39a_11ea_9350_0242ac1c0002row5_col17\" class=\"data row5 col17\" >-0.002241</td>\n",
              "                        <td id=\"T_9e6e12b0_b39a_11ea_9350_0242ac1c0002row5_col18\" class=\"data row5 col18\" >0.005434</td>\n",
              "                        <td id=\"T_9e6e12b0_b39a_11ea_9350_0242ac1c0002row5_col19\" class=\"data row5 col19\" >-0.006501</td>\n",
              "                        <td id=\"T_9e6e12b0_b39a_11ea_9350_0242ac1c0002row5_col20\" class=\"data row5 col20\" >0.011552</td>\n",
              "            </tr>\n",
              "            <tr>\n",
              "                        <th id=\"T_9e6e12b0_b39a_11ea_9350_0242ac1c0002level0_row6\" class=\"row_heading level0 row6\" >General_Insurance</th>\n",
              "                        <td id=\"T_9e6e12b0_b39a_11ea_9350_0242ac1c0002row6_col0\" class=\"data row6 col0\" >-0.007368</td>\n",
              "                        <td id=\"T_9e6e12b0_b39a_11ea_9350_0242ac1c0002row6_col1\" class=\"data row6 col1\" >-0.010209</td>\n",
              "                        <td id=\"T_9e6e12b0_b39a_11ea_9350_0242ac1c0002row6_col2\" class=\"data row6 col2\" >0.005788</td>\n",
              "                        <td id=\"T_9e6e12b0_b39a_11ea_9350_0242ac1c0002row6_col3\" class=\"data row6 col3\" >0.007039</td>\n",
              "                        <td id=\"T_9e6e12b0_b39a_11ea_9350_0242ac1c0002row6_col4\" class=\"data row6 col4\" >-0.003782</td>\n",
              "                        <td id=\"T_9e6e12b0_b39a_11ea_9350_0242ac1c0002row6_col5\" class=\"data row6 col5\" >0.044296</td>\n",
              "                        <td id=\"T_9e6e12b0_b39a_11ea_9350_0242ac1c0002row6_col6\" class=\"data row6 col6\" >1.000000</td>\n",
              "                        <td id=\"T_9e6e12b0_b39a_11ea_9350_0242ac1c0002row6_col7\" class=\"data row6 col7\" >-0.008556</td>\n",
              "                        <td id=\"T_9e6e12b0_b39a_11ea_9350_0242ac1c0002row6_col8\" class=\"data row6 col8\" >-0.005705</td>\n",
              "                        <td id=\"T_9e6e12b0_b39a_11ea_9350_0242ac1c0002row6_col9\" class=\"data row6 col9\" >-0.009344</td>\n",
              "                        <td id=\"T_9e6e12b0_b39a_11ea_9350_0242ac1c0002row6_col10\" class=\"data row6 col10\" >-0.000916</td>\n",
              "                        <td id=\"T_9e6e12b0_b39a_11ea_9350_0242ac1c0002row6_col11\" class=\"data row6 col11\" >0.005166</td>\n",
              "                        <td id=\"T_9e6e12b0_b39a_11ea_9350_0242ac1c0002row6_col12\" class=\"data row6 col12\" >0.000345</td>\n",
              "                        <td id=\"T_9e6e12b0_b39a_11ea_9350_0242ac1c0002row6_col13\" class=\"data row6 col13\" >-0.001327</td>\n",
              "                        <td id=\"T_9e6e12b0_b39a_11ea_9350_0242ac1c0002row6_col14\" class=\"data row6 col14\" >-0.001511</td>\n",
              "                        <td id=\"T_9e6e12b0_b39a_11ea_9350_0242ac1c0002row6_col15\" class=\"data row6 col15\" >0.001849</td>\n",
              "                        <td id=\"T_9e6e12b0_b39a_11ea_9350_0242ac1c0002row6_col16\" class=\"data row6 col16\" >0.005772</td>\n",
              "                        <td id=\"T_9e6e12b0_b39a_11ea_9350_0242ac1c0002row6_col17\" class=\"data row6 col17\" >0.005350</td>\n",
              "                        <td id=\"T_9e6e12b0_b39a_11ea_9350_0242ac1c0002row6_col18\" class=\"data row6 col18\" >0.002079</td>\n",
              "                        <td id=\"T_9e6e12b0_b39a_11ea_9350_0242ac1c0002row6_col19\" class=\"data row6 col19\" >-0.011285</td>\n",
              "                        <td id=\"T_9e6e12b0_b39a_11ea_9350_0242ac1c0002row6_col20\" class=\"data row6 col20\" >-0.004909</td>\n",
              "            </tr>\n",
              "            <tr>\n",
              "                        <th id=\"T_9e6e12b0_b39a_11ea_9350_0242ac1c0002level0_row7\" class=\"row_heading level0 row7\" >Contact</th>\n",
              "                        <td id=\"T_9e6e12b0_b39a_11ea_9350_0242ac1c0002row7_col0\" class=\"data row7 col0\" >0.007021</td>\n",
              "                        <td id=\"T_9e6e12b0_b39a_11ea_9350_0242ac1c0002row7_col1\" class=\"data row7 col1\" >-0.025132</td>\n",
              "                        <td id=\"T_9e6e12b0_b39a_11ea_9350_0242ac1c0002row7_col2\" class=\"data row7 col2\" >-0.054501</td>\n",
              "                        <td id=\"T_9e6e12b0_b39a_11ea_9350_0242ac1c0002row7_col3\" class=\"data row7 col3\" >-0.104552</td>\n",
              "                        <td id=\"T_9e6e12b0_b39a_11ea_9350_0242ac1c0002row7_col4\" class=\"data row7 col4\" >0.135238</td>\n",
              "                        <td id=\"T_9e6e12b0_b39a_11ea_9350_0242ac1c0002row7_col5\" class=\"data row7 col5\" >-0.082186</td>\n",
              "                        <td id=\"T_9e6e12b0_b39a_11ea_9350_0242ac1c0002row7_col6\" class=\"data row7 col6\" >-0.008556</td>\n",
              "                        <td id=\"T_9e6e12b0_b39a_11ea_9350_0242ac1c0002row7_col7\" class=\"data row7 col7\" >1.000000</td>\n",
              "                        <td id=\"T_9e6e12b0_b39a_11ea_9350_0242ac1c0002row7_col8\" class=\"data row7 col8\" >0.276565</td>\n",
              "                        <td id=\"T_9e6e12b0_b39a_11ea_9350_0242ac1c0002row7_col9\" class=\"data row7 col9\" >-0.009575</td>\n",
              "                        <td id=\"T_9e6e12b0_b39a_11ea_9350_0242ac1c0002row7_col10\" class=\"data row7 col10\" >-0.026657</td>\n",
              "                        <td id=\"T_9e6e12b0_b39a_11ea_9350_0242ac1c0002row7_col11\" class=\"data row7 col11\" >0.077368</td>\n",
              "                        <td id=\"T_9e6e12b0_b39a_11ea_9350_0242ac1c0002row7_col12\" class=\"data row7 col12\" >0.117970</td>\n",
              "                        <td id=\"T_9e6e12b0_b39a_11ea_9350_0242ac1c0002row7_col13\" class=\"data row7 col13\" >-0.212848</td>\n",
              "                        <td id=\"T_9e6e12b0_b39a_11ea_9350_0242ac1c0002row7_col14\" class=\"data row7 col14\" >0.118744</td>\n",
              "                        <td id=\"T_9e6e12b0_b39a_11ea_9350_0242ac1c0002row7_col15\" class=\"data row7 col15\" >0.393584</td>\n",
              "                        <td id=\"T_9e6e12b0_b39a_11ea_9350_0242ac1c0002row7_col16\" class=\"data row7 col16\" >0.002261</td>\n",
              "                        <td id=\"T_9e6e12b0_b39a_11ea_9350_0242ac1c0002row7_col17\" class=\"data row7 col17\" >-0.005934</td>\n",
              "                        <td id=\"T_9e6e12b0_b39a_11ea_9350_0242ac1c0002row7_col18\" class=\"data row7 col18\" >0.002565</td>\n",
              "                        <td id=\"T_9e6e12b0_b39a_11ea_9350_0242ac1c0002row7_col19\" class=\"data row7 col19\" >0.002201</td>\n",
              "                        <td id=\"T_9e6e12b0_b39a_11ea_9350_0242ac1c0002row7_col20\" class=\"data row7 col20\" >-0.144773</td>\n",
              "            </tr>\n",
              "            <tr>\n",
              "                        <th id=\"T_9e6e12b0_b39a_11ea_9350_0242ac1c0002level0_row8\" class=\"row_heading level0 row8\" >Month</th>\n",
              "                        <td id=\"T_9e6e12b0_b39a_11ea_9350_0242ac1c0002row8_col0\" class=\"data row8 col0\" >-0.024877</td>\n",
              "                        <td id=\"T_9e6e12b0_b39a_11ea_9350_0242ac1c0002row8_col1\" class=\"data row8 col1\" >-0.033213</td>\n",
              "                        <td id=\"T_9e6e12b0_b39a_11ea_9350_0242ac1c0002row8_col2\" class=\"data row8 col2\" >-0.007629</td>\n",
              "                        <td id=\"T_9e6e12b0_b39a_11ea_9350_0242ac1c0002row8_col3\" class=\"data row8 col3\" >-0.091951</td>\n",
              "                        <td id=\"T_9e6e12b0_b39a_11ea_9350_0242ac1c0002row8_col4\" class=\"data row8 col4\" >-0.015830</td>\n",
              "                        <td id=\"T_9e6e12b0_b39a_11ea_9350_0242ac1c0002row8_col5\" class=\"data row8 col5\" >-0.018141</td>\n",
              "                        <td id=\"T_9e6e12b0_b39a_11ea_9350_0242ac1c0002row8_col6\" class=\"data row8 col6\" >-0.005705</td>\n",
              "                        <td id=\"T_9e6e12b0_b39a_11ea_9350_0242ac1c0002row8_col7\" class=\"data row8 col7\" >0.276565</td>\n",
              "                        <td id=\"T_9e6e12b0_b39a_11ea_9350_0242ac1c0002row8_col8\" class=\"data row8 col8\" >1.000000</td>\n",
              "                        <td id=\"T_9e6e12b0_b39a_11ea_9350_0242ac1c0002row8_col9\" class=\"data row8 col9\" >0.027677</td>\n",
              "                        <td id=\"T_9e6e12b0_b39a_11ea_9350_0242ac1c0002row8_col10\" class=\"data row8 col10\" >0.003690</td>\n",
              "                        <td id=\"T_9e6e12b0_b39a_11ea_9350_0242ac1c0002row8_col11\" class=\"data row8 col11\" >-0.062059</td>\n",
              "                        <td id=\"T_9e6e12b0_b39a_11ea_9350_0242ac1c0002row8_col12\" class=\"data row8 col12\" >-0.047891</td>\n",
              "                        <td id=\"T_9e6e12b0_b39a_11ea_9350_0242ac1c0002row8_col13\" class=\"data row8 col13\" >0.103157</td>\n",
              "                        <td id=\"T_9e6e12b0_b39a_11ea_9350_0242ac1c0002row8_col14\" class=\"data row8 col14\" >-0.065012</td>\n",
              "                        <td id=\"T_9e6e12b0_b39a_11ea_9350_0242ac1c0002row8_col15\" class=\"data row8 col15\" >-0.178782</td>\n",
              "                        <td id=\"T_9e6e12b0_b39a_11ea_9350_0242ac1c0002row8_col16\" class=\"data row8 col16\" >-0.000674</td>\n",
              "                        <td id=\"T_9e6e12b0_b39a_11ea_9350_0242ac1c0002row8_col17\" class=\"data row8 col17\" >-0.003334</td>\n",
              "                        <td id=\"T_9e6e12b0_b39a_11ea_9350_0242ac1c0002row8_col18\" class=\"data row8 col18\" >0.007926</td>\n",
              "                        <td id=\"T_9e6e12b0_b39a_11ea_9350_0242ac1c0002row8_col19\" class=\"data row8 col19\" >0.007165</td>\n",
              "                        <td id=\"T_9e6e12b0_b39a_11ea_9350_0242ac1c0002row8_col20\" class=\"data row8 col20\" >-0.006065</td>\n",
              "            </tr>\n",
              "            <tr>\n",
              "                        <th id=\"T_9e6e12b0_b39a_11ea_9350_0242ac1c0002level0_row9\" class=\"row_heading level0 row9\" >Last_Contact_Day</th>\n",
              "                        <td id=\"T_9e6e12b0_b39a_11ea_9350_0242ac1c0002row9_col0\" class=\"data row9 col0\" >-0.017572</td>\n",
              "                        <td id=\"T_9e6e12b0_b39a_11ea_9350_0242ac1c0002row9_col1\" class=\"data row9 col1\" >-0.000844</td>\n",
              "                        <td id=\"T_9e6e12b0_b39a_11ea_9350_0242ac1c0002row9_col2\" class=\"data row9 col2\" >0.002202</td>\n",
              "                        <td id=\"T_9e6e12b0_b39a_11ea_9350_0242ac1c0002row9_col3\" class=\"data row9 col3\" >-0.015212</td>\n",
              "                        <td id=\"T_9e6e12b0_b39a_11ea_9350_0242ac1c0002row9_col4\" class=\"data row9 col4\" >-0.008701</td>\n",
              "                        <td id=\"T_9e6e12b0_b39a_11ea_9350_0242ac1c0002row9_col5\" class=\"data row9 col5\" >0.003339</td>\n",
              "                        <td id=\"T_9e6e12b0_b39a_11ea_9350_0242ac1c0002row9_col6\" class=\"data row9 col6\" >-0.009344</td>\n",
              "                        <td id=\"T_9e6e12b0_b39a_11ea_9350_0242ac1c0002row9_col7\" class=\"data row9 col7\" >-0.009575</td>\n",
              "                        <td id=\"T_9e6e12b0_b39a_11ea_9350_0242ac1c0002row9_col8\" class=\"data row9 col8\" >0.027677</td>\n",
              "                        <td id=\"T_9e6e12b0_b39a_11ea_9350_0242ac1c0002row9_col9\" class=\"data row9 col9\" >1.000000</td>\n",
              "                        <td id=\"T_9e6e12b0_b39a_11ea_9350_0242ac1c0002row9_col10\" class=\"data row9 col10\" >0.021950</td>\n",
              "                        <td id=\"T_9e6e12b0_b39a_11ea_9350_0242ac1c0002row9_col11\" class=\"data row9 col11\" >-0.038288</td>\n",
              "                        <td id=\"T_9e6e12b0_b39a_11ea_9350_0242ac1c0002row9_col12\" class=\"data row9 col12\" >-0.009531</td>\n",
              "                        <td id=\"T_9e6e12b0_b39a_11ea_9350_0242ac1c0002row9_col13\" class=\"data row9 col13\" >-0.004102</td>\n",
              "                        <td id=\"T_9e6e12b0_b39a_11ea_9350_0242ac1c0002row9_col14\" class=\"data row9 col14\" >0.018732</td>\n",
              "                        <td id=\"T_9e6e12b0_b39a_11ea_9350_0242ac1c0002row9_col15\" class=\"data row9 col15\" >0.033245</td>\n",
              "                        <td id=\"T_9e6e12b0_b39a_11ea_9350_0242ac1c0002row9_col16\" class=\"data row9 col16\" >0.001714</td>\n",
              "                        <td id=\"T_9e6e12b0_b39a_11ea_9350_0242ac1c0002row9_col17\" class=\"data row9 col17\" >0.006039</td>\n",
              "                        <td id=\"T_9e6e12b0_b39a_11ea_9350_0242ac1c0002row9_col18\" class=\"data row9 col18\" >0.005699</td>\n",
              "                        <td id=\"T_9e6e12b0_b39a_11ea_9350_0242ac1c0002row9_col19\" class=\"data row9 col19\" >0.010741</td>\n",
              "                        <td id=\"T_9e6e12b0_b39a_11ea_9350_0242ac1c0002row9_col20\" class=\"data row9 col20\" >0.015967</td>\n",
              "            </tr>\n",
              "            <tr>\n",
              "                        <th id=\"T_9e6e12b0_b39a_11ea_9350_0242ac1c0002level0_row10\" class=\"row_heading level0 row10\" >Last_Contact_Duration</th>\n",
              "                        <td id=\"T_9e6e12b0_b39a_11ea_9350_0242ac1c0002row10_col0\" class=\"data row10 col0\" >-0.000866</td>\n",
              "                        <td id=\"T_9e6e12b0_b39a_11ea_9350_0242ac1c0002row10_col1\" class=\"data row10 col1\" >-0.006490</td>\n",
              "                        <td id=\"T_9e6e12b0_b39a_11ea_9350_0242ac1c0002row10_col2\" class=\"data row10 col2\" >0.010290</td>\n",
              "                        <td id=\"T_9e6e12b0_b39a_11ea_9350_0242ac1c0002row10_col3\" class=\"data row10 col3\" >-0.014593</td>\n",
              "                        <td id=\"T_9e6e12b0_b39a_11ea_9350_0242ac1c0002row10_col4\" class=\"data row10 col4\" >-0.011794</td>\n",
              "                        <td id=\"T_9e6e12b0_b39a_11ea_9350_0242ac1c0002row10_col5\" class=\"data row10 col5\" >-0.007658</td>\n",
              "                        <td id=\"T_9e6e12b0_b39a_11ea_9350_0242ac1c0002row10_col6\" class=\"data row10 col6\" >-0.000916</td>\n",
              "                        <td id=\"T_9e6e12b0_b39a_11ea_9350_0242ac1c0002row10_col7\" class=\"data row10 col7\" >-0.026657</td>\n",
              "                        <td id=\"T_9e6e12b0_b39a_11ea_9350_0242ac1c0002row10_col8\" class=\"data row10 col8\" >0.003690</td>\n",
              "                        <td id=\"T_9e6e12b0_b39a_11ea_9350_0242ac1c0002row10_col9\" class=\"data row10 col9\" >0.021950</td>\n",
              "                        <td id=\"T_9e6e12b0_b39a_11ea_9350_0242ac1c0002row10_col10\" class=\"data row10 col10\" >1.000000</td>\n",
              "                        <td id=\"T_9e6e12b0_b39a_11ea_9350_0242ac1c0002row10_col11\" class=\"data row10 col11\" >-0.071699</td>\n",
              "                        <td id=\"T_9e6e12b0_b39a_11ea_9350_0242ac1c0002row10_col12\" class=\"data row10 col12\" >-0.047577</td>\n",
              "                        <td id=\"T_9e6e12b0_b39a_11ea_9350_0242ac1c0002row10_col13\" class=\"data row10 col13\" >0.020640</td>\n",
              "                        <td id=\"T_9e6e12b0_b39a_11ea_9350_0242ac1c0002row10_col14\" class=\"data row10 col14\" >0.033360</td>\n",
              "                        <td id=\"T_9e6e12b0_b39a_11ea_9350_0242ac1c0002row10_col15\" class=\"data row10 col15\" >-0.027968</td>\n",
              "                        <td id=\"T_9e6e12b0_b39a_11ea_9350_0242ac1c0002row10_col16\" class=\"data row10 col16\" >0.003102</td>\n",
              "                        <td id=\"T_9e6e12b0_b39a_11ea_9350_0242ac1c0002row10_col17\" class=\"data row10 col17\" >0.001850</td>\n",
              "                        <td id=\"T_9e6e12b0_b39a_11ea_9350_0242ac1c0002row10_col18\" class=\"data row10 col18\" >0.006777</td>\n",
              "                        <td id=\"T_9e6e12b0_b39a_11ea_9350_0242ac1c0002row10_col19\" class=\"data row10 col19\" >0.013294</td>\n",
              "                        <td id=\"T_9e6e12b0_b39a_11ea_9350_0242ac1c0002row10_col20\" class=\"data row10 col20\" >0.405274</td>\n",
              "            </tr>\n",
              "            <tr>\n",
              "                        <th id=\"T_9e6e12b0_b39a_11ea_9350_0242ac1c0002level0_row11\" class=\"row_heading level0 row11\" >Contacts_During_Campaign</th>\n",
              "                        <td id=\"T_9e6e12b0_b39a_11ea_9350_0242ac1c0002row11_col0\" class=\"data row11 col0\" >0.004594</td>\n",
              "                        <td id=\"T_9e6e12b0_b39a_11ea_9350_0242ac1c0002row11_col1\" class=\"data row11 col1\" >-0.006923</td>\n",
              "                        <td id=\"T_9e6e12b0_b39a_11ea_9350_0242ac1c0002row11_col2\" class=\"data row11 col2\" >-0.007240</td>\n",
              "                        <td id=\"T_9e6e12b0_b39a_11ea_9350_0242ac1c0002row11_col3\" class=\"data row11 col3\" >0.001683</td>\n",
              "                        <td id=\"T_9e6e12b0_b39a_11ea_9350_0242ac1c0002row11_col4\" class=\"data row11 col4\" >0.032825</td>\n",
              "                        <td id=\"T_9e6e12b0_b39a_11ea_9350_0242ac1c0002row11_col5\" class=\"data row11 col5\" >-0.011010</td>\n",
              "                        <td id=\"T_9e6e12b0_b39a_11ea_9350_0242ac1c0002row11_col6\" class=\"data row11 col6\" >0.005166</td>\n",
              "                        <td id=\"T_9e6e12b0_b39a_11ea_9350_0242ac1c0002row11_col7\" class=\"data row11 col7\" >0.077368</td>\n",
              "                        <td id=\"T_9e6e12b0_b39a_11ea_9350_0242ac1c0002row11_col8\" class=\"data row11 col8\" >-0.062059</td>\n",
              "                        <td id=\"T_9e6e12b0_b39a_11ea_9350_0242ac1c0002row11_col9\" class=\"data row11 col9\" >-0.038288</td>\n",
              "                        <td id=\"T_9e6e12b0_b39a_11ea_9350_0242ac1c0002row11_col10\" class=\"data row11 col10\" >-0.071699</td>\n",
              "                        <td id=\"T_9e6e12b0_b39a_11ea_9350_0242ac1c0002row11_col11\" class=\"data row11 col11\" >1.000000</td>\n",
              "                        <td id=\"T_9e6e12b0_b39a_11ea_9350_0242ac1c0002row11_col12\" class=\"data row11 col12\" >0.052584</td>\n",
              "                        <td id=\"T_9e6e12b0_b39a_11ea_9350_0242ac1c0002row11_col13\" class=\"data row11 col13\" >-0.079141</td>\n",
              "                        <td id=\"T_9e6e12b0_b39a_11ea_9350_0242ac1c0002row11_col14\" class=\"data row11 col14\" >0.032586</td>\n",
              "                        <td id=\"T_9e6e12b0_b39a_11ea_9350_0242ac1c0002row11_col15\" class=\"data row11 col15\" >0.150754</td>\n",
              "                        <td id=\"T_9e6e12b0_b39a_11ea_9350_0242ac1c0002row11_col16\" class=\"data row11 col16\" >0.001015</td>\n",
              "                        <td id=\"T_9e6e12b0_b39a_11ea_9350_0242ac1c0002row11_col17\" class=\"data row11 col17\" >-0.001577</td>\n",
              "                        <td id=\"T_9e6e12b0_b39a_11ea_9350_0242ac1c0002row11_col18\" class=\"data row11 col18\" >-0.003941</td>\n",
              "                        <td id=\"T_9e6e12b0_b39a_11ea_9350_0242ac1c0002row11_col19\" class=\"data row11 col19\" >-0.008456</td>\n",
              "                        <td id=\"T_9e6e12b0_b39a_11ea_9350_0242ac1c0002row11_col20\" class=\"data row11 col20\" >-0.066357</td>\n",
              "            </tr>\n",
              "            <tr>\n",
              "                        <th id=\"T_9e6e12b0_b39a_11ea_9350_0242ac1c0002level0_row12\" class=\"row_heading level0 row12\" >Previous_Contact_Days</th>\n",
              "                        <td id=\"T_9e6e12b0_b39a_11ea_9350_0242ac1c0002row12_col0\" class=\"data row12 col0\" >-0.034369</td>\n",
              "                        <td id=\"T_9e6e12b0_b39a_11ea_9350_0242ac1c0002row12_col1\" class=\"data row12 col1\" >-0.028468</td>\n",
              "                        <td id=\"T_9e6e12b0_b39a_11ea_9350_0242ac1c0002row12_col2\" class=\"data row12 col2\" >-0.037942</td>\n",
              "                        <td id=\"T_9e6e12b0_b39a_11ea_9350_0242ac1c0002row12_col3\" class=\"data row12 col3\" >-0.051286</td>\n",
              "                        <td id=\"T_9e6e12b0_b39a_11ea_9350_0242ac1c0002row12_col4\" class=\"data row12 col4\" >0.080062</td>\n",
              "                        <td id=\"T_9e6e12b0_b39a_11ea_9350_0242ac1c0002row12_col5\" class=\"data row12 col5\" >-0.010551</td>\n",
              "                        <td id=\"T_9e6e12b0_b39a_11ea_9350_0242ac1c0002row12_col6\" class=\"data row12 col6\" >0.000345</td>\n",
              "                        <td id=\"T_9e6e12b0_b39a_11ea_9350_0242ac1c0002row12_col7\" class=\"data row12 col7\" >0.117970</td>\n",
              "                        <td id=\"T_9e6e12b0_b39a_11ea_9350_0242ac1c0002row12_col8\" class=\"data row12 col8\" >-0.047891</td>\n",
              "                        <td id=\"T_9e6e12b0_b39a_11ea_9350_0242ac1c0002row12_col9\" class=\"data row12 col9\" >-0.009531</td>\n",
              "                        <td id=\"T_9e6e12b0_b39a_11ea_9350_0242ac1c0002row12_col10\" class=\"data row12 col10\" >-0.047577</td>\n",
              "                        <td id=\"T_9e6e12b0_b39a_11ea_9350_0242ac1c0002row12_col11\" class=\"data row12 col11\" >0.052584</td>\n",
              "                        <td id=\"T_9e6e12b0_b39a_11ea_9350_0242ac1c0002row12_col12\" class=\"data row12 col12\" >1.000000</td>\n",
              "                        <td id=\"T_9e6e12b0_b39a_11ea_9350_0242ac1c0002row12_col13\" class=\"data row12 col13\" >-0.587514</td>\n",
              "                        <td id=\"T_9e6e12b0_b39a_11ea_9350_0242ac1c0002row12_col14\" class=\"data row12 col14\" >-0.475619</td>\n",
              "                        <td id=\"T_9e6e12b0_b39a_11ea_9350_0242ac1c0002row12_col15\" class=\"data row12 col15\" >0.271004</td>\n",
              "                        <td id=\"T_9e6e12b0_b39a_11ea_9350_0242ac1c0002row12_col16\" class=\"data row12 col16\" >0.002972</td>\n",
              "                        <td id=\"T_9e6e12b0_b39a_11ea_9350_0242ac1c0002row12_col17\" class=\"data row12 col17\" >-0.005660</td>\n",
              "                        <td id=\"T_9e6e12b0_b39a_11ea_9350_0242ac1c0002row12_col18\" class=\"data row12 col18\" >0.003028</td>\n",
              "                        <td id=\"T_9e6e12b0_b39a_11ea_9350_0242ac1c0002row12_col19\" class=\"data row12 col19\" >-0.001135</td>\n",
              "                        <td id=\"T_9e6e12b0_b39a_11ea_9350_0242ac1c0002row12_col20\" class=\"data row12 col20\" >-0.324914</td>\n",
              "            </tr>\n",
              "            <tr>\n",
              "                        <th id=\"T_9e6e12b0_b39a_11ea_9350_0242ac1c0002level0_row13\" class=\"row_heading level0 row13\" >Contacts_Before_Campaign</th>\n",
              "                        <td id=\"T_9e6e12b0_b39a_11ea_9350_0242ac1c0002row13_col0\" class=\"data row13 col0\" >0.024365</td>\n",
              "                        <td id=\"T_9e6e12b0_b39a_11ea_9350_0242ac1c0002row13_col1\" class=\"data row13 col1\" >0.020965</td>\n",
              "                        <td id=\"T_9e6e12b0_b39a_11ea_9350_0242ac1c0002row13_col2\" class=\"data row13 col2\" >0.038689</td>\n",
              "                        <td id=\"T_9e6e12b0_b39a_11ea_9350_0242ac1c0002row13_col3\" class=\"data row13 col3\" >0.038081</td>\n",
              "                        <td id=\"T_9e6e12b0_b39a_11ea_9350_0242ac1c0002row13_col4\" class=\"data row13 col4\" >-0.102416</td>\n",
              "                        <td id=\"T_9e6e12b0_b39a_11ea_9350_0242ac1c0002row13_col5\" class=\"data row13 col5\" >0.021314</td>\n",
              "                        <td id=\"T_9e6e12b0_b39a_11ea_9350_0242ac1c0002row13_col6\" class=\"data row13 col6\" >-0.001327</td>\n",
              "                        <td id=\"T_9e6e12b0_b39a_11ea_9350_0242ac1c0002row13_col7\" class=\"data row13 col7\" >-0.212848</td>\n",
              "                        <td id=\"T_9e6e12b0_b39a_11ea_9350_0242ac1c0002row13_col8\" class=\"data row13 col8\" >0.103157</td>\n",
              "                        <td id=\"T_9e6e12b0_b39a_11ea_9350_0242ac1c0002row13_col9\" class=\"data row13 col9\" >-0.004102</td>\n",
              "                        <td id=\"T_9e6e12b0_b39a_11ea_9350_0242ac1c0002row13_col10\" class=\"data row13 col10\" >0.020640</td>\n",
              "                        <td id=\"T_9e6e12b0_b39a_11ea_9350_0242ac1c0002row13_col11\" class=\"data row13 col11\" >-0.079141</td>\n",
              "                        <td id=\"T_9e6e12b0_b39a_11ea_9350_0242ac1c0002row13_col12\" class=\"data row13 col12\" >-0.587514</td>\n",
              "                        <td id=\"T_9e6e12b0_b39a_11ea_9350_0242ac1c0002row13_col13\" class=\"data row13 col13\" >1.000000</td>\n",
              "                        <td id=\"T_9e6e12b0_b39a_11ea_9350_0242ac1c0002row13_col14\" class=\"data row13 col14\" >-0.313110</td>\n",
              "                        <td id=\"T_9e6e12b0_b39a_11ea_9350_0242ac1c0002row13_col15\" class=\"data row13 col15\" >-0.420489</td>\n",
              "                        <td id=\"T_9e6e12b0_b39a_11ea_9350_0242ac1c0002row13_col16\" class=\"data row13 col16\" >0.000994</td>\n",
              "                        <td id=\"T_9e6e12b0_b39a_11ea_9350_0242ac1c0002row13_col17\" class=\"data row13 col17\" >-0.000077</td>\n",
              "                        <td id=\"T_9e6e12b0_b39a_11ea_9350_0242ac1c0002row13_col18\" class=\"data row13 col18\" >-0.011359</td>\n",
              "                        <td id=\"T_9e6e12b0_b39a_11ea_9350_0242ac1c0002row13_col19\" class=\"data row13 col19\" >-0.002532</td>\n",
              "                        <td id=\"T_9e6e12b0_b39a_11ea_9350_0242ac1c0002row13_col20\" class=\"data row13 col20\" >0.230181</td>\n",
              "            </tr>\n",
              "            <tr>\n",
              "                        <th id=\"T_9e6e12b0_b39a_11ea_9350_0242ac1c0002level0_row14\" class=\"row_heading level0 row14\" >Previous_Outcome</th>\n",
              "                        <td id=\"T_9e6e12b0_b39a_11ea_9350_0242ac1c0002row14_col0\" class=\"data row14 col0\" >0.019750</td>\n",
              "                        <td id=\"T_9e6e12b0_b39a_11ea_9350_0242ac1c0002row14_col1\" class=\"data row14 col1\" >0.011504</td>\n",
              "                        <td id=\"T_9e6e12b0_b39a_11ea_9350_0242ac1c0002row14_col2\" class=\"data row14 col2\" >0.001912</td>\n",
              "                        <td id=\"T_9e6e12b0_b39a_11ea_9350_0242ac1c0002row14_col3\" class=\"data row14 col3\" >0.024687</td>\n",
              "                        <td id=\"T_9e6e12b0_b39a_11ea_9350_0242ac1c0002row14_col4\" class=\"data row14 col4\" >0.023417</td>\n",
              "                        <td id=\"T_9e6e12b0_b39a_11ea_9350_0242ac1c0002row14_col5\" class=\"data row14 col5\" >-0.011783</td>\n",
              "                        <td id=\"T_9e6e12b0_b39a_11ea_9350_0242ac1c0002row14_col6\" class=\"data row14 col6\" >-0.001511</td>\n",
              "                        <td id=\"T_9e6e12b0_b39a_11ea_9350_0242ac1c0002row14_col7\" class=\"data row14 col7\" >0.118744</td>\n",
              "                        <td id=\"T_9e6e12b0_b39a_11ea_9350_0242ac1c0002row14_col8\" class=\"data row14 col8\" >-0.065012</td>\n",
              "                        <td id=\"T_9e6e12b0_b39a_11ea_9350_0242ac1c0002row14_col9\" class=\"data row14 col9\" >0.018732</td>\n",
              "                        <td id=\"T_9e6e12b0_b39a_11ea_9350_0242ac1c0002row14_col10\" class=\"data row14 col10\" >0.033360</td>\n",
              "                        <td id=\"T_9e6e12b0_b39a_11ea_9350_0242ac1c0002row14_col11\" class=\"data row14 col11\" >0.032586</td>\n",
              "                        <td id=\"T_9e6e12b0_b39a_11ea_9350_0242ac1c0002row14_col12\" class=\"data row14 col12\" >-0.475619</td>\n",
              "                        <td id=\"T_9e6e12b0_b39a_11ea_9350_0242ac1c0002row14_col13\" class=\"data row14 col13\" >-0.313110</td>\n",
              "                        <td id=\"T_9e6e12b0_b39a_11ea_9350_0242ac1c0002row14_col14\" class=\"data row14 col14\" >1.000000</td>\n",
              "                        <td id=\"T_9e6e12b0_b39a_11ea_9350_0242ac1c0002row14_col15\" class=\"data row14 col15\" >0.192972</td>\n",
              "                        <td id=\"T_9e6e12b0_b39a_11ea_9350_0242ac1c0002row14_col16\" class=\"data row14 col16\" >0.002144</td>\n",
              "                        <td id=\"T_9e6e12b0_b39a_11ea_9350_0242ac1c0002row14_col17\" class=\"data row14 col17\" >0.006183</td>\n",
              "                        <td id=\"T_9e6e12b0_b39a_11ea_9350_0242ac1c0002row14_col18\" class=\"data row14 col18\" >0.010131</td>\n",
              "                        <td id=\"T_9e6e12b0_b39a_11ea_9350_0242ac1c0002row14_col19\" class=\"data row14 col19\" >0.000891</td>\n",
              "                        <td id=\"T_9e6e12b0_b39a_11ea_9350_0242ac1c0002row14_col20\" class=\"data row14 col20\" >0.129789</td>\n",
              "            </tr>\n",
              "            <tr>\n",
              "                        <th id=\"T_9e6e12b0_b39a_11ea_9350_0242ac1c0002level0_row15\" class=\"row_heading level0 row15\" >Employement_Rates</th>\n",
              "                        <td id=\"T_9e6e12b0_b39a_11ea_9350_0242ac1c0002row15_col0\" class=\"data row15 col0\" >-0.000371</td>\n",
              "                        <td id=\"T_9e6e12b0_b39a_11ea_9350_0242ac1c0002row15_col1\" class=\"data row15 col1\" >-0.008271</td>\n",
              "                        <td id=\"T_9e6e12b0_b39a_11ea_9350_0242ac1c0002row15_col2\" class=\"data row15 col2\" >-0.084210</td>\n",
              "                        <td id=\"T_9e6e12b0_b39a_11ea_9350_0242ac1c0002row15_col3\" class=\"data row15 col3\" >-0.040076</td>\n",
              "                        <td id=\"T_9e6e12b0_b39a_11ea_9350_0242ac1c0002row15_col4\" class=\"data row15 col4\" >0.203263</td>\n",
              "                        <td id=\"T_9e6e12b0_b39a_11ea_9350_0242ac1c0002row15_col5\" class=\"data row15 col5\" >-0.060196</td>\n",
              "                        <td id=\"T_9e6e12b0_b39a_11ea_9350_0242ac1c0002row15_col6\" class=\"data row15 col6\" >0.001849</td>\n",
              "                        <td id=\"T_9e6e12b0_b39a_11ea_9350_0242ac1c0002row15_col7\" class=\"data row15 col7\" >0.393584</td>\n",
              "                        <td id=\"T_9e6e12b0_b39a_11ea_9350_0242ac1c0002row15_col8\" class=\"data row15 col8\" >-0.178782</td>\n",
              "                        <td id=\"T_9e6e12b0_b39a_11ea_9350_0242ac1c0002row15_col9\" class=\"data row15 col9\" >0.033245</td>\n",
              "                        <td id=\"T_9e6e12b0_b39a_11ea_9350_0242ac1c0002row15_col10\" class=\"data row15 col10\" >-0.027968</td>\n",
              "                        <td id=\"T_9e6e12b0_b39a_11ea_9350_0242ac1c0002row15_col11\" class=\"data row15 col11\" >0.150754</td>\n",
              "                        <td id=\"T_9e6e12b0_b39a_11ea_9350_0242ac1c0002row15_col12\" class=\"data row15 col12\" >0.271004</td>\n",
              "                        <td id=\"T_9e6e12b0_b39a_11ea_9350_0242ac1c0002row15_col13\" class=\"data row15 col13\" >-0.420489</td>\n",
              "                        <td id=\"T_9e6e12b0_b39a_11ea_9350_0242ac1c0002row15_col14\" class=\"data row15 col14\" >0.192972</td>\n",
              "                        <td id=\"T_9e6e12b0_b39a_11ea_9350_0242ac1c0002row15_col15\" class=\"data row15 col15\" >1.000000</td>\n",
              "                        <td id=\"T_9e6e12b0_b39a_11ea_9350_0242ac1c0002row15_col16\" class=\"data row15 col16\" >-0.005307</td>\n",
              "                        <td id=\"T_9e6e12b0_b39a_11ea_9350_0242ac1c0002row15_col17\" class=\"data row15 col17\" >0.001514</td>\n",
              "                        <td id=\"T_9e6e12b0_b39a_11ea_9350_0242ac1c0002row15_col18\" class=\"data row15 col18\" >0.003976</td>\n",
              "                        <td id=\"T_9e6e12b0_b39a_11ea_9350_0242ac1c0002row15_col19\" class=\"data row15 col19\" >-0.002732</td>\n",
              "                        <td id=\"T_9e6e12b0_b39a_11ea_9350_0242ac1c0002row15_col20\" class=\"data row15 col20\" >-0.298334</td>\n",
              "            </tr>\n",
              "            <tr>\n",
              "                        <th id=\"T_9e6e12b0_b39a_11ea_9350_0242ac1c0002level0_row16\" class=\"row_heading level0 row16\" >Price_Variation</th>\n",
              "                        <td id=\"T_9e6e12b0_b39a_11ea_9350_0242ac1c0002row16_col0\" class=\"data row16 col0\" >0.006562</td>\n",
              "                        <td id=\"T_9e6e12b0_b39a_11ea_9350_0242ac1c0002row16_col1\" class=\"data row16 col1\" >0.005623</td>\n",
              "                        <td id=\"T_9e6e12b0_b39a_11ea_9350_0242ac1c0002row16_col2\" class=\"data row16 col2\" >0.008624</td>\n",
              "                        <td id=\"T_9e6e12b0_b39a_11ea_9350_0242ac1c0002row16_col3\" class=\"data row16 col3\" >-0.000087</td>\n",
              "                        <td id=\"T_9e6e12b0_b39a_11ea_9350_0242ac1c0002row16_col4\" class=\"data row16 col4\" >0.004675</td>\n",
              "                        <td id=\"T_9e6e12b0_b39a_11ea_9350_0242ac1c0002row16_col5\" class=\"data row16 col5\" >-0.000129</td>\n",
              "                        <td id=\"T_9e6e12b0_b39a_11ea_9350_0242ac1c0002row16_col6\" class=\"data row16 col6\" >0.005772</td>\n",
              "                        <td id=\"T_9e6e12b0_b39a_11ea_9350_0242ac1c0002row16_col7\" class=\"data row16 col7\" >0.002261</td>\n",
              "                        <td id=\"T_9e6e12b0_b39a_11ea_9350_0242ac1c0002row16_col8\" class=\"data row16 col8\" >-0.000674</td>\n",
              "                        <td id=\"T_9e6e12b0_b39a_11ea_9350_0242ac1c0002row16_col9\" class=\"data row16 col9\" >0.001714</td>\n",
              "                        <td id=\"T_9e6e12b0_b39a_11ea_9350_0242ac1c0002row16_col10\" class=\"data row16 col10\" >0.003102</td>\n",
              "                        <td id=\"T_9e6e12b0_b39a_11ea_9350_0242ac1c0002row16_col11\" class=\"data row16 col11\" >0.001015</td>\n",
              "                        <td id=\"T_9e6e12b0_b39a_11ea_9350_0242ac1c0002row16_col12\" class=\"data row16 col12\" >0.002972</td>\n",
              "                        <td id=\"T_9e6e12b0_b39a_11ea_9350_0242ac1c0002row16_col13\" class=\"data row16 col13\" >0.000994</td>\n",
              "                        <td id=\"T_9e6e12b0_b39a_11ea_9350_0242ac1c0002row16_col14\" class=\"data row16 col14\" >0.002144</td>\n",
              "                        <td id=\"T_9e6e12b0_b39a_11ea_9350_0242ac1c0002row16_col15\" class=\"data row16 col15\" >-0.005307</td>\n",
              "                        <td id=\"T_9e6e12b0_b39a_11ea_9350_0242ac1c0002row16_col16\" class=\"data row16 col16\" >1.000000</td>\n",
              "                        <td id=\"T_9e6e12b0_b39a_11ea_9350_0242ac1c0002row16_col17\" class=\"data row16 col17\" >-0.002110</td>\n",
              "                        <td id=\"T_9e6e12b0_b39a_11ea_9350_0242ac1c0002row16_col18\" class=\"data row16 col18\" >-0.004676</td>\n",
              "                        <td id=\"T_9e6e12b0_b39a_11ea_9350_0242ac1c0002row16_col19\" class=\"data row16 col19\" >-0.002449</td>\n",
              "                        <td id=\"T_9e6e12b0_b39a_11ea_9350_0242ac1c0002row16_col20\" class=\"data row16 col20\" >0.020233</td>\n",
              "            </tr>\n",
              "            <tr>\n",
              "                        <th id=\"T_9e6e12b0_b39a_11ea_9350_0242ac1c0002level0_row17\" class=\"row_heading level0 row17\" >Consumer_Confidence_Index</th>\n",
              "                        <td id=\"T_9e6e12b0_b39a_11ea_9350_0242ac1c0002row17_col0\" class=\"data row17 col0\" >0.000074</td>\n",
              "                        <td id=\"T_9e6e12b0_b39a_11ea_9350_0242ac1c0002row17_col1\" class=\"data row17 col1\" >0.001747</td>\n",
              "                        <td id=\"T_9e6e12b0_b39a_11ea_9350_0242ac1c0002row17_col2\" class=\"data row17 col2\" >0.006011</td>\n",
              "                        <td id=\"T_9e6e12b0_b39a_11ea_9350_0242ac1c0002row17_col3\" class=\"data row17 col3\" >0.007269</td>\n",
              "                        <td id=\"T_9e6e12b0_b39a_11ea_9350_0242ac1c0002row17_col4\" class=\"data row17 col4\" >-0.000145</td>\n",
              "                        <td id=\"T_9e6e12b0_b39a_11ea_9350_0242ac1c0002row17_col5\" class=\"data row17 col5\" >-0.002241</td>\n",
              "                        <td id=\"T_9e6e12b0_b39a_11ea_9350_0242ac1c0002row17_col6\" class=\"data row17 col6\" >0.005350</td>\n",
              "                        <td id=\"T_9e6e12b0_b39a_11ea_9350_0242ac1c0002row17_col7\" class=\"data row17 col7\" >-0.005934</td>\n",
              "                        <td id=\"T_9e6e12b0_b39a_11ea_9350_0242ac1c0002row17_col8\" class=\"data row17 col8\" >-0.003334</td>\n",
              "                        <td id=\"T_9e6e12b0_b39a_11ea_9350_0242ac1c0002row17_col9\" class=\"data row17 col9\" >0.006039</td>\n",
              "                        <td id=\"T_9e6e12b0_b39a_11ea_9350_0242ac1c0002row17_col10\" class=\"data row17 col10\" >0.001850</td>\n",
              "                        <td id=\"T_9e6e12b0_b39a_11ea_9350_0242ac1c0002row17_col11\" class=\"data row17 col11\" >-0.001577</td>\n",
              "                        <td id=\"T_9e6e12b0_b39a_11ea_9350_0242ac1c0002row17_col12\" class=\"data row17 col12\" >-0.005660</td>\n",
              "                        <td id=\"T_9e6e12b0_b39a_11ea_9350_0242ac1c0002row17_col13\" class=\"data row17 col13\" >-0.000077</td>\n",
              "                        <td id=\"T_9e6e12b0_b39a_11ea_9350_0242ac1c0002row17_col14\" class=\"data row17 col14\" >0.006183</td>\n",
              "                        <td id=\"T_9e6e12b0_b39a_11ea_9350_0242ac1c0002row17_col15\" class=\"data row17 col15\" >0.001514</td>\n",
              "                        <td id=\"T_9e6e12b0_b39a_11ea_9350_0242ac1c0002row17_col16\" class=\"data row17 col16\" >-0.002110</td>\n",
              "                        <td id=\"T_9e6e12b0_b39a_11ea_9350_0242ac1c0002row17_col17\" class=\"data row17 col17\" >1.000000</td>\n",
              "                        <td id=\"T_9e6e12b0_b39a_11ea_9350_0242ac1c0002row17_col18\" class=\"data row17 col18\" >-0.004915</td>\n",
              "                        <td id=\"T_9e6e12b0_b39a_11ea_9350_0242ac1c0002row17_col19\" class=\"data row17 col19\" >0.002693</td>\n",
              "                        <td id=\"T_9e6e12b0_b39a_11ea_9350_0242ac1c0002row17_col20\" class=\"data row17 col20\" >0.004421</td>\n",
              "            </tr>\n",
              "            <tr>\n",
              "                        <th id=\"T_9e6e12b0_b39a_11ea_9350_0242ac1c0002level0_row18\" class=\"row_heading level0 row18\" >Insurance_Rate</th>\n",
              "                        <td id=\"T_9e6e12b0_b39a_11ea_9350_0242ac1c0002row18_col0\" class=\"data row18 col0\" >-0.005903</td>\n",
              "                        <td id=\"T_9e6e12b0_b39a_11ea_9350_0242ac1c0002row18_col1\" class=\"data row18 col1\" >0.006183</td>\n",
              "                        <td id=\"T_9e6e12b0_b39a_11ea_9350_0242ac1c0002row18_col2\" class=\"data row18 col2\" >0.006604</td>\n",
              "                        <td id=\"T_9e6e12b0_b39a_11ea_9350_0242ac1c0002row18_col3\" class=\"data row18 col3\" >-0.003019</td>\n",
              "                        <td id=\"T_9e6e12b0_b39a_11ea_9350_0242ac1c0002row18_col4\" class=\"data row18 col4\" >0.002874</td>\n",
              "                        <td id=\"T_9e6e12b0_b39a_11ea_9350_0242ac1c0002row18_col5\" class=\"data row18 col5\" >0.005434</td>\n",
              "                        <td id=\"T_9e6e12b0_b39a_11ea_9350_0242ac1c0002row18_col6\" class=\"data row18 col6\" >0.002079</td>\n",
              "                        <td id=\"T_9e6e12b0_b39a_11ea_9350_0242ac1c0002row18_col7\" class=\"data row18 col7\" >0.002565</td>\n",
              "                        <td id=\"T_9e6e12b0_b39a_11ea_9350_0242ac1c0002row18_col8\" class=\"data row18 col8\" >0.007926</td>\n",
              "                        <td id=\"T_9e6e12b0_b39a_11ea_9350_0242ac1c0002row18_col9\" class=\"data row18 col9\" >0.005699</td>\n",
              "                        <td id=\"T_9e6e12b0_b39a_11ea_9350_0242ac1c0002row18_col10\" class=\"data row18 col10\" >0.006777</td>\n",
              "                        <td id=\"T_9e6e12b0_b39a_11ea_9350_0242ac1c0002row18_col11\" class=\"data row18 col11\" >-0.003941</td>\n",
              "                        <td id=\"T_9e6e12b0_b39a_11ea_9350_0242ac1c0002row18_col12\" class=\"data row18 col12\" >0.003028</td>\n",
              "                        <td id=\"T_9e6e12b0_b39a_11ea_9350_0242ac1c0002row18_col13\" class=\"data row18 col13\" >-0.011359</td>\n",
              "                        <td id=\"T_9e6e12b0_b39a_11ea_9350_0242ac1c0002row18_col14\" class=\"data row18 col14\" >0.010131</td>\n",
              "                        <td id=\"T_9e6e12b0_b39a_11ea_9350_0242ac1c0002row18_col15\" class=\"data row18 col15\" >0.003976</td>\n",
              "                        <td id=\"T_9e6e12b0_b39a_11ea_9350_0242ac1c0002row18_col16\" class=\"data row18 col16\" >-0.004676</td>\n",
              "                        <td id=\"T_9e6e12b0_b39a_11ea_9350_0242ac1c0002row18_col17\" class=\"data row18 col17\" >-0.004915</td>\n",
              "                        <td id=\"T_9e6e12b0_b39a_11ea_9350_0242ac1c0002row18_col18\" class=\"data row18 col18\" >1.000000</td>\n",
              "                        <td id=\"T_9e6e12b0_b39a_11ea_9350_0242ac1c0002row18_col19\" class=\"data row18 col19\" >0.003087</td>\n",
              "                        <td id=\"T_9e6e12b0_b39a_11ea_9350_0242ac1c0002row18_col20\" class=\"data row18 col20\" >0.000376</td>\n",
              "            </tr>\n",
              "            <tr>\n",
              "                        <th id=\"T_9e6e12b0_b39a_11ea_9350_0242ac1c0002level0_row19\" class=\"row_heading level0 row19\" >No_Employees</th>\n",
              "                        <td id=\"T_9e6e12b0_b39a_11ea_9350_0242ac1c0002row19_col0\" class=\"data row19 col0\" >-0.001038</td>\n",
              "                        <td id=\"T_9e6e12b0_b39a_11ea_9350_0242ac1c0002row19_col1\" class=\"data row19 col1\" >0.001640</td>\n",
              "                        <td id=\"T_9e6e12b0_b39a_11ea_9350_0242ac1c0002row19_col2\" class=\"data row19 col2\" >-0.003893</td>\n",
              "                        <td id=\"T_9e6e12b0_b39a_11ea_9350_0242ac1c0002row19_col3\" class=\"data row19 col3\" >-0.004587</td>\n",
              "                        <td id=\"T_9e6e12b0_b39a_11ea_9350_0242ac1c0002row19_col4\" class=\"data row19 col4\" >-0.000482</td>\n",
              "                        <td id=\"T_9e6e12b0_b39a_11ea_9350_0242ac1c0002row19_col5\" class=\"data row19 col5\" >-0.006501</td>\n",
              "                        <td id=\"T_9e6e12b0_b39a_11ea_9350_0242ac1c0002row19_col6\" class=\"data row19 col6\" >-0.011285</td>\n",
              "                        <td id=\"T_9e6e12b0_b39a_11ea_9350_0242ac1c0002row19_col7\" class=\"data row19 col7\" >0.002201</td>\n",
              "                        <td id=\"T_9e6e12b0_b39a_11ea_9350_0242ac1c0002row19_col8\" class=\"data row19 col8\" >0.007165</td>\n",
              "                        <td id=\"T_9e6e12b0_b39a_11ea_9350_0242ac1c0002row19_col9\" class=\"data row19 col9\" >0.010741</td>\n",
              "                        <td id=\"T_9e6e12b0_b39a_11ea_9350_0242ac1c0002row19_col10\" class=\"data row19 col10\" >0.013294</td>\n",
              "                        <td id=\"T_9e6e12b0_b39a_11ea_9350_0242ac1c0002row19_col11\" class=\"data row19 col11\" >-0.008456</td>\n",
              "                        <td id=\"T_9e6e12b0_b39a_11ea_9350_0242ac1c0002row19_col12\" class=\"data row19 col12\" >-0.001135</td>\n",
              "                        <td id=\"T_9e6e12b0_b39a_11ea_9350_0242ac1c0002row19_col13\" class=\"data row19 col13\" >-0.002532</td>\n",
              "                        <td id=\"T_9e6e12b0_b39a_11ea_9350_0242ac1c0002row19_col14\" class=\"data row19 col14\" >0.000891</td>\n",
              "                        <td id=\"T_9e6e12b0_b39a_11ea_9350_0242ac1c0002row19_col15\" class=\"data row19 col15\" >-0.002732</td>\n",
              "                        <td id=\"T_9e6e12b0_b39a_11ea_9350_0242ac1c0002row19_col16\" class=\"data row19 col16\" >-0.002449</td>\n",
              "                        <td id=\"T_9e6e12b0_b39a_11ea_9350_0242ac1c0002row19_col17\" class=\"data row19 col17\" >0.002693</td>\n",
              "                        <td id=\"T_9e6e12b0_b39a_11ea_9350_0242ac1c0002row19_col18\" class=\"data row19 col18\" >0.003087</td>\n",
              "                        <td id=\"T_9e6e12b0_b39a_11ea_9350_0242ac1c0002row19_col19\" class=\"data row19 col19\" >1.000000</td>\n",
              "                        <td id=\"T_9e6e12b0_b39a_11ea_9350_0242ac1c0002row19_col20\" class=\"data row19 col20\" >-0.003399</td>\n",
              "            </tr>\n",
              "            <tr>\n",
              "                        <th id=\"T_9e6e12b0_b39a_11ea_9350_0242ac1c0002level0_row20\" class=\"row_heading level0 row20\" >Client_Subscribed</th>\n",
              "                        <td id=\"T_9e6e12b0_b39a_11ea_9350_0242ac1c0002row20_col0\" class=\"data row20 col0\" >0.030399</td>\n",
              "                        <td id=\"T_9e6e12b0_b39a_11ea_9350_0242ac1c0002row20_col1\" class=\"data row20 col1\" >0.025122</td>\n",
              "                        <td id=\"T_9e6e12b0_b39a_11ea_9350_0242ac1c0002row20_col2\" class=\"data row20 col2\" >0.046203</td>\n",
              "                        <td id=\"T_9e6e12b0_b39a_11ea_9350_0242ac1c0002row20_col3\" class=\"data row20 col3\" >0.063032</td>\n",
              "                        <td id=\"T_9e6e12b0_b39a_11ea_9350_0242ac1c0002row20_col4\" class=\"data row20 col4\" >-0.099352</td>\n",
              "                        <td id=\"T_9e6e12b0_b39a_11ea_9350_0242ac1c0002row20_col5\" class=\"data row20 col5\" >0.011552</td>\n",
              "                        <td id=\"T_9e6e12b0_b39a_11ea_9350_0242ac1c0002row20_col6\" class=\"data row20 col6\" >-0.004909</td>\n",
              "                        <td id=\"T_9e6e12b0_b39a_11ea_9350_0242ac1c0002row20_col7\" class=\"data row20 col7\" >-0.144773</td>\n",
              "                        <td id=\"T_9e6e12b0_b39a_11ea_9350_0242ac1c0002row20_col8\" class=\"data row20 col8\" >-0.006065</td>\n",
              "                        <td id=\"T_9e6e12b0_b39a_11ea_9350_0242ac1c0002row20_col9\" class=\"data row20 col9\" >0.015967</td>\n",
              "                        <td id=\"T_9e6e12b0_b39a_11ea_9350_0242ac1c0002row20_col10\" class=\"data row20 col10\" >0.405274</td>\n",
              "                        <td id=\"T_9e6e12b0_b39a_11ea_9350_0242ac1c0002row20_col11\" class=\"data row20 col11\" >-0.066357</td>\n",
              "                        <td id=\"T_9e6e12b0_b39a_11ea_9350_0242ac1c0002row20_col12\" class=\"data row20 col12\" >-0.324914</td>\n",
              "                        <td id=\"T_9e6e12b0_b39a_11ea_9350_0242ac1c0002row20_col13\" class=\"data row20 col13\" >0.230181</td>\n",
              "                        <td id=\"T_9e6e12b0_b39a_11ea_9350_0242ac1c0002row20_col14\" class=\"data row20 col14\" >0.129789</td>\n",
              "                        <td id=\"T_9e6e12b0_b39a_11ea_9350_0242ac1c0002row20_col15\" class=\"data row20 col15\" >-0.298334</td>\n",
              "                        <td id=\"T_9e6e12b0_b39a_11ea_9350_0242ac1c0002row20_col16\" class=\"data row20 col16\" >0.020233</td>\n",
              "                        <td id=\"T_9e6e12b0_b39a_11ea_9350_0242ac1c0002row20_col17\" class=\"data row20 col17\" >0.004421</td>\n",
              "                        <td id=\"T_9e6e12b0_b39a_11ea_9350_0242ac1c0002row20_col18\" class=\"data row20 col18\" >0.000376</td>\n",
              "                        <td id=\"T_9e6e12b0_b39a_11ea_9350_0242ac1c0002row20_col19\" class=\"data row20 col19\" >-0.003399</td>\n",
              "                        <td id=\"T_9e6e12b0_b39a_11ea_9350_0242ac1c0002row20_col20\" class=\"data row20 col20\" >1.000000</td>\n",
              "            </tr>\n",
              "    </tbody></table>"
            ],
            "text/plain": [
              "<pandas.io.formats.style.Styler at 0x7f4f73b80c50>"
            ]
          },
          "metadata": {
            "tags": []
          },
          "execution_count": 10
        }
      ]
    },
    {
      "cell_type": "markdown",
      "metadata": {
        "id": "siDj4oVD81hz"
      },
      "source": [
        "There is no missing value in the dataset."
      ]
    },
    {
      "cell_type": "markdown",
      "metadata": {
        "id": "yr_AhkHh9PuH"
      },
      "source": [
        "## Client  Subscribed"
      ]
    },
    {
      "cell_type": "code",
      "metadata": {
        "id": "23he2uwaTmNd",
        "colab": {
          "base_uri": "https://localhost:8080/",
          "height": 70
        },
        "outputId": "72d704fe-0c40-4d8b-ca6b-37ff4721b0b5"
      },
      "source": [
        "df_bank['Client_Subscribed'].value_counts()"
      ],
      "execution_count": null,
      "outputs": [
        {
          "output_type": "execute_result",
          "data": {
            "text/plain": [
              "0    36548\n",
              "1     4640\n",
              "Name: Client_Subscribed, dtype: int64"
            ]
          },
          "metadata": {
            "tags": []
          },
          "execution_count": 11
        }
      ]
    },
    {
      "cell_type": "code",
      "metadata": {
        "id": "44xFhj_PTmNh",
        "colab": {
          "base_uri": "https://localhost:8080/",
          "height": 303
        },
        "outputId": "f502a37d-27a6-4313-915c-15b5a60dd0bf"
      },
      "source": [
        "sns.countplot(x='Client_Subscribed',data=df_bank)\n",
        "plt.show()\n",
        "plt.savefig('count_plot')"
      ],
      "execution_count": null,
      "outputs": [
        {
          "output_type": "display_data",
          "data": {
            "image/png": "[encoded data removed]",
            "text/plain": [
              "<Figure size 432x288 with 1 Axes>"
            ]
          },
          "metadata": {
            "tags": [],
            "needs_background": "light"
          }
        },
        {
          "output_type": "display_data",
          "data": {
            "text/plain": [
              "<Figure size 432x288 with 0 Axes>"
            ]
          },
          "metadata": {
            "tags": []
          }
        }
      ]
    },
    {
      "cell_type": "markdown",
      "metadata": {
        "id": "NQyApuoRTmNk"
      },
      "source": [
        "There are 36548 clients who did not subscribe to the term policy and 4640 clients who subscribe to the term policy"
      ]
    },
    {
      "cell_type": "markdown",
      "metadata": {
        "id": "eFDXS9qOy5aF"
      },
      "source": [
        "## Let's compare \"Job\" and \"Client_Subscribed\""
      ]
    },
    {
      "cell_type": "code",
      "metadata": {
        "id": "Tf4EAoJUTmN3",
        "colab": {
          "base_uri": "https://localhost:8080/",
          "height": 323
        },
        "outputId": "2baa6e41-98f5-49bd-c9d3-0a59dae6dcbd"
      },
      "source": [
        "%matplotlib inline\n",
        "pd.crosstab(df_bank.Job,df_bank.Client_Subscribed).plot(kind='bar')\n",
        "plt.title('Job and Client Subscribed')\n",
        "plt.xlabel('Job')\n",
        "plt.ylabel('The frequency of clients')"
      ],
      "execution_count": null,
      "outputs": [
        {
          "output_type": "execute_result",
          "data": {
            "text/plain": [
              "Text(0, 0.5, 'The frequency of clients')"
            ]
          },
          "metadata": {
            "tags": []
          },
          "execution_count": 13
        },
        {
          "output_type": "display_data",
          "data": {
            "image/png": "[encoded data removed]",
            "text/plain": [
              "<Figure size 432x288 with 1 Axes>"
            ]
          },
          "metadata": {
            "tags": [],
            "needs_background": "light"
          }
        }
      ]
    },
    {
      "cell_type": "markdown",
      "metadata": {
        "id": "vq-97n8wTmN6"
      },
      "source": [
        "The frequency of clients who subscribe to the term insurance can be depend on the job title. Thus, the job title can be a good predictor of the outcome variable."
      ]
    },
    {
      "cell_type": "markdown",
      "metadata": {
        "id": "g2urzoexy5aJ"
      },
      "source": [
        "## Let's compare \"Marital\" and \"Client_Subscribed\""
      ]
    },
    {
      "cell_type": "code",
      "metadata": {
        "id": "gZTsxDcFTmN6",
        "colab": {
          "base_uri": "https://localhost:8080/",
          "height": 298
        },
        "outputId": "446d774d-79ef-42d2-fa92-0666fec1d39d"
      },
      "source": [
        "table=pd.crosstab(df_bank.Marital,df_bank.Client_Subscribed)\n",
        "table.div(table.sum(1).astype(float), axis=0).plot(kind='bar', stacked=True)\n",
        "plt.title('Stacked Bar Chart of Marital Status vs Purchase')\n",
        "plt.xlabel('Marital Status')\n",
        "plt.ylabel('Proportion of Customers')\n",
        "plt.savefig('mariral_vs_pur_stack')"
      ],
      "execution_count": null,
      "outputs": [
        {
          "output_type": "display_data",
          "data": {
            "image/png": "[encoded data removed]",
            "text/plain": [
              "<Figure size 432x288 with 1 Axes>"
            ]
          },
          "metadata": {
            "tags": [],
            "needs_background": "light"
          }
        }
      ]
    },
    {
      "cell_type": "markdown",
      "metadata": {
        "id": "wa2o98Y5TmN9"
      },
      "source": [
        "Hard to see, but the marital status does not seem a strong predictor for the outcome variable."
      ]
    },
    {
      "cell_type": "markdown",
      "metadata": {
        "id": "V3r4PaWSy5aN"
      },
      "source": [
        "## Let's compare \"Qualification\" and \"Client_Subscribed\""
      ]
    },
    {
      "cell_type": "code",
      "metadata": {
        "id": "l9P-sYTpTmN-",
        "colab": {
          "base_uri": "https://localhost:8080/",
          "height": 298
        },
        "outputId": "2ca513aa-8e7e-4a09-9a85-2acd3207229e"
      },
      "source": [
        "table=pd.crosstab(df_bank.Qualification,df_bank.Client_Subscribed)\n",
        "table.div(table.sum(1).astype(float), axis=0).plot(kind='bar', stacked=True)\n",
        "plt.title('Stacked Bar Chart of Qualification vs Purchase')\n",
        "plt.xlabel('Qualification')\n",
        "plt.ylabel('Proportion of Customers')\n",
        "plt.savefig('edu_vs_pur_stack')"
      ],
      "execution_count": null,
      "outputs": [
        {
          "output_type": "display_data",
          "data": {
            "image/png": "[encoded data removed]",
            "text/plain": [
              "<Figure size 432x288 with 1 Axes>"
            ]
          },
          "metadata": {
            "tags": [],
            "needs_background": "light"
          }
        }
      ]
    },
    {
      "cell_type": "markdown",
      "metadata": {
        "id": "ElSLDkEWTmOA"
      },
      "source": [
        "Qualification seems a good predictor of the outcome variable."
      ]
    },
    {
      "cell_type": "markdown",
      "metadata": {
        "id": "6VyeGWCty5aR"
      },
      "source": [
        "## Let's compare \"Last_Contact_Day\" and \"Client_Subscribed\""
      ]
    },
    {
      "cell_type": "code",
      "metadata": {
        "id": "rHF7eHNvTmOB",
        "colab": {
          "base_uri": "https://localhost:8080/",
          "height": 316
        },
        "outputId": "1af8d8cd-8a8b-4703-a841-6bfec7119e37"
      },
      "source": [
        "pd.crosstab(df_bank.Last_Contact_Day,df_bank.Client_Subscribed).plot(kind='bar')\n",
        "plt.title('Purchase Frequency for Last Contact Day')\n",
        "plt.xlabel('Last Contact Day')\n",
        "plt.ylabel('Frequency of Purchase')\n"
      ],
      "execution_count": null,
      "outputs": [
        {
          "output_type": "execute_result",
          "data": {
            "text/plain": [
              "Text(0, 0.5, 'Frequency of Purchase')"
            ]
          },
          "metadata": {
            "tags": []
          },
          "execution_count": 16
        },
        {
          "output_type": "display_data",
          "data": {
            "image/png": "[encoded data removed]",
            "text/plain": [
              "<Figure size 432x288 with 1 Axes>"
            ]
          },
          "metadata": {
            "tags": [],
            "needs_background": "light"
          }
        }
      ]
    },
    {
      "cell_type": "markdown",
      "metadata": {
        "id": "JuHXppxTTmOE"
      },
      "source": [
        "Last contact day may not be a good predictor of the outcome"
      ]
    },
    {
      "cell_type": "markdown",
      "metadata": {
        "id": "RO-JkNWcy5aW"
      },
      "source": [
        "## Let's compare \"Month\" and \"Client_Subscribed\""
      ]
    },
    {
      "cell_type": "code",
      "metadata": {
        "id": "sp7-aD0oTmOF",
        "colab": {
          "base_uri": "https://localhost:8080/",
          "height": 298
        },
        "outputId": "a2f1f20c-b526-4c0d-e092-8da83a1468c1"
      },
      "source": [
        "pd.crosstab(df_bank.Month,df_bank.Client_Subscribed).plot(kind='bar')\n",
        "plt.title('Purchase Frequency for Month')\n",
        "plt.xlabel('Month')\n",
        "plt.ylabel('Frequency of Purchase')\n",
        "plt.savefig('pur_fre_month_bar')"
      ],
      "execution_count": null,
      "outputs": [
        {
          "output_type": "display_data",
          "data": {
            "image/png": "[encoded data removed]",
            "text/plain": [
              "<Figure size 432x288 with 1 Axes>"
            ]
          },
          "metadata": {
            "tags": [],
            "needs_background": "light"
          }
        }
      ]
    },
    {
      "cell_type": "markdown",
      "metadata": {
        "id": "BxsZZTjaTmOH"
      },
      "source": [
        "Month might be a good predictor of the outcome variable"
      ]
    },
    {
      "cell_type": "markdown",
      "metadata": {
        "id": "MgTBzIIuy5aZ"
      },
      "source": [
        "## Let's visualize \"Age\""
      ]
    },
    {
      "cell_type": "code",
      "metadata": {
        "id": "SidoXqjFTmOI",
        "colab": {
          "base_uri": "https://localhost:8080/",
          "height": 301
        },
        "outputId": "9d4d790a-eb6a-49ad-9613-424c2bf2cb0b"
      },
      "source": [
        "df_bank.Age.hist()\n",
        "plt.title('Histogram of Age')\n",
        "plt.xlabel('Age')\n",
        "plt.ylabel('Frequency')\n",
        "plt.savefig('hist_age')"
      ],
      "execution_count": null,
      "outputs": [
        {
          "output_type": "display_data",
          "data": {
            "image/png": "[encoded data removed]",
            "text/plain": [
              "<Figure size 432x288 with 1 Axes>"
            ]
          },
          "metadata": {
            "tags": [],
            "needs_background": "light"
          }
        }
      ]
    },
    {
      "cell_type": "markdown",
      "metadata": {
        "id": "NFg_sYBoTmOL"
      },
      "source": [
        "The most of the customers of the bank in this dataset are in the age range of 30-40."
      ]
    },
    {
      "cell_type": "markdown",
      "metadata": {
        "id": "TA6Mi3iBy5ad"
      },
      "source": [
        "## Let's compare \"Previous_Outcome\" and \"Client_Subscribed\""
      ]
    },
    {
      "cell_type": "code",
      "metadata": {
        "id": "aFLAtNXMTmOL",
        "colab": {
          "base_uri": "https://localhost:8080/",
          "height": 298
        },
        "outputId": "d65f06d0-e2d8-4a97-c64e-4e6ef345946c"
      },
      "source": [
        "pd.crosstab(df_bank.Previous_Outcome,df_bank.Client_Subscribed).plot(kind='bar')\n",
        "plt.title('Purchase Frequency for Previous Outcome')\n",
        "plt.xlabel('Previous_Outcome')\n",
        "plt.ylabel('Frequency of Purchase')\n",
        "plt.savefig('pur_fre_pout_bar')"
      ],
      "execution_count": null,
      "outputs": [
        {
          "output_type": "display_data",
          "data": {
            "image/png": "[encoded data removed]",
            "text/plain": [
              "<Figure size 432x288 with 1 Axes>"
            ]
          },
          "metadata": {
            "tags": [],
            "needs_background": "light"
          }
        }
      ]
    },
    {
      "cell_type": "markdown",
      "metadata": {
        "id": "_5-4bjExTmOO"
      },
      "source": [
        "Previous outcome seems to be a good predictor of the outcome variable."
      ]
    },
    {
      "cell_type": "markdown",
      "metadata": {
        "id": "ADjysqo2F8Of"
      },
      "source": [
        "Let's build a model to identify the important variables to predict if the client will buy a new insurance plan.\n"
      ]
    },
    {
      "cell_type": "markdown",
      "metadata": {
        "id": "TONa5CmbTmOP"
      },
      "source": [
        "## Input and output features"
      ]
    },
    {
      "cell_type": "code",
      "metadata": {
        "id": "5hy-8dTacqHC"
      },
      "source": [
        "#input and output features\n",
        "X = df_bank.drop(\"Client_Subscribed\",axis=1).values\n",
        "y = df_bank.loc[:,\"Client_Subscribed\"].values"
      ],
      "execution_count": null,
      "outputs": []
    },
    {
      "cell_type": "markdown",
      "metadata": {
        "id": "pZOL9JvLTmOp"
      },
      "source": [
        "## Implementing the model"
      ]
    },
    {
      "cell_type": "markdown",
      "metadata": {
        "id": "RFm0k-rJTmOq"
      },
      "source": [
        "\n",
        "## Splitting the dataset into the Training set and Test set\n"
      ]
    },
    {
      "cell_type": "code",
      "metadata": {
        "id": "6B6cklDrTmOq"
      },
      "source": [
        "# Splitting the dataset into the Training set and Test set\n",
        "from sklearn.model_selection import train_test_split\n",
        "X_train, X_test, y_train, y_test = train_test_split(X, y, test_size=0.3, random_state=0, stratify=y)"
      ],
      "execution_count": null,
      "outputs": []
    },
    {
      "cell_type": "markdown",
      "metadata": {
        "id": "iZK5IMpsdkDe"
      },
      "source": [
        "## Model Development"
      ]
    },
    {
      "cell_type": "code",
      "metadata": {
        "id": "XmkTbUA3TmOv"
      },
      "source": [
        "# Fitting Random forest classification to the training set\n",
        "from sklearn.ensemble import RandomForestClassifier"
      ],
      "execution_count": null,
      "outputs": []
    },
    {
      "cell_type": "code",
      "metadata": {
        "id": "q4hE9cDZSwqD"
      },
      "source": [
        "#Create Random forest model\n",
        "randomforest_model = RandomForestClassifier(n_estimators=100,random_state=0)"
      ],
      "execution_count": null,
      "outputs": []
    },
    {
      "cell_type": "code",
      "metadata": {
        "id": "Br7qsl1eS0zd",
        "colab": {
          "base_uri": "https://localhost:8080/",
          "height": 159
        },
        "outputId": "523f91ca-29c4-48b8-9e36-7703e87742de"
      },
      "source": [
        "#Fit the random forest models on training data\n",
        "randomforest_model.fit(X_train, y_train)"
      ],
      "execution_count": null,
      "outputs": [
        {
          "output_type": "execute_result",
          "data": {
            "text/plain": [
              "RandomForestClassifier(bootstrap=True, ccp_alpha=0.0, class_weight=None,\n",
              "                       criterion='gini', max_depth=None, max_features='auto',\n",
              "                       max_leaf_nodes=None, max_samples=None,\n",
              "                       min_impurity_decrease=0.0, min_impurity_split=None,\n",
              "                       min_samples_leaf=1, min_samples_split=2,\n",
              "                       min_weight_fraction_leaf=0.0, n_estimators=100,\n",
              "                       n_jobs=None, oob_score=False, random_state=0, verbose=0,\n",
              "                       warm_start=False)"
            ]
          },
          "metadata": {
            "tags": []
          },
          "execution_count": 24
        }
      ]
    },
    {
      "cell_type": "markdown",
      "metadata": {
        "id": "1N44e9ULTmOx"
      },
      "source": [
        "## Predicting the test set results and caculating the accuracy"
      ]
    },
    {
      "cell_type": "code",
      "metadata": {
        "id": "QJuPe8AkTmOy"
      },
      "source": [
        "# Predicting the Test set results\n",
        "pred_rf = randomforest_model.predict(X_test)"
      ],
      "execution_count": null,
      "outputs": []
    },
    {
      "cell_type": "code",
      "metadata": {
        "id": "4nuNaLh_TmPA",
        "colab": {
          "base_uri": "https://localhost:8080/",
          "height": 35
        },
        "outputId": "d1124bd8-5605-40ae-be5f-8d841d65eacf"
      },
      "source": [
        "print('Accuracy of Random forest classifier on train set: {:.2f}'.format(randomforest_model.score(X_train, y_train)))"
      ],
      "execution_count": null,
      "outputs": [
        {
          "output_type": "stream",
          "text": [
            "Accuracy of Random forest classifier on train set: 1.00\n"
          ],
          "name": "stdout"
        }
      ]
    },
    {
      "cell_type": "code",
      "metadata": {
        "id": "RvArsN2YTmO0",
        "colab": {
          "base_uri": "https://localhost:8080/",
          "height": 35
        },
        "outputId": "4bf4bc9e-0b2a-409e-9a99-bdbd5c578a34"
      },
      "source": [
        "print('Accuracy of Random forest classifier on test set: {:.2f}'.format(randomforest_model.score(X_test, y_test)))"
      ],
      "execution_count": null,
      "outputs": [
        {
          "output_type": "stream",
          "text": [
            "Accuracy of Random forest classifier on test set: 0.91\n"
          ],
          "name": "stdout"
        }
      ]
    },
    {
      "cell_type": "markdown",
      "metadata": {
        "id": "sP-9YNPky5a9"
      },
      "source": [
        "The training and testing accuracy show the model leads to overfitting."
      ]
    },
    {
      "cell_type": "markdown",
      "metadata": {
        "id": "p40bBaF4TmPO"
      },
      "source": [
        "## Confusion Matrix"
      ]
    },
    {
      "cell_type": "code",
      "metadata": {
        "id": "mhAT_oHrTmPP",
        "scrolled": true,
        "colab": {
          "base_uri": "https://localhost:8080/",
          "height": 70
        },
        "outputId": "810f6cf5-5e64-4ef8-8c77-da0fcef8b0ca"
      },
      "source": [
        "from sklearn.metrics import confusion_matrix\n",
        "\n",
        "print(\"Confusion matrix for Random forest:\")\n",
        "confusion_matrix_rf = confusion_matrix(y_test, pred_rf)\n",
        "print(confusion_matrix_rf)\n"
      ],
      "execution_count": null,
      "outputs": [
        {
          "output_type": "stream",
          "text": [
            "Confusion matrix for Random forest:\n",
            "[[10654   311]\n",
            " [  797   595]]\n"
          ],
          "name": "stdout"
        }
      ]
    },
    {
      "cell_type": "markdown",
      "metadata": {
        "id": "uxscnbaznkT5"
      },
      "source": [
        "True Negative is 10654 that means 10654 observations are correctly predicted as 0.\n",
        "\n",
        "False Positive is 311 that means 311 observations are wrongly predicted as 1.\n",
        "\n",
        "False Negative is 797 that means 797 observations are wronly predicted as 0.\n",
        "\n",
        "True Positive is 595 that 595 observations are correctly predicted as 1."
      ]
    },
    {
      "cell_type": "markdown",
      "metadata": {
        "id": "nCYdrg9MMUmx"
      },
      "source": [
        "## Classification report"
      ]
    },
    {
      "cell_type": "code",
      "metadata": {
        "id": "6ST-tqJfXDI2",
        "colab": {
          "base_uri": "https://localhost:8080/",
          "height": 195
        },
        "outputId": "e14b0981-24e9-4bf4-9e44-0d6f1365475c"
      },
      "source": [
        "from sklearn.metrics import classification_report\n",
        "print(\"Classification report for Random forest model:\")\n",
        "print(classification_report(y_test, pred_rf))"
      ],
      "execution_count": null,
      "outputs": [
        {
          "output_type": "stream",
          "text": [
            "Classification report for Random forest model:\n",
            "              precision    recall  f1-score   support\n",
            "\n",
            "           0       0.93      0.97      0.95     10965\n",
            "           1       0.66      0.43      0.52      1392\n",
            "\n",
            "    accuracy                           0.91     12357\n",
            "   macro avg       0.79      0.70      0.73     12357\n",
            "weighted avg       0.90      0.91      0.90     12357\n",
            "\n"
          ],
          "name": "stdout"
        }
      ]
    },
    {
      "cell_type": "markdown",
      "metadata": {
        "id": "U_kqJlZ9MZ4s"
      },
      "source": [
        "#### Compute precision, recall, F-measure and support\n",
        "\n",
        "The precision is the ratio tp / (tp + fp) where tp is the number of true positives and fp the number of false positives. The precision is intuitively the ability of the classifier not to label as positive a sample that is negative.\n",
        "\n",
        "The recall is the ratio tp / (tp + fn) where tp is the number of true positives and fn the number of false negatives. The recall is intuitively the ability of the classifier to find all the positive samples.\n",
        "\n",
        "The F-beta score can be interpreted as a weighted harmonic mean of the precision and recall, where an F-beta score reaches its best value at 1 and worst score at 0.\n",
        "\n",
        "The F-beta score weights recall more than precision by a factor of beta. beta == 1.0 means recall and precision are equally important.\n",
        "\n",
        "The support is the number of occurrences of each class in y_test."
      ]
    },
    {
      "cell_type": "markdown",
      "metadata": {
        "id": "D6m-UJcGadxp"
      },
      "source": [
        "## ROC Curve"
      ]
    },
    {
      "cell_type": "code",
      "metadata": {
        "id": "Ga2NEiptXmn1",
        "colab": {
          "base_uri": "https://localhost:8080/",
          "height": 301
        },
        "outputId": "1e588584-5210-47b3-af6a-7c4c36afcd76"
      },
      "source": [
        "#import metrics from sklearn to calculate auc score\n",
        "from sklearn.metrics import roc_auc_score\n",
        "from sklearn.metrics import roc_curve\n",
        "from sklearn.metrics import auc\n",
        "\n",
        "\n",
        "#Calculating false positive rate and true positive rate\n",
        "false_positive_rate, true_positive_rate, thresholds = roc_curve(y_test, pred_rf)\n",
        "    \n",
        "#Calculating AUC score\n",
        "roc_auc = auc(false_positive_rate, true_positive_rate)\n",
        "\n",
        "# create a figure object\n",
        "plt.figure()\n",
        "\n",
        "#plot false positive rate value and true positive rate value and area under curve value\n",
        "plt.plot(false_positive_rate, true_positive_rate, label='Random Forest (area = %0.2f)' % roc_auc)\n",
        "\n",
        "#dignal dotted red line\n",
        "plt.plot([0, 1], [0, 1],'r--')\n",
        "\n",
        "#x-axis limitation\n",
        "plt.xlim([0.0, 1.0])\n",
        "\n",
        "#y-axis limitaion\n",
        "plt.ylim([0.0, 1.05])\n",
        "\n",
        "#x-axis label\n",
        "plt.xlabel('False Positive Rate')\n",
        "\n",
        "#y-axis label\n",
        "plt.ylabel('True Positive Rate')\n",
        "\n",
        "#title for plot\n",
        "plt.title('Receiver operating characteristic')\n",
        "\n",
        "#print legend on lower right\n",
        "plt.legend(loc=\"lower right\")\n",
        "\n",
        "#save the plot as a image\n",
        "plt.savefig('Log_ROC')\n",
        "#print the plot\n",
        "plt.show()"
      ],
      "execution_count": null,
      "outputs": [
        {
          "output_type": "display_data",
          "data": {
            "image/png": "[encoded data removed]",
            "text/plain": [
              "<Figure size 432x288 with 1 Axes>"
            ]
          },
          "metadata": {
            "tags": [],
            "needs_background": "light"
          }
        }
      ]
    },
    {
      "cell_type": "markdown",
      "metadata": {
        "id": "C64EvYVBDSyn"
      },
      "source": [
        "\n",
        "\n",
        "Roc curve is a plot of true positive rate versus false positive rate. The closer the curve follows the left-hand border and then the top border of the ROC space, the more accurate the test. The area under the curve (AUC) is a measure of test accuracy. When AUC is 0.70, it means there is 70% chance that model will be able to distinguish between positive class and negative class\n"
      ]
    },
    {
      "cell_type": "markdown",
      "metadata": {
        "id": "nbJy0tFYX2iX"
      },
      "source": [
        "We can observe that the model has given 91% accuracy on test data.\n",
        "\n",
        "F1 score for \"No\" is 95% and F1 score for \"Yes\" is 52%. We have to balance F1 score between \"No\" and \"Yes\".\n",
        "\n",
        "AUC score is 70% which is lower than accuracy value.\n",
        "\n"
      ]
    },
    {
      "cell_type": "markdown",
      "metadata": {
        "id": "w4xphYGyZX4k"
      },
      "source": [
        "We try to tune hyperparameter to increase AUC score."
      ]
    },
    {
      "cell_type": "markdown",
      "metadata": {
        "id": "C9HL8wq5XE0K"
      },
      "source": [
        "## Let's learn about hyperparameter tuning for Random forest"
      ]
    },
    {
      "cell_type": "markdown",
      "metadata": {
        "id": "pazNqwQ1XT0p"
      },
      "source": [
        "### n_estimators\n",
        "The number of trees in the forest.\n",
        "\n",
        "### class_weight  \n",
        "Weights associated with classes in the form {class_label: weight}. If not given, all classes are supposed to have weight one.\n",
        "\n",
        "### criterion\n",
        "The function to measure the quality of a split.\n",
        "\n",
        "### max_depth  \n",
        " Maximum  number of levels in each decision tree\n",
        "\n",
        "### max_features  \n",
        "Maximum number of features considered for splitting a node\n",
        "\n",
        "### max_leaf_nodes\n",
        "Grow a tree with max_leaf_nodes in best-first fashion. Best nodes are defined as relative reduction in impurity. If None then unlimited number of leaf nodes.\n",
        "\n",
        "### min_impurity_decrease \n",
        "A node will be split if this split induces a decrease of the impurity greater than or equal to this value.\n",
        "\n",
        "###  min_impurity_split \n",
        "Threshold for early stopping in tree growth. A node will split if its impurity is above the threshold, otherwise it is a leaf.\n",
        " \n",
        "### min_samples_split  \n",
        " Minimum number number of data points placed in a node before the node is split\n",
        "\n",
        "### min_samples_leaf \n",
        "Minimum number of data points allowed in a leaf node\n",
        "\n",
        "### min_weight_fraction_leaf \n",
        "The minimum weighted fraction of the sum total of weights (of all the input samples) required to be at a leaf node. Samples have equal weight when sample_weight is not provided.\n",
        "\n",
        "### oob_score\n",
        "Whether to use out-of-bag samples to estimate the generalization accuracy.\n",
        "\n",
        "### bootstrap \n",
        "Whether bootstrap samples are used when building trees. If False, the whole datset is used to build each tree.\n",
        "\n",
        "### warm_start\n",
        "When set to True, reuse the solution of the previous call to fit and add more estimators to the ensemble, otherwise, just fit a whole new forest"
      ]
    },
    {
      "cell_type": "markdown",
      "metadata": {
        "id": "Wm2-9Vhw8nqr"
      },
      "source": [
        "##  Let's check how AUC value changing when the depth of tree change and the increasing number of the estimator"
      ]
    },
    {
      "cell_type": "code",
      "metadata": {
        "id": "MW0itUOl4sl6"
      },
      "source": [
        "from sklearn.metrics import roc_curve, auc\n",
        "\n",
        "max_depths = list(range(1,50))\n",
        "\n",
        "train_results_max_depth = []\n",
        "test_results_max_depth = []\n",
        "\n",
        "for i in max_depths:\n",
        "    #creata a model\n",
        "    model_rf = RandomForestClassifier(max_depth=i, n_jobs=-1)\n",
        "    \n",
        "    #Fit the model on train and test data\n",
        "    model_rf.fit(X_train, y_train)\n",
        "    \n",
        "    #Prediction on train data set\n",
        "    train_pred = model_rf.predict(X_train)\n",
        "    \n",
        "    #Calculating false positive rate and true positive rate \n",
        "    false_positive_rate, true_positive_rate, thresholds = roc_curve(y_train, train_pred)\n",
        "    \n",
        "    #Calculating AUC score \n",
        "    roc_auc = auc(false_positive_rate, true_positive_rate)\n",
        "    \n",
        "    #Append result to empty train_results list\n",
        "    train_results_max_depth.append(roc_auc)\n",
        "    \n",
        "    #Prediction on test dataset\n",
        "    y_pred = model_rf.predict(X_test)\n",
        "    \n",
        "    #Calculating false positive rate and true positive rate\n",
        "    false_positive_rate, true_positive_rate, thresholds = roc_curve(y_test, y_pred)\n",
        "    \n",
        "    #Calculating AUC score\n",
        "    roc_auc = auc(false_positive_rate, true_positive_rate)\n",
        "    \n",
        "    #Append result to empty train_results list\n",
        "    test_results_max_depth.append(roc_auc)\n",
        "\n",
        "\n",
        "n_estimator = list(range(10,50))\n",
        "\n",
        "train_results_n_estimator = []\n",
        "test_results_n_estimator = []\n",
        "for i in n_estimator:\n",
        "    #creata a model\n",
        "    model_rf = RandomForestClassifier(n_estimators=i, n_jobs=-1)\n",
        "    \n",
        "    #Fit the model on train and test data\n",
        "    model_rf.fit(X_train, y_train)\n",
        "    \n",
        "    #Prediction on train data set\n",
        "    train_pred = model_rf.predict(X_train)\n",
        "    \n",
        "    #Calculating false positive rate and true positive rate \n",
        "    false_positive_rate, true_positive_rate, thresholds = roc_curve(y_train, train_pred)\n",
        "    \n",
        "    #Calculating AUC score \n",
        "    roc_auc = auc(false_positive_rate, true_positive_rate)\n",
        "    \n",
        "    #Append result to empty train_results list\n",
        "    train_results_n_estimator.append(roc_auc)\n",
        "    \n",
        "    #Prediction on test dataset\n",
        "    y_pred = model_rf.predict(X_test)\n",
        "    \n",
        "    #Calculating false positive rate and true positive rate\n",
        "    false_positive_rate, true_positive_rate, thresholds = roc_curve(y_test, y_pred)\n",
        "    \n",
        "    #Calculating AUC score\n",
        "    roc_auc = auc(false_positive_rate, true_positive_rate)\n",
        "    \n",
        "    #Append result to empty train_results list\n",
        "    test_results_n_estimator.append(roc_auc)"
      ],
      "execution_count": null,
      "outputs": []
    },
    {
      "cell_type": "markdown",
      "metadata": {
        "id": "2mcBQZSkN2PD"
      },
      "source": [
        "## Visualize the AUC Scores according to max depth and number of estimator"
      ]
    },
    {
      "cell_type": "code",
      "metadata": {
        "id": "jgchmofqGLn8",
        "colab": {
          "base_uri": "https://localhost:8080/",
          "height": 246
        },
        "outputId": "92e4c3a6-0168-440b-d783-5c0b11868807"
      },
      "source": [
        "#Create a figure object\n",
        "fig = plt.figure(figsize=(10,3))\n",
        "#Add two subplots to figure\n",
        "fig_max_depth = fig.add_subplot(\"121\")\n",
        "fig_n_estimator  = fig.add_subplot(\"122\")\n",
        "\n",
        "#Add max depth and result to one subplot\n",
        "fig_max_depth.plot(max_depths, train_results_max_depth)\n",
        "fig_max_depth.plot(max_depths, test_results_max_depth)\n",
        "fig_max_depth.title.set_text(\"AUC Score according to Max depth\")\n",
        "\n",
        "#Add number of estimator and result to one subplot\n",
        "fig_n_estimator.plot(n_estimator,train_results_n_estimator)\n",
        "fig_n_estimator.plot(n_estimator,test_results_n_estimator)\n",
        "fig_n_estimator.title.set_text(\"AUC Score according to number of estimator\")\n",
        "plt.xlabel('Tree Depth')\n",
        "plt.ylabel('AUC Score')\n",
        "plt.show()"
      ],
      "execution_count": null,
      "outputs": [
        {
          "output_type": "display_data",
          "data": {
            "image/png": "[encoded data removed]",
            "text/plain": [
              "<Figure size 720x216 with 2 Axes>"
            ]
          },
          "metadata": {
            "tags": [],
            "needs_background": "light"
          }
        }
      ]
    },
    {
      "cell_type": "markdown",
      "metadata": {
        "id": "NgTvXVchODQr"
      },
      "source": [
        "From the above plot, we can observe that the model leads to overfitting."
      ]
    },
    {
      "cell_type": "markdown",
      "metadata": {
        "id": "lC10SAofVSfx"
      },
      "source": [
        "## Training a model with Random search method"
      ]
    },
    {
      "cell_type": "code",
      "metadata": {
        "id": "Ui3HMtetViHe"
      },
      "source": [
        "param_grid = {'n_estimators': [100,150,200,250],\n",
        "               'max_features': ['auto', 'sqrt'],\n",
        "               'max_depth': [10, 20, 30, 40, 50,None],\n",
        "               'min_samples_split': [2, 5, 10],\n",
        "               'min_samples_leaf': [1, 2, 4],\n",
        "               'bootstrap': [True, False]}"
      ],
      "execution_count": null,
      "outputs": []
    },
    {
      "cell_type": "code",
      "metadata": {
        "id": "gc0YIZH1VS6z",
        "colab": {
          "base_uri": "https://localhost:8080/",
          "height": 479
        },
        "outputId": "f329033c-c069-4518-8cab-c91a060ffa1d"
      },
      "source": [
        "#Ignore the deprecation warning\n",
        "warnings.filterwarnings(\"ignore\", category=DeprecationWarning)\n",
        "\n",
        "#import randomized search model\n",
        "from sklearn.model_selection import RandomizedSearchCV\n",
        "\n",
        "#Create a decision tree classifier model\n",
        "randomscv_forest = RandomForestClassifier(random_state=0)\n",
        "\n",
        "random_search = RandomizedSearchCV(randomscv_forest,param_distributions=param_grid,n_iter=10,cv=10)\n",
        "#Fit the grid search object on the training dataset\n",
        "random_search.fit(X_train,y_train)                      \n"
      ],
      "execution_count": null,
      "outputs": [
        {
          "output_type": "execute_result",
          "data": {
            "text/plain": [
              "RandomizedSearchCV(cv=10, error_score=nan,\n",
              "                   estimator=RandomForestClassifier(bootstrap=True,\n",
              "                                                    ccp_alpha=0.0,\n",
              "                                                    class_weight=None,\n",
              "                                                    criterion='gini',\n",
              "                                                    max_depth=None,\n",
              "                                                    max_features='auto',\n",
              "                                                    max_leaf_nodes=None,\n",
              "                                                    max_samples=None,\n",
              "                                                    min_impurity_decrease=0.0,\n",
              "                                                    min_impurity_split=None,\n",
              "                                                    min_samples_leaf=1,\n",
              "                                                    min_samples_split=2,\n",
              "                                                    min_weight_fraction_leaf=0.0,\n",
              "                                                    n_estimators=100,\n",
              "                                                    n_job...\n",
              "                                                    warm_start=False),\n",
              "                   iid='deprecated', n_iter=10, n_jobs=None,\n",
              "                   param_distributions={'bootstrap': [True, False],\n",
              "                                        'max_depth': [10, 20, 30, 40, 50, None],\n",
              "                                        'max_features': ['auto', 'sqrt'],\n",
              "                                        'min_samples_leaf': [1, 2, 4],\n",
              "                                        'min_samples_split': [2, 5, 10],\n",
              "                                        'n_estimators': [100, 150, 200, 250]},\n",
              "                   pre_dispatch='2*n_jobs', random_state=None, refit=True,\n",
              "                   return_train_score=False, scoring=None, verbose=0)"
            ]
          },
          "metadata": {
            "tags": []
          },
          "execution_count": 35
        }
      ]
    },
    {
      "cell_type": "markdown",
      "metadata": {
        "id": "afsodRzAXkk6"
      },
      "source": [
        "## Print best parameter values from random search"
      ]
    },
    {
      "cell_type": "code",
      "metadata": {
        "id": "HPxT-Ef8W4Xm",
        "colab": {
          "base_uri": "https://localhost:8080/"
        },
        "outputId": "41625f73-bedf-422f-caac-a757deb13311"
      },
      "source": [
        "# View the accuracy score\n",
        "print('Best score for data1:', random_search.best_score_) "
      ],
      "execution_count": null,
      "outputs": [
        {
          "output_type": "stream",
          "text": [
            "Best score for data1: 0.9132878998461976\n"
          ],
          "name": "stdout"
        }
      ]
    },
    {
      "cell_type": "code",
      "metadata": {
        "id": "eGd5NRtBXIf_",
        "colab": {
          "base_uri": "https://localhost:8080/"
        },
        "outputId": "0a0e8227-5bdc-4c66-9f13-e0582b651559"
      },
      "source": [
        "# View the best parameters for the model found using grid search\n",
        "print('Best min_samples_split:',random_search.best_estimator_.min_samples_split) \n",
        "print('Best max_depth:',random_search.best_estimator_.max_depth) \n",
        "print('Best max_features:',random_search.best_estimator_.max_features)\n",
        "print('Best min_samples_leaf:',random_search.best_estimator_.min_samples_leaf)\n",
        "print('Best n_estimators:',random_search.best_estimator_.n_estimators)\n",
        "print('Best bootstrap:',random_search.best_estimator_.bootstrap)"
      ],
      "execution_count": null,
      "outputs": [
        {
          "output_type": "stream",
          "text": [
            "Best min_samples_split: 10\n",
            "Best max_depth: 40\n",
            "Best max_features: sqrt\n",
            "Best min_samples_leaf: 4\n",
            "Best n_estimators: 100\n",
            "Best bootstrap: False\n"
          ],
          "name": "stdout"
        }
      ]
    },
    {
      "cell_type": "markdown",
      "metadata": {
        "id": "b95OOyqp-qyR"
      },
      "source": [
        "## Build a Random forest classifier using the best parameter given by the random search method"
      ]
    },
    {
      "cell_type": "code",
      "metadata": {
        "id": "dkld82Kk-sYU",
        "colab": {
          "base_uri": "https://localhost:8080/",
          "height": 159
        },
        "outputId": "a3864804-fcad-4971-de0d-f618634644c8"
      },
      "source": [
        "#Create a decision tree classifier model\n",
        "random_forest_model = RandomForestClassifier(n_estimators=100,min_samples_split=10,max_depth=40,max_features='sqrt',bootstrap=False,random_state=0,min_samples_leaf=4)\n",
        "random_forest_model.fit(X_train,y_train)  "
      ],
      "execution_count": null,
      "outputs": [
        {
          "output_type": "execute_result",
          "data": {
            "text/plain": [
              "RandomForestClassifier(bootstrap=False, ccp_alpha=0.0, class_weight=None,\n",
              "                       criterion='gini', max_depth=40, max_features='sqrt',\n",
              "                       max_leaf_nodes=None, max_samples=None,\n",
              "                       min_impurity_decrease=0.0, min_impurity_split=None,\n",
              "                       min_samples_leaf=4, min_samples_split=10,\n",
              "                       min_weight_fraction_leaf=0.0, n_estimators=100,\n",
              "                       n_jobs=None, oob_score=False, random_state=0, verbose=0,\n",
              "                       warm_start=False)"
            ]
          },
          "metadata": {
            "tags": []
          },
          "execution_count": 37
        }
      ]
    },
    {
      "cell_type": "markdown",
      "metadata": {
        "id": "z5tzj5dyZvf1"
      },
      "source": [
        "## Prediction on test data by the model given by random search\n"
      ]
    },
    {
      "cell_type": "code",
      "metadata": {
        "id": "ONIxElWnYNtT"
      },
      "source": [
        "# Predicting the Test set results\n",
        "pred_rm = random_forest_model.predict(X_test)"
      ],
      "execution_count": null,
      "outputs": []
    },
    {
      "cell_type": "code",
      "metadata": {
        "id": "0vHOWgcdYa-i",
        "colab": {
          "base_uri": "https://localhost:8080/",
          "height": 35
        },
        "outputId": "778aabd8-c0d1-4d19-bec6-285c60151831"
      },
      "source": [
        "print('Accuracy of Decision tree classifier on train set: {:.2f}'.format(random_forest_model.score(X_train, y_train)))"
      ],
      "execution_count": null,
      "outputs": [
        {
          "output_type": "stream",
          "text": [
            "Accuracy of Decision tree classifier on train set: 0.99\n"
          ],
          "name": "stdout"
        }
      ]
    },
    {
      "cell_type": "code",
      "metadata": {
        "id": "nAf6fwxuYUKi",
        "colab": {
          "base_uri": "https://localhost:8080/",
          "height": 35
        },
        "outputId": "99008a06-5a40-4f41-830f-476c1ce24e5e"
      },
      "source": [
        "print('Accuracy of Decision tree classifier on test set: {:.2f}'.format(random_forest_model.score(X_test, y_test)))"
      ],
      "execution_count": null,
      "outputs": [
        {
          "output_type": "stream",
          "text": [
            "Accuracy of Decision tree classifier on test set: 0.91\n"
          ],
          "name": "stdout"
        }
      ]
    },
    {
      "cell_type": "markdown",
      "metadata": {
        "id": "idl402xCZ0v3"
      },
      "source": [
        "## Confusion matrix"
      ]
    },
    {
      "cell_type": "code",
      "metadata": {
        "id": "NczF6fk6ZMlk",
        "colab": {
          "base_uri": "https://localhost:8080/",
          "height": 52
        },
        "outputId": "9d4a3953-be36-4c47-a4de-c1fb950d9770"
      },
      "source": [
        "from sklearn.metrics import confusion_matrix\n",
        "confusion_matrix = confusion_matrix(y_test, pred_rm)\n",
        "print(confusion_matrix)"
      ],
      "execution_count": null,
      "outputs": [
        {
          "output_type": "stream",
          "text": [
            "[[10641   324]\n",
            " [  774   618]]\n"
          ],
          "name": "stdout"
        }
      ]
    },
    {
      "cell_type": "markdown",
      "metadata": {
        "id": "wz9DUJIyaNb8"
      },
      "source": [
        "\n",
        "\n",
        "1.   List item\n",
        "\n",
        "1.   List item\n",
        "\n",
        "1.   List item\n",
        "2.   List item\n",
        "\n",
        "\n",
        "2.   List item\n",
        "\n",
        "\n",
        "2.   List item\n",
        "\n",
        "\n",
        "True Negative is 10641 that means 10641 observations are correctly predicted as 0.\n",
        "\n",
        "False Positive is 324 that means 324 observations are wrongly predicted as 1.\n",
        "\n",
        "False Negative is 774  that means  774  observations are wronly predicted as 0.\n",
        "\n",
        "True Positive is 618  that 618 observations are correctly predicted as 1."
      ]
    },
    {
      "cell_type": "markdown",
      "metadata": {
        "id": "DZD8fBXJaveK"
      },
      "source": [
        "## Classification report"
      ]
    },
    {
      "cell_type": "code",
      "metadata": {
        "id": "7hQDw14JaS7p",
        "colab": {
          "base_uri": "https://localhost:8080/",
          "height": 177
        },
        "outputId": "885c9d73-bddc-4d05-bfe1-14593a07ebb6"
      },
      "source": [
        "from sklearn.metrics import classification_report\n",
        "print(classification_report(y_test, pred_rm))"
      ],
      "execution_count": null,
      "outputs": [
        {
          "output_type": "stream",
          "text": [
            "              precision    recall  f1-score   support\n",
            "\n",
            "           0       0.93      0.97      0.95     10965\n",
            "           1       0.66      0.44      0.53      1392\n",
            "\n",
            "    accuracy                           0.91     12357\n",
            "   macro avg       0.79      0.71      0.74     12357\n",
            "weighted avg       0.90      0.91      0.90     12357\n",
            "\n"
          ],
          "name": "stdout"
        }
      ]
    },
    {
      "cell_type": "markdown",
      "metadata": {
        "id": "f0oTzwbRy5bv"
      },
      "source": [
        "#### Compute precision, recall, F-measure and support\n",
        "\n",
        "The precision is the ratio tp / (tp + fp) where tp is the number of true positives and fp the number of false positives. The precision is intuitively the ability of the classifier not to label as positive a sample that is negative.\n",
        "\n",
        "The recall is the ratio tp / (tp + fn) where tp is the number of true positives and fn the number of false negatives. The recall is intuitively the ability of the classifier to find all the positive samples.\n",
        "\n",
        "The F-beta score can be interpreted as a weighted harmonic mean of the precision and recall, where an F-beta score reaches its best value at 1 and worst score at 0.\n",
        "\n",
        "The F-beta score weights recall more than precision by a factor of beta. beta == 1.0 means recall and precision are equally important.\n",
        "\n",
        "The support is the number of occurrences of each class in y_test."
      ]
    },
    {
      "cell_type": "markdown",
      "metadata": {
        "id": "t7oDtJ3sXQC0"
      },
      "source": [
        "## ROC curve from sklearn import metrics"
      ]
    },
    {
      "cell_type": "code",
      "metadata": {
        "id": "iGN6rCt3WLgE",
        "colab": {
          "base_uri": "https://localhost:8080/",
          "height": 301
        },
        "outputId": "4ea9b856-8705-4b96-a911-91ddd34019d8"
      },
      "source": [
        "#import metrics from sklearn to calculate auc score\n",
        "from sklearn.metrics import roc_auc_score\n",
        "from sklearn.metrics import roc_curve\n",
        "\n",
        "\n",
        "#Calculating false positive rate and true positive rate\n",
        "false_positive_rate, true_positive_rate, thresholds = roc_curve(y_test, pred_rm)\n",
        "    \n",
        "#Calculating AUC score\n",
        "roc_auc = auc(false_positive_rate, true_positive_rate)\n",
        "\n",
        "# create a figure object\n",
        "plt.figure()\n",
        "\n",
        "#plot false positive rate value and true positive rate value and area under curve value\n",
        "plt.plot(false_positive_rate, true_positive_rate, label='Random Forest (area = %0.2f)' % roc_auc)\n",
        "\n",
        "#dignal dotted red line\n",
        "plt.plot([0, 1], [0, 1],'r--')\n",
        "\n",
        "#x-axis limitation\n",
        "plt.xlim([0.0, 1.0])\n",
        "\n",
        "#y-axis limitaion\n",
        "plt.ylim([0.0, 1.05])\n",
        "\n",
        "#x-axis label\n",
        "plt.xlabel('False Positive Rate')\n",
        "\n",
        "#y-axis label\n",
        "plt.ylabel('True Positive Rate')\n",
        "\n",
        "#title for plot\n",
        "plt.title('Receiver operating characteristic')\n",
        "\n",
        "#print legend on lower right\n",
        "plt.legend(loc=\"lower right\")\n",
        "\n",
        "#save the plot as a image\n",
        "plt.savefig('Log_ROC')\n",
        "#print the plot\n",
        "plt.show()"
      ],
      "execution_count": null,
      "outputs": [
        {
          "output_type": "display_data",
          "data": {
            "image/png": "[encoded data removed]",
            "text/plain": [
              "<Figure size 432x288 with 1 Axes>"
            ]
          },
          "metadata": {
            "tags": [],
            "needs_background": "light"
          }
        }
      ]
    },
    {
      "cell_type": "markdown",
      "metadata": {
        "id": "0XdFkaiJDLJt"
      },
      "source": [
        "\n",
        "\n",
        "Roc curve is a plot of true positive rate versus false positive rate. The closer the curve follows the left-hand border and then the top border of the ROC space, the more accurate the test. The area under the curve (AUC) is a measure of test accuracy. When AUC is 0.71, it means there is 71% chance that model will be able to distinguish between positive class and negative class\n"
      ]
    },
    {
      "cell_type": "markdown",
      "metadata": {
        "id": "GBKDAktuaLrT"
      },
      "source": [
        "We can observe that the model has given 91% accuracy on test data.\n",
        "\n",
        "F1 score for \"No\" is 95% and F1 score for \"Yes\" is 52%. We have to balance F1 score between \"No\" and \"Yes\".\n"
      ]
    },
    {
      "cell_type": "markdown",
      "metadata": {
        "id": "VMyxfpWepIWk"
      },
      "source": [
        "\n",
        "\n",
        "## View Feature Importance\n",
        "\n",
        "\n"
      ]
    },
    {
      "cell_type": "code",
      "metadata": {
        "id": "cyn-EL9upWPN"
      },
      "source": [
        "importances_features =random_forest_model.feature_importances_"
      ],
      "execution_count": null,
      "outputs": []
    },
    {
      "cell_type": "markdown",
      "metadata": {
        "id": "unrQUOaErB0t"
      },
      "source": [
        "## Visualize Feature Importance\n"
      ]
    },
    {
      "cell_type": "code",
      "metadata": {
        "id": "WiLYcyibrFTa",
        "colab": {
          "base_uri": "https://localhost:8080/",
          "height": 434
        },
        "outputId": "343174d2-b362-484e-d214-1bb65466d3ca"
      },
      "source": [
        "# Sort feature importances in descending order\n",
        "indices = np.argsort(importances_features)[::-1]\n",
        "\n",
        "# Rearrange feature names so they match the sorted feature importances\n",
        "names = [df_bank.columns[i] for i in indices]\n",
        "\n",
        "# Create plot\n",
        "plt.figure()\n",
        "\n",
        "# Create plot title\n",
        "plt.title(\"Feature Importance\")\n",
        "\n",
        "# Add bars\n",
        "plt.bar(range(X.shape[1]), importances_features[indices])\n",
        "\n",
        "# Add feature names as x-axis labels\n",
        "plt.xticks(range(X.shape[1]), names, rotation=90)\n",
        "\n",
        "# Show plot\n",
        "plt.show()"
      ],
      "execution_count": null,
      "outputs": [
        {
          "output_type": "display_data",
          "data": {
            "image/png": "[encoded data removed]",
            "text/plain": [
              "<Figure size 432x288 with 1 Axes>"
            ]
          },
          "metadata": {
            "tags": [],
            "needs_background": "light"
          }
        }
      ]
    },
    {
      "cell_type": "markdown",
      "metadata": {
        "id": "sL6j3ehIMkMJ"
      },
      "source": [
        "\n",
        "\n",
        "The above plot show feature importance to predict if the client will subscribe to a new insurance plan (variable Client_Subscribed).\n",
        "\n",
        "Random forest classifier has an accuracy of 91% when predicting the client will buy a new insurance plan."
      ]
    },
    {
      "cell_type": "markdown",
      "metadata": {
        "id": "RKW3tSyEsltw"
      },
      "source": [
        "# XGBoost"
      ]
    },
    {
      "cell_type": "markdown",
      "metadata": {
        "id": "Y9fJNrlItJ1Y"
      },
      "source": [
        "## Model Development"
      ]
    },
    {
      "cell_type": "code",
      "metadata": {
        "id": "LHRL4szbtctD",
        "colab": {
          "base_uri": "https://localhost:8080/",
          "height": 141
        },
        "outputId": "fdadce6b-cbdc-4485-bc66-e1414d9d5cf5"
      },
      "source": [
        "from xgboost import XGBClassifier\n",
        "#Create XGboost model\n",
        "xgb_model = XGBClassifier()\n",
        "\n",
        "# fit model on training data\n",
        "xgb_model.fit(X_train, y_train)"
      ],
      "execution_count": null,
      "outputs": [
        {
          "output_type": "execute_result",
          "data": {
            "text/plain": [
              "XGBClassifier(base_score=0.5, booster='gbtree', colsample_bylevel=1,\n",
              "              colsample_bynode=1, colsample_bytree=1, gamma=0,\n",
              "              learning_rate=0.1, max_delta_step=0, max_depth=3,\n",
              "              min_child_weight=1, missing=None, n_estimators=100, n_jobs=1,\n",
              "              nthread=None, objective='binary:logistic', random_state=0,\n",
              "              reg_alpha=0, reg_lambda=1, scale_pos_weight=1, seed=None,\n",
              "              silent=None, subsample=1, verbosity=1)"
            ]
          },
          "metadata": {
            "tags": []
          },
          "execution_count": 52
        }
      ]
    },
    {
      "cell_type": "markdown",
      "metadata": {
        "id": "QmaYTdLErg9C"
      },
      "source": [
        "## Predicting the test set results and caculating the accuracy"
      ]
    },
    {
      "cell_type": "code",
      "metadata": {
        "id": "Mo4lgjb0rWDK"
      },
      "source": [
        "pred_xgb = xgb_model.predict(X_test)"
      ],
      "execution_count": null,
      "outputs": []
    },
    {
      "cell_type": "code",
      "metadata": {
        "id": "MF8_r8wpsIwj",
        "colab": {
          "base_uri": "https://localhost:8080/",
          "height": 35
        },
        "outputId": "62f87df3-c474-4f88-8dc8-41ae8944f2ed"
      },
      "source": [
        "print('Accuracy of Xgboost classifier on train set: {:.2f}'.format(xgb_model.score(X_train, y_train)))"
      ],
      "execution_count": null,
      "outputs": [
        {
          "output_type": "stream",
          "text": [
            "Accuracy of Xgboost classifier on train set: 0.92\n"
          ],
          "name": "stdout"
        }
      ]
    },
    {
      "cell_type": "code",
      "metadata": {
        "id": "sLT3_W7CsEtF",
        "colab": {
          "base_uri": "https://localhost:8080/",
          "height": 35
        },
        "outputId": "0a408124-a1df-4e7a-83b5-5fd79afac97d"
      },
      "source": [
        "print('Accuracy of Xgboost classifier on test set: {:.2f}'.format(xgb_model.score(X_test, y_test)))\n"
      ],
      "execution_count": null,
      "outputs": [
        {
          "output_type": "stream",
          "text": [
            "Accuracy of Xgboost classifier on test set: 0.91\n"
          ],
          "name": "stdout"
        }
      ]
    },
    {
      "cell_type": "markdown",
      "metadata": {
        "id": "6eLAftZqsPee"
      },
      "source": [
        "## Confusion Matrix"
      ]
    },
    {
      "cell_type": "code",
      "metadata": {
        "id": "xOQcU-9vsQAe",
        "colab": {
          "base_uri": "https://localhost:8080/",
          "height": 70
        },
        "outputId": "edc32f5f-9f4c-49d8-a542-1d327ccfda5d"
      },
      "source": [
        "from sklearn.metrics import confusion_matrix\n",
        "print(\"Confusion matrix for XGboost forest:\")\n",
        "confusion_matrix_xgb = confusion_matrix(y_test, pred_xgb)\n",
        "print(confusion_matrix_xgb)"
      ],
      "execution_count": null,
      "outputs": [
        {
          "output_type": "stream",
          "text": [
            "Confusion matrix for XGboost forest:\n",
            "[[10637   328]\n",
            " [  788   604]]\n"
          ],
          "name": "stdout"
        }
      ]
    },
    {
      "cell_type": "markdown",
      "metadata": {
        "id": "7dl-kIkjy5cK"
      },
      "source": [
        "True Negative is 10637 that means 10637 observations are correctly predicted as 0.\n",
        "\n",
        "False Positive is 328 that means 328 observations are wrongly predicted as 1.\n",
        "\n",
        "False Negative is 788 that means 788 observations are wronly predicted as 0.\n",
        "\n",
        "True Positive is 604 that 604 observations are correctly predicted as 1."
      ]
    },
    {
      "cell_type": "markdown",
      "metadata": {
        "id": "IP2WYe5WsLoH"
      },
      "source": [
        "\n",
        "## Classification report"
      ]
    },
    {
      "cell_type": "code",
      "metadata": {
        "id": "WO5K3k8zsNCq",
        "colab": {
          "base_uri": "https://localhost:8080/",
          "height": 195
        },
        "outputId": "8ae7c24f-aa75-4211-f0f4-e642ed6ac39d"
      },
      "source": [
        "from sklearn.metrics import classification_report\n",
        "print(\"Classification report for XGboost model:\")\n",
        "print(classification_report(y_test, pred_xgb))"
      ],
      "execution_count": null,
      "outputs": [
        {
          "output_type": "stream",
          "text": [
            "Classification report for XGboost model:\n",
            "              precision    recall  f1-score   support\n",
            "\n",
            "           0       0.93      0.97      0.95     10965\n",
            "           1       0.65      0.43      0.52      1392\n",
            "\n",
            "    accuracy                           0.91     12357\n",
            "   macro avg       0.79      0.70      0.73     12357\n",
            "weighted avg       0.90      0.91      0.90     12357\n",
            "\n"
          ],
          "name": "stdout"
        }
      ]
    },
    {
      "cell_type": "markdown",
      "metadata": {
        "id": "tOSaSQo2y5cN"
      },
      "source": [
        "#### Compute precision, recall, F-measure and support\n",
        "\n",
        "The precision is the ratio tp / (tp + fp) where tp is the number of true positives and fp the number of false positives. The precision is intuitively the ability of the classifier not to label as positive a sample that is negative.\n",
        "\n",
        "The recall is the ratio tp / (tp + fn) where tp is the number of true positives and fn the number of false negatives. The recall is intuitively the ability of the classifier to find all the positive samples.\n",
        "\n",
        "The F-beta score can be interpreted as a weighted harmonic mean of the precision and recall, where an F-beta score reaches its best value at 1 and worst score at 0.\n",
        "\n",
        "The F-beta score weights recall more than precision by a factor of beta. beta == 1.0 means recall and precision are equally important.\n",
        "\n",
        "The support is the number of occurrences of each class in y_test."
      ]
    },
    {
      "cell_type": "markdown",
      "metadata": {
        "id": "rZGpdSneBjOu"
      },
      "source": [
        "## ROC Curve"
      ]
    },
    {
      "cell_type": "code",
      "metadata": {
        "id": "0Xo9vZP7XbPS",
        "colab": {
          "base_uri": "https://localhost:8080/",
          "height": 301
        },
        "outputId": "c79cea50-c33e-4eb8-cf62-e5525ef64145"
      },
      "source": [
        "#import metrics from sklearn to calculate auc score\n",
        "from sklearn.metrics import roc_auc_score\n",
        "from sklearn.metrics import roc_curve\n",
        "from sklearn.metrics import auc\n",
        "\n",
        "\n",
        "#Calculating false positive rate and true positive rate\n",
        "false_positive_rate, true_positive_rate, thresholds = roc_curve(y_test, pred_xgb)\n",
        "    \n",
        "#Calculating AUC score\n",
        "roc_auc = auc(false_positive_rate, true_positive_rate)\n",
        "\n",
        "# create a figure object\n",
        "plt.figure()\n",
        "\n",
        "#plot false positive rate value and true positive rate value and area under curve value\n",
        "plt.plot(false_positive_rate, true_positive_rate, label='Random Forest (area = %0.2f)' % roc_auc)\n",
        "\n",
        "#dignal dotted red line\n",
        "plt.plot([0, 1], [0, 1],'r--')\n",
        "\n",
        "#x-axis limitation\n",
        "plt.xlim([0.0, 1.0])\n",
        "\n",
        "#y-axis limitaion\n",
        "plt.ylim([0.0, 1.05])\n",
        "\n",
        "#x-axis label\n",
        "plt.xlabel('False Positive Rate')\n",
        "\n",
        "#y-axis label\n",
        "plt.ylabel('True Positive Rate')\n",
        "\n",
        "#title for plot\n",
        "plt.title('Receiver operating characteristic')\n",
        "\n",
        "#print legend on lower right\n",
        "plt.legend(loc=\"lower right\")\n",
        "\n",
        "#save the plot as a image\n",
        "plt.savefig('Log_ROC')\n",
        "#print the plot\n",
        "plt.show()"
      ],
      "execution_count": null,
      "outputs": [
        {
          "output_type": "display_data",
          "data": {
            "image/png": "[encoded data removed]",
            "text/plain": [
              "<Figure size 432x288 with 1 Axes>"
            ]
          },
          "metadata": {
            "tags": [],
            "needs_background": "light"
          }
        }
      ]
    },
    {
      "cell_type": "markdown",
      "metadata": {
        "id": "ttWL-elfDHpd"
      },
      "source": [
        "\n",
        "\n",
        "Roc curve is a plot of true positive rate versus false positive rate. The closer the curve follows the left-hand border and then the top border of the ROC space, the more accurate the test. The area under the curve (AUC) is a measure of test accuracy. When AUC is 0.70, it means there is 70% chance that model will be able to distinguish between positive class and negative class\n"
      ]
    },
    {
      "cell_type": "markdown",
      "metadata": {
        "id": "UABVSdiqCs_d"
      },
      "source": [
        "\n",
        "\n",
        "The above plot show feature importance to predict if the client will subscribe a new insurance plan (variable Client_Subscribed).\n",
        "\n",
        "XGBoost classifier has an accuracy of 91% when predicting the client will buy a new insurance plan"
      ]
    },
    {
      "cell_type": "markdown",
      "metadata": {
        "id": "hRQLaDDaVEX3"
      },
      "source": [
        "## Let's learn about hyperparameter tuning for XGboost"
      ]
    },
    {
      "cell_type": "markdown",
      "metadata": {
        "id": "cmvlF2WAVSep"
      },
      "source": [
        "### booster\n",
        "Select the type of model to run at each iteration. It has 2 options: \n",
        "\n",
        "gbtree: tree-based models,\n",
        "gblinear: linear models\n",
        "\n",
        "### silent\n",
        "Silent mode is activated is set to 1, i.e. no running messages will be printed.\n",
        "It’s generally good to keep it 0 as the messages might help in understanding the model\n",
        "\n",
        "### nthread\n",
        "This is used for parallel processing and number of cores in the system should be entered\n",
        "\n",
        "### eta \n",
        "Makes the model more robust by shrinking the weights on each step.\n",
        "Typical final values to be used: 0.01-0.2\n",
        "\n",
        "### max_depth  \n",
        " Maximum  number of levels in each decision tree\n",
        " \n",
        "### min_child_weight\n",
        "Minimum sum of weights of all observations required in a child.\n",
        "\n",
        "### max_leaf_nodes\n",
        "Grow a tree with max_leaf_nodes in best-first fashion. Best nodes are defined as relative reduction in impurity. If None then unlimited number of leaf nodes.\n",
        "\n",
        "### gamma\n",
        "A node is split only when the resulting split gives a positive reduction in the loss function. Gamma specifies the minimum loss reduction required to make a split.\n",
        "\n",
        "\n",
        "### max_delta_step\n",
        "In maximum delta step, we allow each tree’s weight estimation to be. If the value is set to 0, it means there is no constraint. If it is set to a positive value, it can help to make the update step more conservative.\n",
        "\n",
        " \n",
        "### subsample \n",
        "Denotes the fraction of observations to be randomly samples for each tree.\n",
        "Lower values make the algorithm more conservative and prevents overfitting but too small values might lead to under-fitting.\n",
        "Typical values: 0.5-1\n",
        "\n",
        "### colsample_bytree\n",
        "Similar to max_features in GBM. Denotes the fraction of columns to be randomly samples for each tree.\n",
        "\n",
        "### colsample_bylevel\n",
        "Denotes the subsample ratio of columns for each split, in each level\n",
        "\n",
        "### lambda \n",
        "L2 regularization term on weights (analogous to Ridge regression)\n",
        "\n",
        "### alpha\n",
        "L1 regularization term on weight (analogous to Lasso regression)\n",
        "\n",
        "### scale_pos_weight\n",
        "A value greater than 0 should be used in case of high class imbalance as it helps in faster convergence.\n",
        "\n",
        "### objective\n",
        "\n",
        "This defines the loss function to be minimized. Mostly used values are\n",
        "\n",
        "binary:logistic\n",
        "\n",
        "multi:softmax\n",
        "\n",
        "multi:softprob\n",
        "\n",
        "\n",
        "### eval_metric\n",
        "rmse – root mean square error\n",
        "\n",
        "mae – mean absolute error\n",
        "\n",
        "logloss – negative log-likelihood\n",
        "\n",
        "error – Binary classification error rate (0.5 threshold)\n",
        "\n",
        "merror – Multiclass classification error rate\n",
        "\n",
        "mlogloss – Multiclass logloss\n",
        "\n",
        "auc: Area under the curve\n",
        "\n",
        "\n",
        "### seed\n",
        "The random number seed."
      ]
    },
    {
      "cell_type": "markdown",
      "metadata": {
        "id": "TwmviPdRtnEE"
      },
      "source": [
        "## Training a model with Random search method"
      ]
    },
    {
      "cell_type": "code",
      "metadata": {
        "id": "0cW7wdYEtihk"
      },
      "source": [
        "param_grid = { 'min_child_weight':range(1,6,2),\n",
        "               'max_depth':[4,5,6],\n",
        "               'gamma':[i/10.0 for i in range(0,5)],\n",
        "               'subsample':[i/10.0 for i in range(6,10)],\n",
        "               'colsample_bytree':[i/10.0 for i in range(6,10)],\n",
        "               'reg_alpha':[1e-5, 1e-2, 0.1, 1, 100],\n",
        "               'scale_pos_weight':range(1,10,2)}\n"
      ],
      "execution_count": null,
      "outputs": []
    },
    {
      "cell_type": "code",
      "metadata": {
        "id": "KrXtIODktqPi",
        "colab": {
          "base_uri": "https://localhost:8080/",
          "height": 426
        },
        "outputId": "3028c2f2-0f05-4183-e6c0-95ef04affa4f"
      },
      "source": [
        "#Ignore the deprecation warning\n",
        "warnings.filterwarnings(\"ignore\", category=DeprecationWarning)\n",
        "\n",
        "#import randomized search model\n",
        "from sklearn.model_selection import RandomizedSearchCV\n",
        "\n",
        "#Create a XGboost classifier model\n",
        "xgb_model = XGBClassifier()\n",
        "\n",
        "random_search = RandomizedSearchCV(xgb_model,param_distributions=param_grid,n_iter=20,cv=10)\n",
        "#Fit the grid search object on the training dataset\n",
        "random_search.fit(X_train,y_train)  \n"
      ],
      "execution_count": null,
      "outputs": [
        {
          "output_type": "execute_result",
          "data": {
            "text/plain": [
              "RandomizedSearchCV(cv=10, error_score=nan,\n",
              "                   estimator=XGBClassifier(base_score=0.5, booster='gbtree',\n",
              "                                           colsample_bylevel=1,\n",
              "                                           colsample_bynode=1,\n",
              "                                           colsample_bytree=1, gamma=0,\n",
              "                                           learning_rate=0.1, max_delta_step=0,\n",
              "                                           max_depth=3, min_child_weight=1,\n",
              "                                           missing=None, n_estimators=100,\n",
              "                                           n_jobs=1, nthread=None,\n",
              "                                           objective='binary:logistic',\n",
              "                                           random_state=0, reg_alpha=0,\n",
              "                                           reg_lambda=1, s...\n",
              "                   iid='deprecated', n_iter=20, n_jobs=None,\n",
              "                   param_distributions={'colsample_bytree': [0.6, 0.7, 0.8,\n",
              "                                                             0.9],\n",
              "                                        'gamma': [0.0, 0.1, 0.2, 0.3, 0.4],\n",
              "                                        'max_depth': [4, 5, 6],\n",
              "                                        'min_child_weight': range(1, 6, 2),\n",
              "                                        'reg_alpha': [1e-05, 0.01, 0.1, 1, 100],\n",
              "                                        'scale_pos_weight': range(1, 10, 2),\n",
              "                                        'subsample': [0.6, 0.7, 0.8, 0.9]},\n",
              "                   pre_dispatch='2*n_jobs', random_state=None, refit=True,\n",
              "                   return_train_score=False, scoring=None, verbose=0)"
            ]
          },
          "metadata": {
            "tags": []
          },
          "execution_count": 62
        }
      ]
    },
    {
      "cell_type": "markdown",
      "metadata": {
        "id": "eqE5eDk4t0K5"
      },
      "source": [
        "## Print best parameter values from random search\n"
      ]
    },
    {
      "cell_type": "code",
      "metadata": {
        "id": "VzlbDjbOt9Zt",
        "colab": {
          "base_uri": "https://localhost:8080/",
          "height": 35
        },
        "outputId": "6158b9a9-610d-4b2a-b94f-71323014f476"
      },
      "source": [
        "print('Best score for data1:', random_search.best_score_) "
      ],
      "execution_count": null,
      "outputs": [
        {
          "output_type": "stream",
          "text": [
            "Best score for data1: 0.9128023426822208\n"
          ],
          "name": "stdout"
        }
      ]
    },
    {
      "cell_type": "code",
      "metadata": {
        "id": "-rzOXtFvt_Vz",
        "colab": {
          "base_uri": "https://localhost:8080/",
          "height": 124
        },
        "outputId": "47f649d0-3a61-4f13-ff71-a61fdc9d4e0d"
      },
      "source": [
        "# View the best parameters for the model found using grid search\n",
        "print('Best min_samples_split:',random_search.best_estimator_.min_child_weight) \n",
        "print('Best max_depth:',random_search.best_estimator_.max_depth) \n",
        "print('Best gamma:',random_search.best_estimator_.gamma) \n",
        "print('Best subsample:',random_search.best_estimator_.subsample)\n",
        "print('Best colsample_bytree:',random_search.best_estimator_.colsample_bytree)\n",
        "print('Best reg_alpha:',random_search.best_estimator_.reg_alpha)"
      ],
      "execution_count": null,
      "outputs": [
        {
          "output_type": "stream",
          "text": [
            "Best min_samples_split: 1\n",
            "Best max_depth: 4\n",
            "Best gamma: 0.4\n",
            "Best subsample: 0.7\n",
            "Best colsample_bytree: 0.6\n",
            "Best reg_alpha: 1\n"
          ],
          "name": "stdout"
        }
      ]
    },
    {
      "cell_type": "markdown",
      "metadata": {
        "id": "be18NrvCXbPz"
      },
      "source": [
        "## Build an XGBoost classifier using the best parameter given by the random search method"
      ]
    },
    {
      "cell_type": "code",
      "metadata": {
        "id": "gQy_FvOcXbP1",
        "colab": {
          "base_uri": "https://localhost:8080/",
          "height": 159
        },
        "outputId": "f65984f9-f18d-4213-ab9f-735e56f478d6"
      },
      "source": [
        "xgb_model = XGBClassifier(min_samples_split=1,max_depth=4,gamma=0.4,subsample=0.7,colsample_bytree=0.6,reg_alpha=1)\n",
        "xgb_model.fit(X_train,y_train)"
      ],
      "execution_count": null,
      "outputs": [
        {
          "output_type": "execute_result",
          "data": {
            "text/plain": [
              "XGBClassifier(base_score=0.5, booster='gbtree', colsample_bylevel=1,\n",
              "              colsample_bynode=1, colsample_bytree=0.6, gamma=0.4,\n",
              "              learning_rate=0.1, max_delta_step=0, max_depth=4,\n",
              "              min_child_weight=1, min_samples_split=1, missing=None,\n",
              "              n_estimators=100, n_jobs=1, nthread=None,\n",
              "              objective='binary:logistic', random_state=0, reg_alpha=1,\n",
              "              reg_lambda=1, scale_pos_weight=1, seed=None, silent=None,\n",
              "              subsample=0.7, verbosity=1)"
            ]
          },
          "metadata": {
            "tags": []
          },
          "execution_count": 65
        }
      ]
    },
    {
      "cell_type": "markdown",
      "metadata": {
        "id": "elBwYwyquTXh"
      },
      "source": [
        "## Prediction on test data by the model given by random search"
      ]
    },
    {
      "cell_type": "code",
      "metadata": {
        "id": "mQBFn0S1uMHW"
      },
      "source": [
        "pred_by_rsm = xgb_model.predict(X_test)"
      ],
      "execution_count": null,
      "outputs": []
    },
    {
      "cell_type": "code",
      "metadata": {
        "id": "KMTprgTSufKE",
        "colab": {
          "base_uri": "https://localhost:8080/",
          "height": 35
        },
        "outputId": "fe6c5c52-525d-4937-b4c3-e40232e4fe32"
      },
      "source": [
        "print('Accuracy of Xgboost classifier on train set: {:.2f}'.format(xgb_model.score(X_train, y_train)))"
      ],
      "execution_count": null,
      "outputs": [
        {
          "output_type": "stream",
          "text": [
            "Accuracy of Xgboost classifier on train set: 0.92\n"
          ],
          "name": "stdout"
        }
      ]
    },
    {
      "cell_type": "code",
      "metadata": {
        "id": "GZvpuvU-uesD",
        "colab": {
          "base_uri": "https://localhost:8080/",
          "height": 35
        },
        "outputId": "05abedf2-9dec-4f6c-bce7-9e417fe8acfd"
      },
      "source": [
        "print('Accuracy of Xgboost classifier on test set: {:.2f}'.format(xgb_model.score(X_test, y_test)))"
      ],
      "execution_count": null,
      "outputs": [
        {
          "output_type": "stream",
          "text": [
            "Accuracy of Xgboost classifier on test set: 0.91\n"
          ],
          "name": "stdout"
        }
      ]
    },
    {
      "cell_type": "markdown",
      "metadata": {
        "id": "o1RcVLiEum3X"
      },
      "source": [
        "## Confusion Matrix"
      ]
    },
    {
      "cell_type": "code",
      "metadata": {
        "id": "lbD-Ss5dung7",
        "colab": {
          "base_uri": "https://localhost:8080/",
          "height": 70
        },
        "outputId": "ede0f70d-5c84-4b0d-90d2-f895ed7f9550"
      },
      "source": [
        "print(\"Confusion matrix for XGboost forest:\")\n",
        "confusion_matrix_xgb = confusion_matrix(y_test, pred_by_rsm)\n",
        "print(confusion_matrix_xgb)"
      ],
      "execution_count": null,
      "outputs": [
        {
          "output_type": "stream",
          "text": [
            "Confusion matrix for XGboost forest:\n",
            "[[10623   342]\n",
            " [  752   640]]\n"
          ],
          "name": "stdout"
        }
      ]
    },
    {
      "cell_type": "markdown",
      "metadata": {
        "id": "N2XMMLsTy5cn"
      },
      "source": [
        "True Negative is 10623 that means 10623 observations are correctly predicted as 0.\n",
        "\n",
        "False Positive is 342 that means 342 observations are wrongly predicted as 1.\n",
        "\n",
        "False Negative is 752 that means 752 observations are wronly predicted as 0.\n",
        "\n",
        "True Positive is 640that 640 observations are correctly predicted as 1."
      ]
    },
    {
      "cell_type": "markdown",
      "metadata": {
        "id": "7x8-I0-_urku"
      },
      "source": [
        "\n",
        "## Classification report"
      ]
    },
    {
      "cell_type": "code",
      "metadata": {
        "id": "gq3FYa59urMc",
        "colab": {
          "base_uri": "https://localhost:8080/",
          "height": 195
        },
        "outputId": "b7a41e10-b3be-49da-eac7-bd61c80dd620"
      },
      "source": [
        "print(\"Classification report for XGboost model:\")\n",
        "print(classification_report(y_test, pred_by_rsm))"
      ],
      "execution_count": null,
      "outputs": [
        {
          "output_type": "stream",
          "text": [
            "Classification report for XGboost model:\n",
            "              precision    recall  f1-score   support\n",
            "\n",
            "           0       0.93      0.97      0.95     10965\n",
            "           1       0.65      0.46      0.54      1392\n",
            "\n",
            "    accuracy                           0.91     12357\n",
            "   macro avg       0.79      0.71      0.75     12357\n",
            "weighted avg       0.90      0.91      0.90     12357\n",
            "\n"
          ],
          "name": "stdout"
        }
      ]
    },
    {
      "cell_type": "markdown",
      "metadata": {
        "id": "-SM17eUcXbQW"
      },
      "source": [
        "## ROC Curve"
      ]
    },
    {
      "cell_type": "code",
      "metadata": {
        "id": "LWJB1o85XbQX",
        "colab": {
          "base_uri": "https://localhost:8080/",
          "height": 301
        },
        "outputId": "eea41340-bf71-47ed-c067-76c79643407c"
      },
      "source": [
        "#import metrics from sklearn to calculate auc score\n",
        "from sklearn.metrics import roc_auc_score\n",
        "from sklearn.metrics import roc_curve\n",
        "from sklearn.metrics import auc\n",
        "\n",
        "\n",
        "#Calculating false positive rate and true positive rate\n",
        "false_positive_rate, true_positive_rate, thresholds = roc_curve(y_test, pred_by_rsm)\n",
        "    \n",
        "#Calculating AUC score\n",
        "roc_auc = auc(false_positive_rate, true_positive_rate)\n",
        "\n",
        "# create a figure object\n",
        "plt.figure()\n",
        "\n",
        "#plot false positive rate value and true positive rate value and area under curve value\n",
        "plt.plot(false_positive_rate, true_positive_rate, label='Random Forest (area = %0.2f)' % roc_auc)\n",
        "\n",
        "#dignal dotted red line\n",
        "plt.plot([0, 1], [0, 1],'r--')\n",
        "\n",
        "#x-axis limitation\n",
        "plt.xlim([0.0, 1.0])\n",
        "\n",
        "#y-axis limitaion\n",
        "plt.ylim([0.0, 1.05])\n",
        "\n",
        "#x-axis label\n",
        "plt.xlabel('False Positive Rate')\n",
        "\n",
        "#y-axis label\n",
        "plt.ylabel('True Positive Rate')\n",
        "\n",
        "#title for plot\n",
        "plt.title('Receiver operating characteristic')\n",
        "\n",
        "#print legend on lower right\n",
        "plt.legend(loc=\"lower right\")\n",
        "\n",
        "#save the plot as a image\n",
        "plt.savefig('Log_ROC')\n",
        "#print the plot\n",
        "plt.show()"
      ],
      "execution_count": null,
      "outputs": [
        {
          "output_type": "display_data",
          "data": {
            "image/png": "[encoded data removed]",
            "text/plain": [
              "<Figure size 432x288 with 1 Axes>"
            ]
          },
          "metadata": {
            "tags": [],
            "needs_background": "light"
          }
        }
      ]
    },
    {
      "cell_type": "markdown",
      "metadata": {
        "id": "ddsCODioy5ct"
      },
      "source": [
        "Roc curve is a plot of true positive rate versus false positive rate. The closer the curve follows the left-hand border and then the top border of the ROC space, the more accurate the test. The area under the curve (AUC) is a measure of test accuracy. When AUC is 0.73, it means there is 73% chance that model will be able to distinguish between positive class and negative class\n"
      ]
    },
    {
      "cell_type": "markdown",
      "metadata": {
        "id": "vTrvo9TeXbQc"
      },
      "source": [
        "## View Feature Importance"
      ]
    },
    {
      "cell_type": "code",
      "metadata": {
        "id": "_0hjyHMHXbQd"
      },
      "source": [
        "importances_features =xgb_model.feature_importances_"
      ],
      "execution_count": null,
      "outputs": []
    },
    {
      "cell_type": "code",
      "metadata": {
        "id": "fGxSjeyrXbQg",
        "colab": {
          "base_uri": "https://localhost:8080/",
          "height": 434
        },
        "outputId": "b3534dd3-be55-4178-d1e0-81906098acd3"
      },
      "source": [
        "# Sort feature importances in descending order\n",
        "indices = np.argsort(importances_features)[::-1]\n",
        "\n",
        "# Rearrange feature names so they match the sorted feature importances\n",
        "names = [df_bank.columns[i] for i in indices]\n",
        "\n",
        "# Create plot\n",
        "plt.figure()\n",
        "\n",
        "# Create plot title\n",
        "plt.title(\"Feature Importance\")\n",
        "\n",
        "# Add bars\n",
        "plt.bar(range(X.shape[1]), importances_features[indices])\n",
        "\n",
        "# Add feature names as x-axis labels\n",
        "plt.xticks(range(X.shape[1]), names, rotation=90)\n",
        "\n",
        "# Show plot\n",
        "plt.show()"
      ],
      "execution_count": null,
      "outputs": [
        {
          "output_type": "display_data",
          "data": {
            "image/png": "[encoded data removed]",
            "text/plain": [
              "<Figure size 432x288 with 1 Axes>"
            ]
          },
          "metadata": {
            "tags": [],
            "needs_background": "light"
          }
        }
      ]
    },
    {
      "cell_type": "markdown",
      "metadata": {
        "id": "eJ7CvAX9y5cy"
      },
      "source": [
        "The above plot show feature importance to predict if the client will subscribe to a new insurance plan (variable Client_Subscribed)."
      ]
    },
    {
      "cell_type": "markdown",
      "metadata": {
        "id": "QMO6SYkkC9zq"
      },
      "source": [
        "\n",
        "XGBoost classifier has an accuracy of 91% when predicting the client will buy a new insurance plan.\n"
      ]
    },
    {
      "cell_type": "markdown",
      "metadata": {
        "id": "ZsFb3NOLw2g7"
      },
      "source": [
        "# Adaboost"
      ]
    },
    {
      "cell_type": "markdown",
      "metadata": {
        "id": "NPQo8F0cyg4O"
      },
      "source": [
        "## Model Development"
      ]
    },
    {
      "cell_type": "code",
      "metadata": {
        "id": "wUagufa6ykFE"
      },
      "source": [
        "from sklearn.ensemble import AdaBoostClassifier"
      ],
      "execution_count": null,
      "outputs": []
    },
    {
      "cell_type": "code",
      "metadata": {
        "id": "Hui8UzpZymFC"
      },
      "source": [
        "#Create Adaboost model\n",
        "adb_model = AdaBoostClassifier(n_estimators=500,random_state=0)"
      ],
      "execution_count": null,
      "outputs": []
    },
    {
      "cell_type": "code",
      "metadata": {
        "id": "OYuZJVI-yoik",
        "colab": {
          "base_uri": "https://localhost:8080/",
          "height": 52
        },
        "outputId": "c34471fa-54a9-4920-c3cf-0d9e77c749d3"
      },
      "source": [
        "#Fit the adaboost model on training data\n",
        "adb_model.fit(X_train, y_train)"
      ],
      "execution_count": null,
      "outputs": [
        {
          "output_type": "execute_result",
          "data": {
            "text/plain": [
              "AdaBoostClassifier(algorithm='SAMME.R', base_estimator=None, learning_rate=1.0,\n",
              "                   n_estimators=500, random_state=0)"
            ]
          },
          "metadata": {
            "tags": []
          },
          "execution_count": 76
        }
      ]
    },
    {
      "cell_type": "markdown",
      "metadata": {
        "id": "tHuI4pCSytOk"
      },
      "source": [
        "## Predicting the test set results and caculating the accuracy"
      ]
    },
    {
      "cell_type": "code",
      "metadata": {
        "id": "0A2xTC2yyt4b"
      },
      "source": [
        "pred_adb = adb_model.predict(X_test)"
      ],
      "execution_count": null,
      "outputs": []
    },
    {
      "cell_type": "code",
      "metadata": {
        "id": "OJn7l1_2yz7q",
        "colab": {
          "base_uri": "https://localhost:8080/",
          "height": 35
        },
        "outputId": "8aa711c4-df6b-47bc-c2a7-66b58265989c"
      },
      "source": [
        "print('Accuracy of Adaboost classifier on train set: {:.2f}'.format(adb_model.score(X_train, y_train)))"
      ],
      "execution_count": null,
      "outputs": [
        {
          "output_type": "stream",
          "text": [
            "Accuracy of Adaboost classifier on train set: 0.91\n"
          ],
          "name": "stdout"
        }
      ]
    },
    {
      "cell_type": "code",
      "metadata": {
        "id": "z4euX97qywtC",
        "colab": {
          "base_uri": "https://localhost:8080/",
          "height": 35
        },
        "outputId": "a83993c0-5229-463e-cbdc-ff618e4148b3"
      },
      "source": [
        "print('Accuracy of Adaboost classifier on test set: {:.2f}'.format(adb_model.score(X_test, y_test)))"
      ],
      "execution_count": null,
      "outputs": [
        {
          "output_type": "stream",
          "text": [
            "Accuracy of Adaboost classifier on test set: 0.91\n"
          ],
          "name": "stdout"
        }
      ]
    },
    {
      "cell_type": "markdown",
      "metadata": {
        "id": "3QqFB6Ydy5JQ"
      },
      "source": [
        "## Confusion Matrix"
      ]
    },
    {
      "cell_type": "code",
      "metadata": {
        "id": "Rf0ebB8-y25l",
        "colab": {
          "base_uri": "https://localhost:8080/",
          "height": 70
        },
        "outputId": "9e3fde83-83f5-41c3-fe04-1746fda13057"
      },
      "source": [
        "from sklearn.metrics import confusion_matrix\n",
        "print(\"Confusion matrix for Adaboost forest:\")\n",
        "confusion_matrix_adb = confusion_matrix(y_test, pred_adb)\n",
        "print(confusion_matrix_adb )"
      ],
      "execution_count": null,
      "outputs": [
        {
          "output_type": "stream",
          "text": [
            "Confusion matrix for Adaboost forest:\n",
            "[[10626   339]\n",
            " [  826   566]]\n"
          ],
          "name": "stdout"
        }
      ]
    },
    {
      "cell_type": "markdown",
      "metadata": {
        "id": "iFQQwR98y5dH"
      },
      "source": [
        "True Negative is 10626 that means 10626 observations are correctly predicted as 0.\n",
        "\n",
        "False Positive is 339 that means 339 observations are wrongly predicted as 1.\n",
        "\n",
        "False Negative is 826 that means 826 observations are wronly predicted as 0.\n",
        "\n",
        "True Positive is 566 that 566 observations are correctly predicted as 1."
      ]
    },
    {
      "cell_type": "markdown",
      "metadata": {
        "id": "C2LxSVDky9bw"
      },
      "source": [
        "## Classification report"
      ]
    },
    {
      "cell_type": "code",
      "metadata": {
        "id": "Auh-_KTxy8l2",
        "colab": {
          "base_uri": "https://localhost:8080/",
          "height": 195
        },
        "outputId": "6fe7f0f8-bdf1-4840-cfd7-dc9323d1bd7b"
      },
      "source": [
        "from sklearn.metrics import classification_report\n",
        "print(\"Classification report for Adaboost model:\")\n",
        "print(classification_report(y_test, pred_adb))"
      ],
      "execution_count": null,
      "outputs": [
        {
          "output_type": "stream",
          "text": [
            "Classification report for Adaboost model:\n",
            "              precision    recall  f1-score   support\n",
            "\n",
            "           0       0.93      0.97      0.95     10965\n",
            "           1       0.63      0.41      0.49      1392\n",
            "\n",
            "    accuracy                           0.91     12357\n",
            "   macro avg       0.78      0.69      0.72     12357\n",
            "weighted avg       0.89      0.91      0.90     12357\n",
            "\n"
          ],
          "name": "stdout"
        }
      ]
    },
    {
      "cell_type": "markdown",
      "metadata": {
        "id": "UxM2EC8dXbRC"
      },
      "source": [
        "# ROC Curve"
      ]
    },
    {
      "cell_type": "code",
      "metadata": {
        "id": "zY0SV9T0XbRE",
        "colab": {
          "base_uri": "https://localhost:8080/",
          "height": 301
        },
        "outputId": "092f8b69-a890-4ce1-ae85-80ebc8562e15"
      },
      "source": [
        "#import metrics from sklearn to calculate auc score\n",
        "from sklearn.metrics import roc_auc_score\n",
        "from sklearn.metrics import roc_curve\n",
        "from sklearn.metrics import auc\n",
        "\n",
        "\n",
        "#Calculating false positive rate and true positive rate\n",
        "false_positive_rate, true_positive_rate, thresholds = roc_curve(y_test, pred_adb)\n",
        "    \n",
        "#Calculating AUC score\n",
        "roc_auc = auc(false_positive_rate, true_positive_rate)\n",
        "\n",
        "# create a figure object\n",
        "plt.figure()\n",
        "\n",
        "#plot false positive rate value and true positive rate value and area under curve value\n",
        "plt.plot(false_positive_rate, true_positive_rate, label='Random Forest (area = %0.2f)' % roc_auc)\n",
        "\n",
        "#dignal dotted red line\n",
        "plt.plot([0, 1], [0, 1],'r--')\n",
        "\n",
        "#x-axis limitation\n",
        "plt.xlim([0.0, 1.0])\n",
        "\n",
        "#y-axis limitaion\n",
        "plt.ylim([0.0, 1.05])\n",
        "\n",
        "#x-axis label\n",
        "plt.xlabel('False Positive Rate')\n",
        "\n",
        "#y-axis label\n",
        "plt.ylabel('True Positive Rate')\n",
        "\n",
        "#title for plot\n",
        "plt.title('Receiver operating characteristic')\n",
        "\n",
        "#print legend on lower right\n",
        "plt.legend(loc=\"lower right\")\n",
        "\n",
        "#save the plot as a image\n",
        "plt.savefig('Log_ROC')\n",
        "#print the plot\n",
        "plt.show()"
      ],
      "execution_count": null,
      "outputs": [
        {
          "output_type": "display_data",
          "data": {
            "image/png": "[encoded data removed]",
            "text/plain": [
              "<Figure size 432x288 with 1 Axes>"
            ]
          },
          "metadata": {
            "tags": [],
            "needs_background": "light"
          }
        }
      ]
    },
    {
      "cell_type": "markdown",
      "metadata": {
        "id": "yWCcC7QYy5dM"
      },
      "source": [
        "Roc curve is a plot of true positive rate versus false positive rate. The closer the curve follows the left-hand border and then the top border of the ROC space, the more accurate the test. The area under the curve (AUC) is a measure of test accuracy. When AUC is 0.69, it means there is 69% chance that model will be able to distinguish between positive class and negative class\n"
      ]
    },
    {
      "cell_type": "markdown",
      "metadata": {
        "id": "kVaPVaujXbRG"
      },
      "source": [
        "## View Feature Importance"
      ]
    },
    {
      "cell_type": "code",
      "metadata": {
        "id": "RrafoPwDXbRI"
      },
      "source": [
        "importances_features =adb_model.feature_importances_"
      ],
      "execution_count": null,
      "outputs": []
    },
    {
      "cell_type": "code",
      "metadata": {
        "id": "1sQOWcgxXbRK",
        "colab": {
          "base_uri": "https://localhost:8080/",
          "height": 434
        },
        "outputId": "5faec864-c0c7-4cc7-aed6-e441036abb66"
      },
      "source": [
        "# Sort feature importances in descending order\n",
        "indices = np.argsort(importances_features)[::-1]\n",
        "\n",
        "# Rearrange feature names so they match the sorted feature importances\n",
        "names = [df_bank.columns[i] for i in indices]\n",
        "\n",
        "# Create plot\n",
        "plt.figure()\n",
        "\n",
        "# Create plot title\n",
        "plt.title(\"Feature Importance\")\n",
        "\n",
        "# Add bars\n",
        "plt.bar(range(X.shape[1]), importances_features[indices])\n",
        "\n",
        "# Add feature names as x-axis labels\n",
        "plt.xticks(range(X.shape[1]), names, rotation=90)\n",
        "\n",
        "# Show plot\n",
        "plt.show()"
      ],
      "execution_count": null,
      "outputs": [
        {
          "output_type": "display_data",
          "data": {
            "image/png": "[encoded data removed]",
            "text/plain": [
              "<Figure size 432x288 with 1 Axes>"
            ]
          },
          "metadata": {
            "tags": [],
            "needs_background": "light"
          }
        }
      ]
    },
    {
      "cell_type": "markdown",
      "metadata": {
        "id": "T5Hp0dBky5dP"
      },
      "source": [
        "The above plot show feature importance to predict if the client will subscribe to a new insurance plan (variable Client_Subscribed)."
      ]
    },
    {
      "cell_type": "markdown",
      "metadata": {
        "id": "UOaS18hay5dP"
      },
      "source": [
        "Adaboost classifier has an accuracy of 91% when predicting the client will buy a new insurance plan."
      ]
    },
    {
      "cell_type": "markdown",
      "metadata": {
        "id": "6kQ9J0wqy5dP"
      },
      "source": [
        "# Conclusion"
      ]
    },
    {
      "cell_type": "code",
      "metadata": {
        "id": "vNQEgiT9y5dQ"
      },
      "source": [
        "import pandas as pd\n",
        "\n",
        "df_accuracy= pd.DataFrame({\"Random Forest\":{\"Accuracy on train data\":\"99%\",\"Accuracy on test data\":\"91%\",\"F1 Score for 'No'\":\"95%\",\"F1 Score for 'Yes'\":\"53%\",\"AUC Score\":\"71%\"},\n",
        "                  \"XGBoost\":{\"Accuracy on train data\":\"94%\",\"Accuracy on test data\":\"91%\",\"F1 Score for 'No'\":\"95%\",\"F1 Score for 'Yes'\":\"55%\",\"AUC Score\":\"73%\"},\n",
        "                  \"Adaboost\":{\"Accuracy on train data\":\"91%\",\"Accuracy on test data\":\"91%\",\"F1 Score for 'No'\":\"95%\",\"F1 Score for 'Yes'\":\"49%\",\"AUC Score\":\"69%\"}})"
      ],
      "execution_count": null,
      "outputs": []
    },
    {
      "cell_type": "code",
      "metadata": {
        "id": "S7rmCgrCy5dR",
        "colab": {
          "base_uri": "https://localhost:8080/",
          "height": 194
        },
        "outputId": "a19c1ec2-aa4e-4ea2-b6fc-99b86e0dc868"
      },
      "source": [
        "df_accuracy"
      ],
      "execution_count": null,
      "outputs": [
        {
          "output_type": "execute_result",
          "data": {
            "text/html": [
              "<div>\n",
              "<style scoped>\n",
              "    .dataframe tbody tr th:only-of-type {\n",
              "        vertical-align: middle;\n",
              "    }\n",
              "\n",
              "    .dataframe tbody tr th {\n",
              "        vertical-align: top;\n",
              "    }\n",
              "\n",
              "    .dataframe thead th {\n",
              "        text-align: right;\n",
              "    }\n",
              "</style>\n",
              "<table border=\"1\" class=\"dataframe\">\n",
              "  <thead>\n",
              "    <tr style=\"text-align: right;\">\n",
              "      <th></th>\n",
              "      <th>Random Forest</th>\n",
              "      <th>XGBoost</th>\n",
              "      <th>Adaboost</th>\n",
              "    </tr>\n",
              "  </thead>\n",
              "  <tbody>\n",
              "    <tr>\n",
              "      <th>Accuracy on train data</th>\n",
              "      <td>99%</td>\n",
              "      <td>94%</td>\n",
              "      <td>91%</td>\n",
              "    </tr>\n",
              "    <tr>\n",
              "      <th>Accuracy on test data</th>\n",
              "      <td>91%</td>\n",
              "      <td>91%</td>\n",
              "      <td>91%</td>\n",
              "    </tr>\n",
              "    <tr>\n",
              "      <th>F1 Score for 'No'</th>\n",
              "      <td>95%</td>\n",
              "      <td>95%</td>\n",
              "      <td>95%</td>\n",
              "    </tr>\n",
              "    <tr>\n",
              "      <th>F1 Score for 'Yes'</th>\n",
              "      <td>53%</td>\n",
              "      <td>55%</td>\n",
              "      <td>49%</td>\n",
              "    </tr>\n",
              "    <tr>\n",
              "      <th>AUC Score</th>\n",
              "      <td>71%</td>\n",
              "      <td>73%</td>\n",
              "      <td>69%</td>\n",
              "    </tr>\n",
              "  </tbody>\n",
              "</table>\n",
              "</div>"
            ],
            "text/plain": [
              "                       Random Forest XGBoost Adaboost\n",
              "Accuracy on train data           99%     94%      91%\n",
              "Accuracy on test data            91%     91%      91%\n",
              "F1 Score for 'No'                95%     95%      95%\n",
              "F1 Score for 'Yes'               53%     55%      49%\n",
              "AUC Score                        71%     73%      69%"
            ]
          },
          "metadata": {
            "tags": []
          },
          "execution_count": 86
        }
      ]
    },
    {
      "cell_type": "markdown",
      "metadata": {
        "id": "cSqtKPSby5dT"
      },
      "source": [
        "This dataset is an imbalanced dataset so we consider AUC as our main score.\n",
        "\n",
        "Since the AUC Score of XGBoost is better than the other two models.\n",
        "Even the F1 score for 'Yes' is higher in terms of percentage we consider XGBoost as a better model to predict whether the client will buy a new insurance plan or not.\n",
        "\n"
      ]
    }
  ]
}